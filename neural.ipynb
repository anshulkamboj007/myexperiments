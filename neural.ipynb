{
 "cells": [
  {
   "cell_type": "code",
   "execution_count": 8,
   "metadata": {},
   "outputs": [],
   "source": [
    "import pandas as pd\n",
    "import numpy as np\n",
    "import tensorflow as tf\n",
    "import matplotlib.pyplot as plt"
   ]
  },
  {
   "cell_type": "code",
   "execution_count": 2,
   "metadata": {},
   "outputs": [
    {
     "name": "stdout",
     "output_type": "stream",
     "text": [
      "Downloading data from https://storage.googleapis.com/tensorflow/tf-keras-datasets/train-labels-idx1-ubyte.gz\n",
      "29515/29515 [==============================] - 0s 0us/step\n",
      "Downloading data from https://storage.googleapis.com/tensorflow/tf-keras-datasets/train-images-idx3-ubyte.gz\n",
      "26421880/26421880 [==============================] - 4s 0us/step\n",
      "Downloading data from https://storage.googleapis.com/tensorflow/tf-keras-datasets/t10k-labels-idx1-ubyte.gz\n",
      "5148/5148 [==============================] - 0s 0s/step\n",
      "Downloading data from https://storage.googleapis.com/tensorflow/tf-keras-datasets/t10k-images-idx3-ubyte.gz\n",
      "4422102/4422102 [==============================] - 0s 0us/step\n"
     ]
    }
   ],
   "source": [
    "fashion_mnist=tf.keras.datasets.fashion_mnist.load_data()\n",
    "(x_train_full,y_train_full),(x_test,y_test)=fashion_mnist\n",
    "x_train,y_train=x_train_full[:-5000],y_train_full[:-5000]\n",
    "x_valid,y_valid=x_train_full[-5000:],y_train_full[-5000:]"
   ]
  },
  {
   "cell_type": "code",
   "execution_count": 3,
   "metadata": {},
   "outputs": [
    {
     "data": {
      "text/plain": [
       "(55000, 28, 28)"
      ]
     },
     "execution_count": 3,
     "metadata": {},
     "output_type": "execute_result"
    }
   ],
   "source": [
    "x_train.shape"
   ]
  },
  {
   "cell_type": "code",
   "execution_count": 4,
   "metadata": {},
   "outputs": [
    {
     "data": {
      "text/plain": [
       "dtype('uint8')"
      ]
     },
     "execution_count": 4,
     "metadata": {},
     "output_type": "execute_result"
    }
   ],
   "source": [
    "x_train.dtype"
   ]
  },
  {
   "cell_type": "code",
   "execution_count": 6,
   "metadata": {},
   "outputs": [],
   "source": [
    "x_train,x_valid,x_test=x_train/255.,x_valid/255.,x_test/255."
   ]
  },
  {
   "cell_type": "code",
   "execution_count": 12,
   "metadata": {},
   "outputs": [
    {
     "data": {
      "text/plain": [
       "9"
      ]
     },
     "execution_count": 12,
     "metadata": {},
     "output_type": "execute_result"
    }
   ],
   "source": [
    "y_train[0]"
   ]
  },
  {
   "cell_type": "code",
   "execution_count": 13,
   "metadata": {},
   "outputs": [],
   "source": [
    "class_names = [\"T-shirt/top\", \"Trouser\", \"Pullover\", \"Dress\", \"Coat\",\n",
    "               \"Sandal\", \"Shirt\", \"Sneaker\", \"Bag\", \"Ankle boot\"]"
   ]
  },
  {
   "cell_type": "code",
   "execution_count": 14,
   "metadata": {},
   "outputs": [
    {
     "data": {
      "text/plain": [
       "Text(0.5, 1.0, 'Ankle boot')"
      ]
     },
     "execution_count": 14,
     "metadata": {},
     "output_type": "execute_result"
    },
    {
     "data": {
      "image/png": "[encoded data removed]",
      "text/plain": [
       "<Figure size 640x480 with 1 Axes>"
      ]
     },
     "metadata": {},
     "output_type": "display_data"
    }
   ],
   "source": [
    "plt.imshow(x_train[0],cmap='binary')\n",
    "plt.title(class_names[y_train[0]])"
   ]
  },
  {
   "cell_type": "code",
   "execution_count": 15,
   "metadata": {},
   "outputs": [],
   "source": [
    "tf.random.set_seed(42)\n",
    "model=tf.keras.Sequential()\n",
    "model.add(tf.keras.layers.Input(shape=[28,28]))\n",
    "model.add(tf.keras.layers.Flatten())\n",
    "model.add(tf.keras.layers.Dense(300,activation='relu'))\n",
    "model.add(tf.keras.layers.Dense(100,activation='relu'))\n",
    "model.add(tf.keras.layers.Dense(10,activation='relu'))\n"
   ]
  },
  {
   "cell_type": "code",
   "execution_count": 16,
   "metadata": {},
   "outputs": [
    {
     "name": "stdout",
     "output_type": "stream",
     "text": [
      "Model: \"sequential\"\n",
      "_________________________________________________________________\n",
      " Layer (type)                Output Shape              Param #   \n",
      "=================================================================\n",
      " flatten (Flatten)           (None, 784)               0         \n",
      "                                                                 \n",
      " dense (Dense)               (None, 300)               235500    \n",
      "                                                                 \n",
      " dense_1 (Dense)             (None, 100)               30100     \n",
      "                                                                 \n",
      " dense_2 (Dense)             (None, 10)                1010      \n",
      "                                                                 \n",
      "=================================================================\n",
      "Total params: 266,610\n",
      "Trainable params: 266,610\n",
      "Non-trainable params: 0\n",
      "_________________________________________________________________\n"
     ]
    }
   ],
   "source": [
    "model.summary()"
   ]
  },
  {
   "cell_type": "code",
   "execution_count": 17,
   "metadata": {},
   "outputs": [],
   "source": [
    "model.compile(loss='sparse_categorical_crossentropy',optimizer='sgd',metrics=['accuracy'])"
   ]
  },
  {
   "cell_type": "code",
   "execution_count": 18,
   "metadata": {},
   "outputs": [
    {
     "name": "stdout",
     "output_type": "stream",
     "text": [
      "Epoch 1/30\n",
      "1719/1719 [==============================] - 12s 6ms/step - loss: 9.0030 - accuracy: 0.1121 - val_loss: 9.6201 - val_accuracy: 0.1042\n",
      "Epoch 2/30\n",
      "1719/1719 [==============================] - 10s 6ms/step - loss: 9.6726 - accuracy: 0.0996 - val_loss: 9.6201 - val_accuracy: 0.1042\n",
      "Epoch 3/30\n",
      "1719/1719 [==============================] - 8s 5ms/step - loss: 9.6729 - accuracy: 0.0996 - val_loss: 9.6201 - val_accuracy: 0.1042\n",
      "Epoch 4/30\n",
      "1719/1719 [==============================] - 8s 4ms/step - loss: 9.6729 - accuracy: 0.0996 - val_loss: 9.6201 - val_accuracy: 0.1042\n",
      "Epoch 5/30\n",
      "1719/1719 [==============================] - 8s 5ms/step - loss: 9.6729 - accuracy: 0.0996 - val_loss: 9.6201 - val_accuracy: 0.1042\n",
      "Epoch 6/30\n",
      "1719/1719 [==============================] - 9s 5ms/step - loss: 9.6729 - accuracy: 0.0996 - val_loss: 9.6201 - val_accuracy: 0.1042\n",
      "Epoch 7/30\n",
      "1719/1719 [==============================] - 8s 5ms/step - loss: 9.6729 - accuracy: 0.0996 - val_loss: 9.6201 - val_accuracy: 0.1042\n",
      "Epoch 8/30\n",
      "1719/1719 [==============================] - 8s 5ms/step - loss: 9.6729 - accuracy: 0.0996 - val_loss: 9.6201 - val_accuracy: 0.1042\n",
      "Epoch 9/30\n",
      "1719/1719 [==============================] - 11s 6ms/step - loss: 9.6729 - accuracy: 0.0996 - val_loss: 9.6201 - val_accuracy: 0.1042\n",
      "Epoch 10/30\n",
      "1719/1719 [==============================] - 11s 6ms/step - loss: 9.6729 - accuracy: 0.0996 - val_loss: 9.6201 - val_accuracy: 0.1042\n",
      "Epoch 11/30\n",
      "1719/1719 [==============================] - 12s 7ms/step - loss: 9.6729 - accuracy: 0.0996 - val_loss: 9.6201 - val_accuracy: 0.1042\n",
      "Epoch 12/30\n",
      "1719/1719 [==============================] - 10s 6ms/step - loss: 9.6729 - accuracy: 0.0996 - val_loss: 9.6201 - val_accuracy: 0.1042\n",
      "Epoch 13/30\n",
      "1719/1719 [==============================] - 9s 5ms/step - loss: 9.6729 - accuracy: 0.0996 - val_loss: 9.6201 - val_accuracy: 0.1042\n",
      "Epoch 14/30\n",
      "1719/1719 [==============================] - 9s 5ms/step - loss: 9.6729 - accuracy: 0.0996 - val_loss: 9.6201 - val_accuracy: 0.1042\n",
      "Epoch 15/30\n",
      "1719/1719 [==============================] - 8s 5ms/step - loss: 9.6729 - accuracy: 0.0996 - val_loss: 9.6201 - val_accuracy: 0.1042\n",
      "Epoch 16/30\n",
      "1719/1719 [==============================] - 9s 5ms/step - loss: 9.6729 - accuracy: 0.0996 - val_loss: 9.6201 - val_accuracy: 0.1042\n",
      "Epoch 17/30\n",
      "1719/1719 [==============================] - 10s 6ms/step - loss: 9.6729 - accuracy: 0.0996 - val_loss: 9.6201 - val_accuracy: 0.1042\n",
      "Epoch 18/30\n",
      "1719/1719 [==============================] - 10s 6ms/step - loss: 9.6729 - accuracy: 0.0996 - val_loss: 9.6201 - val_accuracy: 0.1042\n",
      "Epoch 19/30\n",
      "1719/1719 [==============================] - 11s 6ms/step - loss: 9.6729 - accuracy: 0.0996 - val_loss: 9.6201 - val_accuracy: 0.1042\n",
      "Epoch 20/30\n",
      "1719/1719 [==============================] - 8s 5ms/step - loss: 9.6729 - accuracy: 0.0996 - val_loss: 9.6201 - val_accuracy: 0.1042\n",
      "Epoch 21/30\n",
      "1719/1719 [==============================] - 8s 5ms/step - loss: 9.6729 - accuracy: 0.0996 - val_loss: 9.6201 - val_accuracy: 0.1042\n",
      "Epoch 22/30\n",
      "1719/1719 [==============================] - 9s 5ms/step - loss: 9.6729 - accuracy: 0.0996 - val_loss: 9.6201 - val_accuracy: 0.1042\n",
      "Epoch 23/30\n",
      "1719/1719 [==============================] - 8s 5ms/step - loss: 9.6729 - accuracy: 0.0996 - val_loss: 9.6201 - val_accuracy: 0.1042\n",
      "Epoch 24/30\n",
      "1719/1719 [==============================] - 8s 4ms/step - loss: 9.6729 - accuracy: 0.0996 - val_loss: 9.6201 - val_accuracy: 0.1042\n",
      "Epoch 25/30\n",
      "1719/1719 [==============================] - 8s 4ms/step - loss: 9.6729 - accuracy: 0.0996 - val_loss: 9.6201 - val_accuracy: 0.1042\n",
      "Epoch 26/30\n",
      "1719/1719 [==============================] - 8s 5ms/step - loss: 9.6729 - accuracy: 0.0996 - val_loss: 9.6201 - val_accuracy: 0.1042\n",
      "Epoch 27/30\n",
      "1719/1719 [==============================] - 8s 4ms/step - loss: 9.6729 - accuracy: 0.0996 - val_loss: 9.6201 - val_accuracy: 0.1042\n",
      "Epoch 28/30\n",
      "1719/1719 [==============================] - 9s 5ms/step - loss: 9.6729 - accuracy: 0.0996 - val_loss: 9.6201 - val_accuracy: 0.1042\n",
      "Epoch 29/30\n",
      "1719/1719 [==============================] - 8s 5ms/step - loss: 9.6729 - accuracy: 0.0996 - val_loss: 9.6201 - val_accuracy: 0.1042\n",
      "Epoch 30/30\n",
      "1719/1719 [==============================] - 8s 5ms/step - loss: 9.6729 - accuracy: 0.0996 - val_loss: 9.6201 - val_accuracy: 0.1042\n"
     ]
    }
   ],
   "source": [
    "history=model.fit(x_train,y_train,epochs=30,validation_data=(x_valid,y_valid))"
   ]
  },
  {
   "cell_type": "code",
   "execution_count": 19,
   "metadata": {},
   "outputs": [
    {
     "data": {
      "text/plain": [
       "<Axes: xlabel='Epoch'>"
      ]
     },
     "execution_count": 19,
     "metadata": {},
     "output_type": "execute_result"
    },
    {
     "data": {
      "image/png": "[encoded data removed]",
      "text/plain": [
       "<Figure size 800x500 with 1 Axes>"
      ]
     },
     "metadata": {},
     "output_type": "display_data"
    }
   ],
   "source": [
    "pd.DataFrame(history.history).plot(grid=True,xlabel='Epoch',figsize=(8,5),style=['r--','r--.','b-','b-*'])"
   ]
  },
  {
   "cell_type": "code",
   "execution_count": null,
   "metadata": {},
   "outputs": [],
   "source": []
  }
 ],
 "metadata": {
  "kernelspec": {
   "display_name": "base",
   "language": "python",
   "name": "python3"
  },
  "language_info": {
   "codemirror_mode": {
    "name": "ipython",
    "version": 3
   },
   "file_extension": ".py",
   "mimetype": "text/x-python",
   "name": "python",
   "nbconvert_exporter": "python",
   "pygments_lexer": "ipython3",
   "version": "3.10.10"
  },
  "orig_nbformat": 4
 },
 "nbformat": 4,
 "nbformat_minor": 2
}
