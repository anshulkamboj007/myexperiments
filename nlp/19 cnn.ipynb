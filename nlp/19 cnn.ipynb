{
 "cells": [
  {
   "cell_type": "code",
   "execution_count": 1,
   "metadata": {},
   "outputs": [],
   "source": [
    "import pandas as pd\n",
    "import numpy as np\n",
    "import tensorflow as tf\n",
    "import matplotlib.pyplot as plt\n",
    "from sklearn.model_selection import train_test_split\n"
   ]
  },
  {
   "cell_type": "code",
   "execution_count": 2,
   "metadata": {},
   "outputs": [],
   "source": [
    "from tensorflow.keras.preprocessing.text import Tokenizer\n",
    "from tensorflow.keras.preprocessing.sequence import pad_sequences\n",
    "from tensorflow.keras.layers import Dense,Input,GlobalMaxPooling1D\n",
    "from tensorflow.keras.layers import Conv1D,MaxPooling1D,Embedding\n",
    "from tensorflow.keras.models import Model\n",
    "from tensorflow.keras.losses import SparseCategoricalCrossentropy"
   ]
  },
  {
   "cell_type": "code",
   "execution_count": 3,
   "metadata": {},
   "outputs": [],
   "source": [
    "import requests\n",
    "url='https://lazyprogrammer.me/course_files/nlp/bbc_text_cls.csv'\n",
    "r=requests.get(url,allow_redirects=True)\n",
    "\n",
    "\n",
    "from io import StringIO\n",
    "data=StringIO(r.text)\n",
    "\n",
    "df=pd.read_csv(data)"
   ]
  },
  {
   "cell_type": "code",
   "execution_count": 4,
   "metadata": {},
   "outputs": [
    {
     "data": {
      "text/html": [
       "<div>\n",
       "<style scoped>\n",
       "    .dataframe tbody tr th:only-of-type {\n",
       "        vertical-align: middle;\n",
       "    }\n",
       "\n",
       "    .dataframe tbody tr th {\n",
       "        vertical-align: top;\n",
       "    }\n",
       "\n",
       "    .dataframe thead th {\n",
       "        text-align: right;\n",
       "    }\n",
       "</style>\n",
       "<table border=\"1\" class=\"dataframe\">\n",
       "  <thead>\n",
       "    <tr style=\"text-align: right;\">\n",
       "      <th></th>\n",
       "      <th>text</th>\n",
       "      <th>labels</th>\n",
       "    </tr>\n",
       "  </thead>\n",
       "  <tbody>\n",
       "    <tr>\n",
       "      <th>0</th>\n",
       "      <td>Ad sales boost Time Warner profit\\n\\nQuarterly...</td>\n",
       "      <td>business</td>\n",
       "    </tr>\n",
       "    <tr>\n",
       "      <th>1</th>\n",
       "      <td>Dollar gains on Greenspan speech\\n\\nThe dollar...</td>\n",
       "      <td>business</td>\n",
       "    </tr>\n",
       "    <tr>\n",
       "      <th>2</th>\n",
       "      <td>Yukos unit buyer faces loan claim\\n\\nThe owner...</td>\n",
       "      <td>business</td>\n",
       "    </tr>\n",
       "    <tr>\n",
       "      <th>3</th>\n",
       "      <td>High fuel prices hit BA's profits\\n\\nBritish A...</td>\n",
       "      <td>business</td>\n",
       "    </tr>\n",
       "    <tr>\n",
       "      <th>4</th>\n",
       "      <td>Pernod takeover talk lifts Domecq\\n\\nShares in...</td>\n",
       "      <td>business</td>\n",
       "    </tr>\n",
       "  </tbody>\n",
       "</table>\n",
       "</div>"
      ],
      "text/plain": [
       "                                                text    labels\n",
       "0  Ad sales boost Time Warner profit\\n\\nQuarterly...  business\n",
       "1  Dollar gains on Greenspan speech\\n\\nThe dollar...  business\n",
       "2  Yukos unit buyer faces loan claim\\n\\nThe owner...  business\n",
       "3  High fuel prices hit BA's profits\\n\\nBritish A...  business\n",
       "4  Pernod takeover talk lifts Domecq\\n\\nShares in...  business"
      ]
     },
     "execution_count": 4,
     "metadata": {},
     "output_type": "execute_result"
    }
   ],
   "source": [
    "df.head()"
   ]
  },
  {
   "cell_type": "code",
   "execution_count": 5,
   "metadata": {},
   "outputs": [],
   "source": [
    "df['targets']=df['labels'].astype('category').cat.codes\n"
   ]
  },
  {
   "cell_type": "code",
   "execution_count": 6,
   "metadata": {},
   "outputs": [
    {
     "data": {
      "text/plain": [
       "5"
      ]
     },
     "execution_count": 6,
     "metadata": {},
     "output_type": "execute_result"
    }
   ],
   "source": [
    "K=df['targets'].max()+1\n",
    "K"
   ]
  },
  {
   "cell_type": "code",
   "execution_count": 7,
   "metadata": {},
   "outputs": [],
   "source": [
    "df_train,df_test=train_test_split(df,test_size=0.3)"
   ]
  },
  {
   "cell_type": "code",
   "execution_count": 8,
   "metadata": {},
   "outputs": [],
   "source": [
    "MAX_VOCAB_SIZE=2000\n",
    "tokenizer=Tokenizer(num_words=MAX_VOCAB_SIZE)\n",
    "tokenizer.fit_on_texts(df_train['text'])\n",
    "sequences_train=tokenizer.texts_to_sequences(df_train['text'])\n",
    "sequences_test=tokenizer.texts_to_sequences(df_test['text'])"
   ]
  },
  {
   "cell_type": "code",
   "execution_count": 9,
   "metadata": {},
   "outputs": [
    {
     "name": "stdout",
     "output_type": "stream",
     "text": [
      "found 27654 unique tokens\n"
     ]
    }
   ],
   "source": [
    "word2idx=tokenizer.word_index\n",
    "V=len(word2idx)\n",
    "print('found %s unique tokens' %V)"
   ]
  },
  {
   "cell_type": "code",
   "execution_count": 10,
   "metadata": {},
   "outputs": [
    {
     "name": "stdout",
     "output_type": "stream",
     "text": [
      "shape of data train tensor  (1557, 3485)\n"
     ]
    }
   ],
   "source": [
    "data_train=pad_sequences(sequences_train)\n",
    "print('shape of data train tensor ',data_train.shape)"
   ]
  },
  {
   "cell_type": "code",
   "execution_count": 11,
   "metadata": {},
   "outputs": [],
   "source": [
    "T=data_train.shape[1]"
   ]
  },
  {
   "cell_type": "code",
   "execution_count": 12,
   "metadata": {},
   "outputs": [
    {
     "name": "stdout",
     "output_type": "stream",
     "text": [
      "shape of data test tensor (668, 3485)\n"
     ]
    }
   ],
   "source": [
    "data_test=pad_sequences(sequences_test,maxlen=T)\n",
    "print('shape of data test tensor',data_test.shape)"
   ]
  },
  {
   "cell_type": "code",
   "execution_count": 13,
   "metadata": {},
   "outputs": [],
   "source": [
    "D=50\n",
    "i=Input(shape=(T,))\n",
    "x=Embedding(V+1,D)(i)\n",
    "x=Conv1D(32,3,activation='relu')(x)\n",
    "x=GlobalMaxPooling1D()(x)\n",
    "x=Dense(K)(x)\n",
    "\n",
    "model=Model(i,x)"
   ]
  },
  {
   "cell_type": "code",
   "execution_count": 14,
   "metadata": {},
   "outputs": [
    {
     "name": "stdout",
     "output_type": "stream",
     "text": [
      "training model....\n",
      "Epoch 1/50\n",
      "49/49 [==============================] - 14s 235ms/step - loss: 1.5706 - accuracy: 0.3976 - val_loss: 1.4941 - val_accuracy: 0.5704\n",
      "Epoch 2/50\n",
      "49/49 [==============================] - 12s 248ms/step - loss: 1.3506 - accuracy: 0.6789 - val_loss: 1.2004 - val_accuracy: 0.7665\n",
      "Epoch 3/50\n",
      "49/49 [==============================] - 12s 253ms/step - loss: 0.9404 - accuracy: 0.8741 - val_loss: 0.7647 - val_accuracy: 0.8787\n",
      "Epoch 4/50\n",
      "49/49 [==============================] - 14s 276ms/step - loss: 0.5177 - accuracy: 0.9268 - val_loss: 0.4538 - val_accuracy: 0.9027\n",
      "Epoch 5/50\n",
      "49/49 [==============================] - 16s 324ms/step - loss: 0.2849 - accuracy: 0.9512 - val_loss: 0.3179 - val_accuracy: 0.9207\n",
      "Epoch 6/50\n",
      "49/49 [==============================] - 15s 296ms/step - loss: 0.1780 - accuracy: 0.9672 - val_loss: 0.2580 - val_accuracy: 0.9311\n",
      "Epoch 7/50\n",
      "49/49 [==============================] - 14s 285ms/step - loss: 0.1196 - accuracy: 0.9814 - val_loss: 0.2285 - val_accuracy: 0.9401\n",
      "Epoch 8/50\n",
      "49/49 [==============================] - 13s 257ms/step - loss: 0.0836 - accuracy: 0.9917 - val_loss: 0.2077 - val_accuracy: 0.9446\n",
      "Epoch 9/50\n",
      "49/49 [==============================] - 12s 236ms/step - loss: 0.0602 - accuracy: 0.9942 - val_loss: 0.1968 - val_accuracy: 0.9476\n",
      "Epoch 10/50\n",
      "49/49 [==============================] - 12s 244ms/step - loss: 0.0440 - accuracy: 0.9968 - val_loss: 0.1880 - val_accuracy: 0.9491\n",
      "Epoch 11/50\n",
      "49/49 [==============================] - 14s 293ms/step - loss: 0.0331 - accuracy: 0.9994 - val_loss: 0.1818 - val_accuracy: 0.9476\n",
      "Epoch 12/50\n",
      "49/49 [==============================] - 13s 258ms/step - loss: 0.0253 - accuracy: 1.0000 - val_loss: 0.1781 - val_accuracy: 0.9491\n",
      "Epoch 13/50\n",
      "49/49 [==============================] - 12s 238ms/step - loss: 0.0200 - accuracy: 1.0000 - val_loss: 0.1744 - val_accuracy: 0.9506\n",
      "Epoch 14/50\n",
      "49/49 [==============================] - 13s 269ms/step - loss: 0.0160 - accuracy: 1.0000 - val_loss: 0.1737 - val_accuracy: 0.9491\n",
      "Epoch 15/50\n",
      "49/49 [==============================] - 11s 228ms/step - loss: 0.0131 - accuracy: 1.0000 - val_loss: 0.1715 - val_accuracy: 0.9506\n",
      "Epoch 16/50\n",
      "49/49 [==============================] - 11s 228ms/step - loss: 0.0110 - accuracy: 1.0000 - val_loss: 0.1710 - val_accuracy: 0.9491\n",
      "Epoch 17/50\n",
      "49/49 [==============================] - 12s 248ms/step - loss: 0.0093 - accuracy: 1.0000 - val_loss: 0.1701 - val_accuracy: 0.9506\n",
      "Epoch 18/50\n",
      "49/49 [==============================] - 11s 228ms/step - loss: 0.0079 - accuracy: 1.0000 - val_loss: 0.1696 - val_accuracy: 0.9491\n",
      "Epoch 19/50\n",
      "49/49 [==============================] - 11s 227ms/step - loss: 0.0068 - accuracy: 1.0000 - val_loss: 0.1691 - val_accuracy: 0.9506\n",
      "Epoch 20/50\n",
      "49/49 [==============================] - 11s 235ms/step - loss: 0.0059 - accuracy: 1.0000 - val_loss: 0.1689 - val_accuracy: 0.9521\n",
      "Epoch 21/50\n",
      "49/49 [==============================] - 11s 224ms/step - loss: 0.0052 - accuracy: 1.0000 - val_loss: 0.1685 - val_accuracy: 0.9506\n",
      "Epoch 22/50\n",
      "49/49 [==============================] - 11s 227ms/step - loss: 0.0046 - accuracy: 1.0000 - val_loss: 0.1684 - val_accuracy: 0.9506\n",
      "Epoch 23/50\n",
      "49/49 [==============================] - 12s 239ms/step - loss: 0.0041 - accuracy: 1.0000 - val_loss: 0.1682 - val_accuracy: 0.9506\n",
      "Epoch 24/50\n",
      "49/49 [==============================] - 11s 231ms/step - loss: 0.0037 - accuracy: 1.0000 - val_loss: 0.1685 - val_accuracy: 0.9506\n",
      "Epoch 25/50\n",
      "49/49 [==============================] - 11s 225ms/step - loss: 0.0034 - accuracy: 1.0000 - val_loss: 0.1686 - val_accuracy: 0.9506\n",
      "Epoch 26/50\n",
      "49/49 [==============================] - 11s 226ms/step - loss: 0.0030 - accuracy: 1.0000 - val_loss: 0.1687 - val_accuracy: 0.9506\n",
      "Epoch 27/50\n",
      "49/49 [==============================] - 11s 226ms/step - loss: 0.0028 - accuracy: 1.0000 - val_loss: 0.1689 - val_accuracy: 0.9506\n",
      "Epoch 28/50\n",
      "49/49 [==============================] - 13s 275ms/step - loss: 0.0025 - accuracy: 1.0000 - val_loss: 0.1692 - val_accuracy: 0.9506\n",
      "Epoch 29/50\n",
      "49/49 [==============================] - 12s 251ms/step - loss: 0.0023 - accuracy: 1.0000 - val_loss: 0.1693 - val_accuracy: 0.9506\n",
      "Epoch 30/50\n",
      "49/49 [==============================] - 11s 229ms/step - loss: 0.0021 - accuracy: 1.0000 - val_loss: 0.1694 - val_accuracy: 0.9506\n",
      "Epoch 31/50\n",
      "49/49 [==============================] - 11s 225ms/step - loss: 0.0020 - accuracy: 1.0000 - val_loss: 0.1696 - val_accuracy: 0.9506\n",
      "Epoch 32/50\n",
      "49/49 [==============================] - 11s 229ms/step - loss: 0.0018 - accuracy: 1.0000 - val_loss: 0.1700 - val_accuracy: 0.9506\n",
      "Epoch 33/50\n",
      "49/49 [==============================] - 11s 227ms/step - loss: 0.0017 - accuracy: 1.0000 - val_loss: 0.1699 - val_accuracy: 0.9506\n",
      "Epoch 34/50\n",
      "49/49 [==============================] - 12s 251ms/step - loss: 0.0015 - accuracy: 1.0000 - val_loss: 0.1701 - val_accuracy: 0.9521\n",
      "Epoch 35/50\n",
      "49/49 [==============================] - 14s 293ms/step - loss: 0.0014 - accuracy: 1.0000 - val_loss: 0.1703 - val_accuracy: 0.9521\n",
      "Epoch 36/50\n",
      "49/49 [==============================] - 11s 223ms/step - loss: 0.0013 - accuracy: 1.0000 - val_loss: 0.1707 - val_accuracy: 0.9521\n",
      "Epoch 37/50\n",
      "49/49 [==============================] - 11s 224ms/step - loss: 0.0012 - accuracy: 1.0000 - val_loss: 0.1707 - val_accuracy: 0.9536\n",
      "Epoch 38/50\n",
      "49/49 [==============================] - 19s 395ms/step - loss: 0.0012 - accuracy: 1.0000 - val_loss: 0.1709 - val_accuracy: 0.9536\n",
      "Epoch 39/50\n",
      "49/49 [==============================] - 18s 359ms/step - loss: 0.0011 - accuracy: 1.0000 - val_loss: 0.1710 - val_accuracy: 0.9536\n",
      "Epoch 40/50\n",
      "49/49 [==============================] - 12s 238ms/step - loss: 0.0010 - accuracy: 1.0000 - val_loss: 0.1713 - val_accuracy: 0.9536\n",
      "Epoch 41/50\n",
      "49/49 [==============================] - 12s 253ms/step - loss: 9.6517e-04 - accuracy: 1.0000 - val_loss: 0.1713 - val_accuracy: 0.9551\n",
      "Epoch 42/50\n",
      "49/49 [==============================] - 11s 227ms/step - loss: 9.0581e-04 - accuracy: 1.0000 - val_loss: 0.1716 - val_accuracy: 0.9551\n",
      "Epoch 43/50\n",
      "49/49 [==============================] - 13s 257ms/step - loss: 8.5394e-04 - accuracy: 1.0000 - val_loss: 0.1718 - val_accuracy: 0.9551\n",
      "Epoch 44/50\n",
      "49/49 [==============================] - 13s 260ms/step - loss: 8.0458e-04 - accuracy: 1.0000 - val_loss: 0.1721 - val_accuracy: 0.9551\n",
      "Epoch 45/50\n",
      "49/49 [==============================] - 13s 270ms/step - loss: 7.5999e-04 - accuracy: 1.0000 - val_loss: 0.1722 - val_accuracy: 0.9551\n",
      "Epoch 46/50\n",
      "49/49 [==============================] - 12s 241ms/step - loss: 7.1796e-04 - accuracy: 1.0000 - val_loss: 0.1723 - val_accuracy: 0.9551\n",
      "Epoch 47/50\n",
      "49/49 [==============================] - 11s 235ms/step - loss: 6.7923e-04 - accuracy: 1.0000 - val_loss: 0.1726 - val_accuracy: 0.9551\n",
      "Epoch 48/50\n",
      "49/49 [==============================] - 12s 240ms/step - loss: 6.4309e-04 - accuracy: 1.0000 - val_loss: 0.1727 - val_accuracy: 0.9551\n",
      "Epoch 49/50\n",
      "49/49 [==============================] - 12s 234ms/step - loss: 6.0997e-04 - accuracy: 1.0000 - val_loss: 0.1730 - val_accuracy: 0.9551\n",
      "Epoch 50/50\n",
      "49/49 [==============================] - 16s 321ms/step - loss: 5.7898e-04 - accuracy: 1.0000 - val_loss: 0.1734 - val_accuracy: 0.9566\n"
     ]
    }
   ],
   "source": [
    "model.compile(\n",
    "    loss=SparseCategoricalCrossentropy(from_logits=True),\n",
    "    optimizer='adam',metrics=['accuracy']\n",
    ")\n",
    "\n",
    "print('training model....')\n",
    "\n",
    "r=model.fit(data_train,df_train['targets'],epochs=50,validation_data=(data_test,df_test['targets']))"
   ]
  },
  {
   "cell_type": "code",
   "execution_count": 15,
   "metadata": {},
   "outputs": [
    {
     "data": {
      "text/plain": [
       "<matplotlib.legend.Legend at 0x20389c06980>"
      ]
     },
     "execution_count": 15,
     "metadata": {},
     "output_type": "execute_result"
    },
    {
     "data": {
      "image/png": "[encoded data removed]",
      "text/plain": [
       "<Figure size 640x480 with 1 Axes>"
      ]
     },
     "metadata": {},
     "output_type": "display_data"
    }
   ],
   "source": [
    "plt.plot(r.history['loss'],label='train loss')\n",
    "plt.plot(r.history['val_loss'],label='val loss')\n",
    "plt.legend()"
   ]
  },
  {
   "cell_type": "code",
   "execution_count": 16,
   "metadata": {},
   "outputs": [
    {
     "data": {
      "text/plain": [
       "<matplotlib.legend.Legend at 0x2038ae1ed40>"
      ]
     },
     "execution_count": 16,
     "metadata": {},
     "output_type": "execute_result"
    },
    {
     "data": {
      "image/png": "[encoded data removed]",
      "text/plain": [
       "<Figure size 640x480 with 1 Axes>"
      ]
     },
     "metadata": {},
     "output_type": "display_data"
    }
   ],
   "source": [
    "plt.plot(r.history['accuracy'],label='train acc')\n",
    "plt.plot(r.history['val_accuracy'],label='val acc')\n",
    "plt.legend()"
   ]
  },
  {
   "cell_type": "code",
   "execution_count": null,
   "metadata": {},
   "outputs": [],
   "source": []
  }
 ],
 "metadata": {
  "kernelspec": {
   "display_name": "base",
   "language": "python",
   "name": "python3"
  },
  "language_info": {
   "codemirror_mode": {
    "name": "ipython",
    "version": 3
   },
   "file_extension": ".py",
   "mimetype": "text/x-python",
   "name": "python",
   "nbconvert_exporter": "python",
   "pygments_lexer": "ipython3",
   "version": "3.10.10"
  },
  "orig_nbformat": 4
 },
 "nbformat": 4,
 "nbformat_minor": 2
}
