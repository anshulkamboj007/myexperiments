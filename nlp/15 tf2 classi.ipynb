{
 "cells": [
  {
   "cell_type": "code",
   "execution_count": 2,
   "metadata": {},
   "outputs": [],
   "source": [
    "import pandas as pd\n",
    "import numpy as np\n",
    "import seaborn as sns\n",
    "import tensorflow as tf\n",
    "import requests\n",
    "import matplotlib.pyplot as plt\n",
    "from sklearn.model_selection import train_test_split\n",
    "from sklearn.feature_extraction.text import TfidfVectorizer\n",
    "from sklearn.metrics import roc_auc_score,f1_score,confusion_matrix\n",
    "from tensorflow.keras.layers import Dense,Input\n",
    "from tensorflow.keras.models import Model\n",
    "from tensorflow.keras.losses import BinaryCrossentropy\n",
    "from tensorflow.keras.optimizers import Adam\n"
   ]
  },
  {
   "cell_type": "code",
   "execution_count": 3,
   "metadata": {},
   "outputs": [],
   "source": [
    "url = 'https://lazyprogrammer.me/course_files/AirlineTweets.csv'\n",
    "r = requests.get(url, allow_redirects=True)\n",
    "\n",
    "from io import StringIO\n",
    "data = StringIO(r.text)\n",
    "df=pd.read_csv(data,encoding='ISO-8859-1')"
   ]
  },
  {
   "cell_type": "code",
   "execution_count": 4,
   "metadata": {},
   "outputs": [],
   "source": [
    "np.random.seed(0)"
   ]
  },
  {
   "cell_type": "code",
   "execution_count": 5,
   "metadata": {},
   "outputs": [],
   "source": [
    "df=df[['airline_sentiment','text']]"
   ]
  },
  {
   "cell_type": "code",
   "execution_count": 6,
   "metadata": {},
   "outputs": [
    {
     "data": {
      "text/plain": [
       "<Axes: >"
      ]
     },
     "execution_count": 6,
     "metadata": {},
     "output_type": "execute_result"
    },
    {
     "data": {
      "image/png": "[encoded data removed]",
      "text/plain": [
       "<Figure size 640x480 with 1 Axes>"
      ]
     },
     "metadata": {},
     "output_type": "display_data"
    }
   ],
   "source": [
    "df['airline_sentiment'].hist()"
   ]
  },
  {
   "cell_type": "code",
   "execution_count": 7,
   "metadata": {},
   "outputs": [],
   "source": [
    "df=df[df['airline_sentiment']!='neutral'].copy()"
   ]
  },
  {
   "cell_type": "code",
   "execution_count": 8,
   "metadata": {},
   "outputs": [],
   "source": [
    "target_map={'positive':1,'negative':0}\n",
    "df['target']=df['airline_sentiment'].map(target_map)"
   ]
  },
  {
   "cell_type": "code",
   "execution_count": 9,
   "metadata": {},
   "outputs": [
    {
     "data": {
      "text/html": [
       "<div>\n",
       "<style scoped>\n",
       "    .dataframe tbody tr th:only-of-type {\n",
       "        vertical-align: middle;\n",
       "    }\n",
       "\n",
       "    .dataframe tbody tr th {\n",
       "        vertical-align: top;\n",
       "    }\n",
       "\n",
       "    .dataframe thead th {\n",
       "        text-align: right;\n",
       "    }\n",
       "</style>\n",
       "<table border=\"1\" class=\"dataframe\">\n",
       "  <thead>\n",
       "    <tr style=\"text-align: right;\">\n",
       "      <th></th>\n",
       "      <th>airline_sentiment</th>\n",
       "      <th>text</th>\n",
       "      <th>target</th>\n",
       "    </tr>\n",
       "  </thead>\n",
       "  <tbody>\n",
       "    <tr>\n",
       "      <th>1</th>\n",
       "      <td>positive</td>\n",
       "      <td>@VirginAmerica plus you've added commercials t...</td>\n",
       "      <td>1</td>\n",
       "    </tr>\n",
       "    <tr>\n",
       "      <th>3</th>\n",
       "      <td>negative</td>\n",
       "      <td>@VirginAmerica it's really aggressive to blast...</td>\n",
       "      <td>0</td>\n",
       "    </tr>\n",
       "    <tr>\n",
       "      <th>4</th>\n",
       "      <td>negative</td>\n",
       "      <td>@VirginAmerica and it's a really big bad thing...</td>\n",
       "      <td>0</td>\n",
       "    </tr>\n",
       "    <tr>\n",
       "      <th>5</th>\n",
       "      <td>negative</td>\n",
       "      <td>@VirginAmerica seriously would pay $30 a fligh...</td>\n",
       "      <td>0</td>\n",
       "    </tr>\n",
       "    <tr>\n",
       "      <th>6</th>\n",
       "      <td>positive</td>\n",
       "      <td>@VirginAmerica yes, nearly every time I fly VX...</td>\n",
       "      <td>1</td>\n",
       "    </tr>\n",
       "  </tbody>\n",
       "</table>\n",
       "</div>"
      ],
      "text/plain": [
       "  airline_sentiment                                               text  target\n",
       "1          positive  @VirginAmerica plus you've added commercials t...       1\n",
       "3          negative  @VirginAmerica it's really aggressive to blast...       0\n",
       "4          negative  @VirginAmerica and it's a really big bad thing...       0\n",
       "5          negative  @VirginAmerica seriously would pay $30 a fligh...       0\n",
       "6          positive  @VirginAmerica yes, nearly every time I fly VX...       1"
      ]
     },
     "execution_count": 9,
     "metadata": {},
     "output_type": "execute_result"
    }
   ],
   "source": [
    "df.head()"
   ]
  },
  {
   "cell_type": "code",
   "execution_count": 10,
   "metadata": {},
   "outputs": [],
   "source": [
    "df_train,df_test=train_test_split(df,random_state=42)"
   ]
  },
  {
   "cell_type": "code",
   "execution_count": 11,
   "metadata": {},
   "outputs": [],
   "source": [
    "vectorizer =TfidfVectorizer(max_features=2000)\n",
    "X_train=vectorizer.fit_transform(df_train['text'])\n",
    "X_test=vectorizer.transform(df_train['text'])"
   ]
  },
  {
   "cell_type": "code",
   "execution_count": 12,
   "metadata": {},
   "outputs": [],
   "source": [
    "X_train=X_train.toarray()\n",
    "X_test=X_test.toarray()"
   ]
  },
  {
   "cell_type": "code",
   "execution_count": 13,
   "metadata": {},
   "outputs": [],
   "source": [
    "Y_train=df_train['target']\n",
    "Y_test=df_test['target']"
   ]
  },
  {
   "cell_type": "code",
   "execution_count": 14,
   "metadata": {},
   "outputs": [],
   "source": [
    "D=X_train.shape[1]\n"
   ]
  },
  {
   "cell_type": "code",
   "execution_count": 15,
   "metadata": {},
   "outputs": [],
   "source": [
    "i=Input(shape=(D,))\n",
    "x=Dense(1)(i)\n",
    "model=Model(i,x)"
   ]
  },
  {
   "cell_type": "code",
   "execution_count": 16,
   "metadata": {},
   "outputs": [
    {
     "name": "stdout",
     "output_type": "stream",
     "text": [
      "Model: \"model\"\n",
      "_________________________________________________________________\n",
      " Layer (type)                Output Shape              Param #   \n",
      "=================================================================\n",
      " input_1 (InputLayer)        [(None, 2000)]            0         \n",
      "                                                                 \n",
      " dense (Dense)               (None, 1)                 2001      \n",
      "                                                                 \n",
      "=================================================================\n",
      "Total params: 2,001\n",
      "Trainable params: 2,001\n",
      "Non-trainable params: 0\n",
      "_________________________________________________________________\n"
     ]
    }
   ],
   "source": [
    "model.summary()"
   ]
  },
  {
   "cell_type": "code",
   "execution_count": 17,
   "metadata": {},
   "outputs": [],
   "source": [
    "model.compile(loss=BinaryCrossentropy(from_logits=True),optimizer=Adam(learning_rate=0.01),metrics=['accuracy'])"
   ]
  },
  {
   "cell_type": "code",
   "execution_count": 20,
   "metadata": {},
   "outputs": [
    {
     "name": "stdout",
     "output_type": "stream",
     "text": [
      "Epoch 1/40\n",
      "271/271 [==============================] - 1s 3ms/step - loss: 0.2453 - accuracy: 0.8737\n",
      "Epoch 2/40\n",
      "271/271 [==============================] - 1s 2ms/step - loss: 0.2065 - accuracy: 0.9034\n",
      "Epoch 3/40\n",
      "271/271 [==============================] - 0s 2ms/step - loss: 0.1825 - accuracy: 0.9172\n",
      "Epoch 4/40\n",
      "271/271 [==============================] - 0s 2ms/step - loss: 0.1661 - accuracy: 0.9266\n",
      "Epoch 5/40\n",
      "271/271 [==============================] - 0s 2ms/step - loss: 0.1535 - accuracy: 0.9331\n",
      "Epoch 6/40\n",
      "271/271 [==============================] - 0s 2ms/step - loss: 0.1437 - accuracy: 0.9383\n",
      "Epoch 7/40\n",
      "271/271 [==============================] - 0s 2ms/step - loss: 0.1355 - accuracy: 0.9437\n",
      "Epoch 8/40\n",
      "271/271 [==============================] - 0s 2ms/step - loss: 0.1287 - accuracy: 0.9456\n",
      "Epoch 9/40\n",
      "271/271 [==============================] - 0s 2ms/step - loss: 0.1228 - accuracy: 0.9486\n",
      "Epoch 10/40\n",
      "271/271 [==============================] - 0s 2ms/step - loss: 0.1178 - accuracy: 0.9525\n",
      "Epoch 11/40\n",
      "271/271 [==============================] - 0s 2ms/step - loss: 0.1132 - accuracy: 0.9538\n",
      "Epoch 12/40\n",
      "271/271 [==============================] - 0s 2ms/step - loss: 0.1091 - accuracy: 0.9561\n",
      "Epoch 13/40\n",
      "271/271 [==============================] - 0s 2ms/step - loss: 0.1054 - accuracy: 0.9577\n",
      "Epoch 14/40\n",
      "271/271 [==============================] - 1s 2ms/step - loss: 0.1020 - accuracy: 0.9591\n",
      "Epoch 15/40\n",
      "271/271 [==============================] - 1s 2ms/step - loss: 0.0992 - accuracy: 0.9615\n",
      "Epoch 16/40\n",
      "271/271 [==============================] - 1s 3ms/step - loss: 0.0962 - accuracy: 0.9631\n",
      "Epoch 17/40\n",
      "271/271 [==============================] - 1s 2ms/step - loss: 0.0937 - accuracy: 0.9637\n",
      "Epoch 18/40\n",
      "271/271 [==============================] - 1s 2ms/step - loss: 0.0914 - accuracy: 0.9640\n",
      "Epoch 19/40\n",
      "271/271 [==============================] - 0s 2ms/step - loss: 0.0891 - accuracy: 0.9657\n",
      "Epoch 20/40\n",
      "271/271 [==============================] - 0s 2ms/step - loss: 0.0869 - accuracy: 0.9667\n",
      "Epoch 21/40\n",
      "271/271 [==============================] - 0s 2ms/step - loss: 0.0849 - accuracy: 0.9672\n",
      "Epoch 22/40\n",
      "271/271 [==============================] - 0s 2ms/step - loss: 0.0832 - accuracy: 0.9675\n",
      "Epoch 23/40\n",
      "271/271 [==============================] - 1s 2ms/step - loss: 0.0813 - accuracy: 0.9700\n",
      "Epoch 24/40\n",
      "271/271 [==============================] - 0s 2ms/step - loss: 0.0798 - accuracy: 0.9700\n",
      "Epoch 25/40\n",
      "271/271 [==============================] - 1s 3ms/step - loss: 0.0781 - accuracy: 0.9715\n",
      "Epoch 26/40\n",
      "271/271 [==============================] - 1s 2ms/step - loss: 0.0766 - accuracy: 0.9712\n",
      "Epoch 27/40\n",
      "271/271 [==============================] - 1s 2ms/step - loss: 0.0753 - accuracy: 0.9725\n",
      "Epoch 28/40\n",
      "271/271 [==============================] - 0s 2ms/step - loss: 0.0740 - accuracy: 0.9723\n",
      "Epoch 29/40\n",
      "271/271 [==============================] - 0s 2ms/step - loss: 0.0726 - accuracy: 0.9733\n",
      "Epoch 30/40\n",
      "271/271 [==============================] - 0s 2ms/step - loss: 0.0715 - accuracy: 0.9734\n",
      "Epoch 31/40\n",
      "271/271 [==============================] - 0s 2ms/step - loss: 0.0703 - accuracy: 0.9739\n",
      "Epoch 32/40\n",
      "271/271 [==============================] - 0s 2ms/step - loss: 0.0691 - accuracy: 0.9748\n",
      "Epoch 33/40\n",
      "271/271 [==============================] - 0s 2ms/step - loss: 0.0682 - accuracy: 0.9748\n",
      "Epoch 34/40\n",
      "271/271 [==============================] - 0s 2ms/step - loss: 0.0671 - accuracy: 0.9754\n",
      "Epoch 35/40\n",
      "271/271 [==============================] - 0s 2ms/step - loss: 0.0661 - accuracy: 0.9763\n",
      "Epoch 36/40\n",
      "271/271 [==============================] - 1s 2ms/step - loss: 0.0651 - accuracy: 0.9768\n",
      "Epoch 37/40\n",
      "271/271 [==============================] - 0s 2ms/step - loss: 0.0643 - accuracy: 0.9765\n",
      "Epoch 38/40\n",
      "271/271 [==============================] - 0s 2ms/step - loss: 0.0632 - accuracy: 0.9770\n",
      "Epoch 39/40\n",
      "271/271 [==============================] - 0s 2ms/step - loss: 0.0625 - accuracy: 0.9783\n",
      "Epoch 40/40\n",
      "271/271 [==============================] - 0s 2ms/step - loss: 0.0617 - accuracy: 0.9779\n"
     ]
    }
   ],
   "source": [
    "r=model.fit(X_train,Y_train,epochs=40)"
   ]
  },
  {
   "cell_type": "code",
   "execution_count": 21,
   "metadata": {},
   "outputs": [
    {
     "data": {
      "text/plain": [
       "<matplotlib.legend.Legend at 0x1c13d11fca0>"
      ]
     },
     "execution_count": 21,
     "metadata": {},
     "output_type": "execute_result"
    },
    {
     "data": {
      "image/png": "[encoded data removed]",
      "text/plain": [
       "<Figure size 640x480 with 1 Axes>"
      ]
     },
     "metadata": {},
     "output_type": "display_data"
    }
   ],
   "source": [
    "plt.plot(r.history['loss'],label='train_loss')\n",
    "plt.legend()"
   ]
  },
  {
   "cell_type": "code",
   "execution_count": 22,
   "metadata": {},
   "outputs": [],
   "source": [
    "w=model.layers[1].get_weights()[0]"
   ]
  },
  {
   "cell_type": "code",
   "execution_count": null,
   "metadata": {},
   "outputs": [],
   "source": [
    "word_index_map=vectorizer.vocabulary_\n",
    "word_index_map"
   ]
  },
  {
   "cell_type": "code",
   "execution_count": 24,
   "metadata": {},
   "outputs": [
    {
     "name": "stdout",
     "output_type": "stream",
     "text": [
      "most positive words:\n",
      "thank 16.847338\n",
      "worries 16.294302\n",
      "thanks 14.980325\n",
      "excellent 13.568891\n",
      "kudos 12.605176\n",
      "love 12.06318\n",
      "great 11.823298\n",
      "awesome 11.245329\n",
      "hot 9.929128\n",
      "excited 9.837633\n"
     ]
    }
   ],
   "source": [
    "threshold=2\n",
    "print('most positive words:')\n",
    "word_weight_tuples=[]\n",
    "for word,index in word_index_map.items():\n",
    "    weight=w[index,0]\n",
    "    if weight>threshold:\n",
    "        word_weight_tuples.append((word,weight))\n",
    "word_weight_tuples=sorted(word_weight_tuples,key=lambda x:-x[1])\n",
    "for i in range(10):\n",
    "    word,weight=word_weight_tuples[i]\n",
    "    print(word,weight)"
   ]
  },
  {
   "cell_type": "code",
   "execution_count": null,
   "metadata": {},
   "outputs": [],
   "source": []
  }
 ],
 "metadata": {
  "kernelspec": {
   "display_name": "base",
   "language": "python",
   "name": "python3"
  },
  "language_info": {
   "codemirror_mode": {
    "name": "ipython",
    "version": 3
   },
   "file_extension": ".py",
   "mimetype": "text/x-python",
   "name": "python",
   "nbconvert_exporter": "python",
   "pygments_lexer": "ipython3",
   "version": "3.10.10"
  },
  "orig_nbformat": 4
 },
 "nbformat": 4,
 "nbformat_minor": 2
}
