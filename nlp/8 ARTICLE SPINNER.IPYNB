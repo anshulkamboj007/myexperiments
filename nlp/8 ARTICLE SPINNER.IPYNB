{
 "cells": [
  {
   "cell_type": "code",
   "execution_count": 10,
   "metadata": {},
   "outputs": [],
   "source": [
    "import numpy as np\n",
    "import pandas as pd\n",
    "import nltk\n",
    "import textwrap\n",
    "from nltk import word_tokenize\n",
    "from nltk.tokenize.treebank import TreebankWordDetokenizer"
   ]
  },
  {
   "cell_type": "code",
   "execution_count": 8,
   "metadata": {},
   "outputs": [
    {
     "data": {
      "text/html": [
       "<div>\n",
       "<style scoped>\n",
       "    .dataframe tbody tr th:only-of-type {\n",
       "        vertical-align: middle;\n",
       "    }\n",
       "\n",
       "    .dataframe tbody tr th {\n",
       "        vertical-align: top;\n",
       "    }\n",
       "\n",
       "    .dataframe thead th {\n",
       "        text-align: right;\n",
       "    }\n",
       "</style>\n",
       "<table border=\"1\" class=\"dataframe\">\n",
       "  <thead>\n",
       "    <tr style=\"text-align: right;\">\n",
       "      <th></th>\n",
       "      <th>text</th>\n",
       "      <th>labels</th>\n",
       "    </tr>\n",
       "  </thead>\n",
       "  <tbody>\n",
       "    <tr>\n",
       "      <th>0</th>\n",
       "      <td>Ad sales boost Time Warner profit\\n\\nQuarterly...</td>\n",
       "      <td>business</td>\n",
       "    </tr>\n",
       "    <tr>\n",
       "      <th>1</th>\n",
       "      <td>Dollar gains on Greenspan speech\\n\\nThe dollar...</td>\n",
       "      <td>business</td>\n",
       "    </tr>\n",
       "    <tr>\n",
       "      <th>2</th>\n",
       "      <td>Yukos unit buyer faces loan claim\\n\\nThe owner...</td>\n",
       "      <td>business</td>\n",
       "    </tr>\n",
       "    <tr>\n",
       "      <th>3</th>\n",
       "      <td>High fuel prices hit BA's profits\\n\\nBritish A...</td>\n",
       "      <td>business</td>\n",
       "    </tr>\n",
       "    <tr>\n",
       "      <th>4</th>\n",
       "      <td>Pernod takeover talk lifts Domecq\\n\\nShares in...</td>\n",
       "      <td>business</td>\n",
       "    </tr>\n",
       "  </tbody>\n",
       "</table>\n",
       "</div>"
      ],
      "text/plain": [
       "                                                text    labels\n",
       "0  Ad sales boost Time Warner profit\\n\\nQuarterly...  business\n",
       "1  Dollar gains on Greenspan speech\\n\\nThe dollar...  business\n",
       "2  Yukos unit buyer faces loan claim\\n\\nThe owner...  business\n",
       "3  High fuel prices hit BA's profits\\n\\nBritish A...  business\n",
       "4  Pernod takeover talk lifts Domecq\\n\\nShares in...  business"
      ]
     },
     "execution_count": 8,
     "metadata": {},
     "output_type": "execute_result"
    }
   ],
   "source": [
    "import requests\n",
    "url = 'https://lazyprogrammer.me/course_files/nlp/bbc_text_cls.csv'\n",
    "r = requests.get(url, allow_redirects=True)\n",
    "\n",
    "from io import StringIO\n",
    "data = StringIO(r.text)\n",
    "df=pd.read_csv(data)\n",
    "df.head()"
   ]
  },
  {
   "cell_type": "code",
   "execution_count": 11,
   "metadata": {},
   "outputs": [
    {
     "data": {
      "text/plain": [
       "{'business', 'entertainment', 'politics', 'sport', 'tech'}"
      ]
     },
     "execution_count": 11,
     "metadata": {},
     "output_type": "execute_result"
    }
   ],
   "source": [
    "labels=set(df['labels'])\n",
    "labels"
   ]
  },
  {
   "cell_type": "code",
   "execution_count": 12,
   "metadata": {},
   "outputs": [],
   "source": [
    "label='business'"
   ]
  },
  {
   "cell_type": "code",
   "execution_count": 13,
   "metadata": {},
   "outputs": [
    {
     "data": {
      "text/plain": [
       "0    Ad sales boost Time Warner profit\\n\\nQuarterly...\n",
       "1    Dollar gains on Greenspan speech\\n\\nThe dollar...\n",
       "2    Yukos unit buyer faces loan claim\\n\\nThe owner...\n",
       "3    High fuel prices hit BA's profits\\n\\nBritish A...\n",
       "4    Pernod takeover talk lifts Domecq\\n\\nShares in...\n",
       "Name: text, dtype: object"
      ]
     },
     "execution_count": 13,
     "metadata": {},
     "output_type": "execute_result"
    }
   ],
   "source": [
    "texts=df[df['labels']==label]['text']\n",
    "texts.head()"
   ]
  },
  {
   "cell_type": "code",
   "execution_count": 15,
   "metadata": {},
   "outputs": [],
   "source": [
    "probs={}\n",
    "for doc in texts:\n",
    "    lines=doc.split(\"\\n\")\n",
    "    for line in lines:\n",
    "        tokens=word_tokenize(line)\n",
    "        for i in range(len(tokens)-2):\n",
    "            t_0=tokens[i]\n",
    "            t_1=tokens[i+1]\n",
    "            t_2=tokens[i+2]\n",
    "            key=(t_0,t_2)\n",
    "            if key not in probs:\n",
    "                probs[key]={}\n",
    "            if t_1 not in probs[key]:\n",
    "                probs[key][t_1]=1\n",
    "            else:\n",
    "                probs[key][t_1]+=1"
   ]
  },
  {
   "cell_type": "code",
   "execution_count": 17,
   "metadata": {},
   "outputs": [],
   "source": [
    "for key,d in probs.items():\n",
    "    total=sum(d.values())\n",
    "    for k,v in d.items():\n",
    "        d[k]=v/total"
   ]
  },
  {
   "cell_type": "code",
   "execution_count": 21,
   "metadata": {},
   "outputs": [
    {
     "data": {
      "text/plain": [
       "['Ad sales boost Time Warner profit',\n",
       " '',\n",
       " 'Quarterly profits at US media giant TimeWarner jumped 76% to $1.13bn (Â£600m) for the three months to December, from $639m year-earlier.',\n",
       " '',\n",
       " 'The firm, which is now one of the biggest investors in Google, benefited from sales of high-speed internet connections and higher advert sales. TimeWarner said fourth quarter sales rose 2% to $11.1bn from $10.9bn. Its profits were buoyed by one-off gains which offset a profit dip at Warner Bros, and less users for AOL.',\n",
       " '',\n",
       " \"Time Warner said on Friday that it now owns 8% of search-engine Google. But its own internet business, AOL, had has mixed fortunes. It lost 464,000 subscribers in the fourth quarter profits were lower than in the preceding three quarters. However, the company said AOL's underlying profit before exceptional items rose 8% on the back of stronger internet advertising revenues. It hopes to increase subscribers by offering the online service free to TimeWarner internet customers and will try to sign up AOL's existing customers for high-speed broadband. TimeWarner also has to restate 2000 and 2003 results following a probe by the US Securities Exchange Commission (SEC), which is close to concluding.\",\n",
       " '',\n",
       " 'Time Warner\\'s fourth quarter profits were slightly better than analysts\\' expectations. But its film division saw profits slump 27% to $284m, helped by box-office flops Alexander and Catwoman, a sharp contrast to year-earlier, when the third and final film in the Lord of the Rings trilogy boosted results. For the full-year, TimeWarner posted a profit of $3.36bn, up 27% from its 2003 performance, while revenues grew 6.4% to $42.09bn. \"Our financial performance was strong, meeting or exceeding all of our full-year objectives and greatly enhancing our flexibility,\" chairman and chief executive Richard Parsons said. For 2005, TimeWarner is projecting operating earnings growth of around 5%, and also expects higher revenue and wider profit margins.',\n",
       " '',\n",
       " \"TimeWarner is to restate its accounts as part of efforts to resolve an inquiry into AOL by US market regulators. It has already offered to pay $300m to settle charges, in a deal that is under review by the SEC. The company said it was unable to estimate the amount it needed to set aside for legal reserves, which it previously set at $500m. It intends to adjust the way it accounts for a deal with German music publisher Bertelsmann's purchase of a stake in AOL Europe, which it had reported as advertising revenue. It will now book the sale of its stake in AOL Europe as a loss on the value of that stake.\"]"
      ]
     },
     "execution_count": 21,
     "metadata": {},
     "output_type": "execute_result"
    }
   ],
   "source": [
    "texts.iloc[0].split(\"\\n\")"
   ]
  },
  {
   "cell_type": "code",
   "execution_count": 22,
   "metadata": {},
   "outputs": [],
   "source": [
    "def spin_documents(doc):\n",
    "    lines=doc.split(\"\\n\")\n",
    "    output=[]\n",
    "    for line in lines:\n",
    "        if line:\n",
    "            new_line=spin_line(line)\n",
    "        else:\n",
    "            new_line=line\n",
    "        output.append(new_line)\n",
    "    return \"\\n\".join(output)\n"
   ]
  },
  {
   "cell_type": "code",
   "execution_count": 23,
   "metadata": {},
   "outputs": [],
   "source": [
    "detokenizer=TreebankWordDetokenizer()"
   ]
  },
  {
   "cell_type": "code",
   "execution_count": 25,
   "metadata": {},
   "outputs": [
    {
     "data": {
      "text/plain": [
       "'Quarterly profits at US media giant TimeWarner jumped 76% to $1.13bn (Â£600m) for the three months to December, from $639m year-earlier.'"
      ]
     },
     "execution_count": 25,
     "metadata": {},
     "output_type": "execute_result"
    }
   ],
   "source": [
    "texts.iloc[0].split(\"\\n\")[2]"
   ]
  },
  {
   "cell_type": "code",
   "execution_count": 26,
   "metadata": {},
   "outputs": [
    {
     "data": {
      "text/plain": [
       "'Quarterly profits at US media giant TimeWarner jumped 76% to $1.13bn (Â£600m) for the three months to December, from $639m year-earlier.'"
      ]
     },
     "execution_count": 26,
     "metadata": {},
     "output_type": "execute_result"
    }
   ],
   "source": [
    "detokenizer.detokenize(word_tokenize(texts.iloc[0].split(\"\\n\")[2]))"
   ]
  },
  {
   "cell_type": "code",
   "execution_count": 27,
   "metadata": {},
   "outputs": [],
   "source": [
    "def sample_word(d):\n",
    "    p0=np.random.random()\n",
    "    cumulative=0\n",
    "    for t,p in d.items():\n",
    "        cumulative+=p\n",
    "        if p0<cumulative:\n",
    "            return t\n",
    "    assert(False)"
   ]
  },
  {
   "cell_type": "code",
   "execution_count": 37,
   "metadata": {},
   "outputs": [],
   "source": [
    "def spin_line(line):\n",
    "    token=word_tokenize(line)\n",
    "    i=0\n",
    "    output=[token[0]]\n",
    "    while i<(len(token)-2):\n",
    "        t_0=token[i]\n",
    "        t_1=token[i+1]\n",
    "        t_2=token[i+2]\n",
    "        key=(t_0,t_2)\n",
    "        p_dist=probs[key]\n",
    "        if len(p_dist)>1 and np.random.random() <0.3:\n",
    "            middle=sample_word(p_dist)\n",
    "            output.append(t_1)\n",
    "            output.append(\"<\"+ middle +\">\")\n",
    "            output.append(t_2)\n",
    "            i+=2\n",
    "        else:\n",
    "            output.append(t_1)\n",
    "            i+=1\n",
    "    if i ==len(tokens)-2:\n",
    "        output.append(tokens[-1])\n",
    "    return detokenizer.detokenize(output)\n",
    "\n"
   ]
  },
  {
   "cell_type": "code",
   "execution_count": 38,
   "metadata": {},
   "outputs": [],
   "source": [
    "np.random.seed(1234)"
   ]
  },
  {
   "cell_type": "code",
   "execution_count": 39,
   "metadata": {},
   "outputs": [],
   "source": [
    "i=np.random.choice(texts.shape[0])\n",
    "doc=texts.iloc[i]\n",
    "new_doc=spin_documents(doc)"
   ]
  },
  {
   "cell_type": "code",
   "execution_count": 41,
   "metadata": {},
   "outputs": [
    {
     "name": "stdout",
     "output_type": "stream",
     "text": [
      "Bombardier chief to leave\n",
      "\n",
      "Shares in train and plane-making giant\n",
      "Bombardier have fallen to <to> a 10-year low following <against> the\n",
      "departure <hands> of its chief executive and two members of the <key>\n",
      "board\n",
      "\n",
      "Paul Tellier, who <which> was also Bombardier's president\n",
      "<epicentre>, left the company amid an ongoing <Â£80m> restructuring .\n",
      "Laurent Beaudoin, part of the family that controls the Montreal-based\n",
      "firm, will take on <over> the role of CEO under a newly created\n",
      "management structure . Analysts said <believe> the resignations seem\n",
      "to have stemmed from a boardroom dispute . Under Mr Tellier's tenure\n",
      "at the company <subsidy>, which began in January <July> 2003, plans\n",
      "<according> to cut the worldwide workforce of 75,000 by almost\n",
      "<signing> a third <movement> by 2006 were announced . The firm's\n",
      "snowmobile <auto> division and defence services unit were also sold\n",
      "and Bombardier started the development <future> of a new aircraft\n",
      "seating 110 to 135 passengers\n",
      "\n",
      "Mr Tellier had indicated he wanted to\n",
      "stay <expand> at the world <industry>'s top train maker and third\n",
      "largest manufacturer of civil aircraft until the restructuring was\n",
      "complete . But Bombardier has been faced <charged> with a declining\n",
      "share price and profits . Earlier this month the firm <government>\n",
      "said it earned $10m <100m> (Â£19.2m) in <for> the third <third>\n",
      "quarter, down from <from> a profit <bid> of $133m a year <year> ago .\n",
      "\"I understand the board <UK>'s concern that I would not be there for\n",
      "the <the> long-term and the need to develop and execute strategies,\n",
      "and <\"> the need to reshape the management <career> structure at this\n",
      "time,\" <\"> Mr Tellier said in a statement <meeting> on Monday\n",
      "<agriculture>. Bombardier said restructuring plans drawn up by Mr\n",
      "Tellier's would continue to be implemented . Shares in Bombardier lost\n",
      "65 Canadian cents or 25% on <In> the news to 1.90 Canadian dollars\n",
      "before rallying to 2.20 <2.20> Canadian dollars <dollar>.\n"
     ]
    }
   ],
   "source": [
    "print(textwrap.fill(new_doc,replace_whitespace=False,fix_sentence_endings=True))"
   ]
  },
  {
   "cell_type": "code",
   "execution_count": null,
   "metadata": {},
   "outputs": [],
   "source": []
  }
 ],
 "metadata": {
  "kernelspec": {
   "display_name": "base",
   "language": "python",
   "name": "python3"
  },
  "language_info": {
   "codemirror_mode": {
    "name": "ipython",
    "version": 3
   },
   "file_extension": ".py",
   "mimetype": "text/x-python",
   "name": "python",
   "nbconvert_exporter": "python",
   "pygments_lexer": "ipython3",
   "version": "3.10.10"
  },
  "orig_nbformat": 4
 },
 "nbformat": 4,
 "nbformat_minor": 2
}
