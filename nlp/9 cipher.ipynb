{
 "cells": [
  {
   "cell_type": "code",
   "execution_count": 3,
   "metadata": {},
   "outputs": [],
   "source": [
    "import pandas as pd\n",
    "import numpy as np\n",
    "import matplotlib.pyplot as plt\n",
    "import string\n",
    "import random\n",
    "import re\n",
    "import requests\n",
    "import os\n",
    "import textwrap\n",
    "\n"
   ]
  },
  {
   "cell_type": "code",
   "execution_count": 4,
   "metadata": {},
   "outputs": [],
   "source": [
    "letters1=list(string.ascii_lowercase)\n",
    "letters2=list(string.ascii_lowercase)\n",
    "\n",
    "true_mapping={}\n",
    "\n",
    "random.shuffle(letters2)\n",
    "\n",
    "for k,v in zip(letters1,letters2):\n",
    "    true_mapping[k]=v"
   ]
  },
  {
   "cell_type": "code",
   "execution_count": 6,
   "metadata": {},
   "outputs": [
    {
     "data": {
      "text/plain": [
       "{'a': 'b',\n",
       " 'b': 'w',\n",
       " 'c': 's',\n",
       " 'd': 'd',\n",
       " 'e': 'r',\n",
       " 'f': 'y',\n",
       " 'g': 'z',\n",
       " 'h': 'k',\n",
       " 'i': 'x',\n",
       " 'j': 'u',\n",
       " 'k': 'h',\n",
       " 'l': 'v',\n",
       " 'm': 'l',\n",
       " 'n': 'j',\n",
       " 'o': 'p',\n",
       " 'p': 'e',\n",
       " 'q': 'a',\n",
       " 'r': 'q',\n",
       " 's': 'm',\n",
       " 't': 'c',\n",
       " 'u': 'n',\n",
       " 'v': 't',\n",
       " 'w': 'f',\n",
       " 'x': 'o',\n",
       " 'y': 'g',\n",
       " 'z': 'i'}"
      ]
     },
     "execution_count": 6,
     "metadata": {},
     "output_type": "execute_result"
    }
   ],
   "source": [
    "true_mapping"
   ]
  },
  {
   "cell_type": "code",
   "execution_count": null,
   "metadata": {},
   "outputs": [],
   "source": []
  }
 ],
 "metadata": {
  "kernelspec": {
   "display_name": "base",
   "language": "python",
   "name": "python3"
  },
  "language_info": {
   "codemirror_mode": {
    "name": "ipython",
    "version": 3
   },
   "file_extension": ".py",
   "mimetype": "text/x-python",
   "name": "python",
   "nbconvert_exporter": "python",
   "pygments_lexer": "ipython3",
   "version": "3.10.10"
  },
  "orig_nbformat": 4
 },
 "nbformat": 4,
 "nbformat_minor": 2
}
