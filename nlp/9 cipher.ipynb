{
 "cells": [
  {
   "cell_type": "code",
   "execution_count": 10,
   "metadata": {},
   "outputs": [],
   "source": [
    "import pandas as pd\n",
    "import numpy as np\n",
    "import matplotlib.pyplot as plt\n",
    "import string\n",
    "import random\n",
    "import re\n",
    "import requests\n",
    "import os\n",
    "import textwrap\n",
    "\n"
   ]
  },
  {
   "cell_type": "code",
   "execution_count": 11,
   "metadata": {},
   "outputs": [],
   "source": [
    "letters1=list(string.ascii_lowercase)\n",
    "letters2=list(string.ascii_lowercase)\n",
    "\n",
    "true_mapping={}\n",
    "\n",
    "random.shuffle(letters2)\n",
    "\n",
    "for k,v in zip(letters1,letters2):\n",
    "    true_mapping[k]=v"
   ]
  },
  {
   "cell_type": "code",
   "execution_count": 12,
   "metadata": {},
   "outputs": [],
   "source": [
    "M=np.ones((26,26))\n",
    "pi=np.ones(26)\n",
    "\n",
    "def update_transition(ch1,ch2):\n",
    "    i=ord(ch1)-97\n",
    "    j=ord(ch2)-97\n",
    "    M[i,j]+=1\n",
    "\n",
    "def update_pi(ch):\n",
    "    i=ord(ch)-97\n",
    "    logp=np.log(pi[i])\n",
    "\n",
    "    for ch in word[1:]:\n",
    "        j=ord(ch)-97\n",
    "        logp+=np.log(M[i,j])\n",
    "        i=j\n",
    "    return logp\n",
    "\n",
    "def get_sequence_pob(words):\n",
    "    if type(words) ==str:\n",
    "        words=words.split()\n",
    "\n",
    "    logp=0\n",
    "\n",
    "    for word in words:\n",
    "        logp+=get_word_prob(word)\n",
    "    return logp"
   ]
  },
  {
   "cell_type": "code",
   "execution_count": 14,
   "metadata": {},
   "outputs": [
    {
     "name": "stdout",
     "output_type": "stream",
     "text": [
      "downloading moby dick....\n"
     ]
    }
   ],
   "source": [
    "if not os.path.exists('moby_dick.txt'):\n",
    "    print('downloading moby dick....')\n",
    "    r=requests.get('https://lazyprogrammer.me/course_files/moby_dick.txt')\n",
    "    with open('moby_dick.txt','w') as f:\n",
    "        f.write(r.content.decode())"
   ]
  },
  {
   "cell_type": "code",
   "execution_count": null,
   "metadata": {},
   "outputs": [],
   "source": [
    "regex =re.complie('[^a-zA-Z]')\n",
    "\n",
    "for line in open('moby_dick.txt'):\n",
    "    line=line.rstrip()\n",
    "    if line:\n",
    "        line=regex.sub(' ',line)\n",
    "        tokens=line.lower().split()\n",
    "        for token in tokens:\n",
    "            ch0=token[0]\n",
    "            update_pi(ch0)\n",
    "\n",
    "            for ch1 in token[1:]:\n",
    "                update_transition(ch0,ch1)\n",
    "                ch0=ch1\n",
    "pi /=pi.sum()\n",
    "M/=M.sum(axis=1,keepdims=True)"
   ]
  }
 ],
 "metadata": {
  "kernelspec": {
   "display_name": "base",
   "language": "python",
   "name": "python3"
  },
  "language_info": {
   "codemirror_mode": {
    "name": "ipython",
    "version": 3
   },
   "file_extension": ".py",
   "mimetype": "text/x-python",
   "name": "python",
   "nbconvert_exporter": "python",
   "pygments_lexer": "ipython3",
   "version": "3.10.10"
  },
  "orig_nbformat": 4
 },
 "nbformat": 4,
 "nbformat_minor": 2
}
