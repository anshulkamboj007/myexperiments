{
 "cells": [
  {
   "cell_type": "code",
   "execution_count": 21,
   "metadata": {},
   "outputs": [],
   "source": [
    "import pandas as pd\n",
    "import numpy as np\n",
    "import matplotlib.pyplot as plt\n",
    "import string\n",
    "import random\n",
    "import re\n",
    "import requests\n",
    "import os\n",
    "import textwrap\n",
    "\n"
   ]
  },
  {
   "cell_type": "code",
   "execution_count": 22,
   "metadata": {},
   "outputs": [],
   "source": [
    "letters1=list(string.ascii_lowercase)\n",
    "letters2=list(string.ascii_lowercase)\n",
    "\n",
    "true_mapping={}\n",
    "\n",
    "random.shuffle(letters2)\n",
    "\n",
    "for k,v in zip(letters1,letters2):\n",
    "    true_mapping[k]=v"
   ]
  },
  {
   "cell_type": "code",
   "execution_count": 23,
   "metadata": {},
   "outputs": [],
   "source": [
    "M=np.ones((26,26))\n",
    "pi=np.ones(26)\n",
    "\n",
    "def update_transition(ch1,ch2):\n",
    "    i=ord(ch1)-97\n",
    "    j=ord(ch2)-97\n",
    "    M[i,j]+=1\n",
    "\n",
    "def update_pi(ch):\n",
    "    i=ord(ch)-97\n",
    "    logp=np.log(pi[i])\n",
    "\n",
    "    for ch in word[1:]:\n",
    "        j=ord(ch)-97\n",
    "        logp+=np.log(M[i,j])\n",
    "        i=j\n",
    "    return logp\n",
    "\n",
    "def get_sequence_pob(words):\n",
    "    if type(words) ==str:\n",
    "        words=words.split()\n",
    "\n",
    "    logp=0\n",
    "\n",
    "    for word in words:\n",
    "        logp+=get_word_prob(word)\n",
    "    return logp"
   ]
  },
  {
   "cell_type": "code",
   "execution_count": 24,
   "metadata": {},
   "outputs": [],
   "source": [
    "if not os.path.exists('moby_dick.txt'):\n",
    "    print('downloading moby dick....')\n",
    "    r=requests.get('https://lazyprogrammer.me/course_files/moby_dick.txt')\n",
    "    with open('moby_dick.txt','w') as f:\n",
    "        f.write(r.content.decode())"
   ]
  },
  {
   "cell_type": "code",
   "execution_count": 25,
   "metadata": {},
   "outputs": [
    {
     "ename": "NameError",
     "evalue": "name 'word' is not defined",
     "output_type": "error",
     "traceback": [
      "\u001b[1;31m---------------------------------------------------------------------------\u001b[0m",
      "\u001b[1;31mNameError\u001b[0m                                 Traceback (most recent call last)",
      "Cell \u001b[1;32mIn[25], line 10\u001b[0m\n\u001b[0;32m      8\u001b[0m \u001b[39mfor\u001b[39;00m token \u001b[39min\u001b[39;00m tokens:\n\u001b[0;32m      9\u001b[0m     ch0\u001b[39m=\u001b[39mtoken[\u001b[39m0\u001b[39m]\n\u001b[1;32m---> 10\u001b[0m     update_pi(ch0)\n\u001b[0;32m     12\u001b[0m     \u001b[39mfor\u001b[39;00m ch1 \u001b[39min\u001b[39;00m token[\u001b[39m1\u001b[39m:]:\n\u001b[0;32m     13\u001b[0m         update_transition(ch0,ch1)\n",
      "Cell \u001b[1;32mIn[23], line 13\u001b[0m, in \u001b[0;36mupdate_pi\u001b[1;34m(ch)\u001b[0m\n\u001b[0;32m     10\u001b[0m i\u001b[39m=\u001b[39m\u001b[39mord\u001b[39m(ch)\u001b[39m-\u001b[39m\u001b[39m97\u001b[39m\n\u001b[0;32m     11\u001b[0m logp\u001b[39m=\u001b[39mnp\u001b[39m.\u001b[39mlog(pi[i])\n\u001b[1;32m---> 13\u001b[0m \u001b[39mfor\u001b[39;00m ch \u001b[39min\u001b[39;00m word[\u001b[39m1\u001b[39m:]:\n\u001b[0;32m     14\u001b[0m     j\u001b[39m=\u001b[39m\u001b[39mord\u001b[39m(ch)\u001b[39m-\u001b[39m\u001b[39m97\u001b[39m\n\u001b[0;32m     15\u001b[0m     logp\u001b[39m+\u001b[39m\u001b[39m=\u001b[39mnp\u001b[39m.\u001b[39mlog(M[i,j])\n",
      "\u001b[1;31mNameError\u001b[0m: name 'word' is not defined"
     ]
    }
   ],
   "source": [
    "regex =re.compile('[^a-zA-Z]')\n",
    "\n",
    "for line in open('moby_dick.txt'):\n",
    "    line=line.rstrip()\n",
    "    if line:\n",
    "        line=regex.sub(' ',line)\n",
    "        tokens=line.lower().split()\n",
    "        for token in tokens:\n",
    "            ch0=token[0]\n",
    "            update_pi(ch0)\n",
    "\n",
    "            for ch1 in token[1:]:\n",
    "                update_transition(ch0,ch1)\n",
    "                ch0=ch1\n",
    "pi /=pi.sum()\n",
    "M/=M.sum(axis=1,keepdims=True)"
   ]
  },
  {
   "cell_type": "code",
   "execution_count": null,
   "metadata": {},
   "outputs": [],
   "source": [
    "def encode_message(msg):\n",
    "    msg=msg.lower()\n",
    "    msg=regex.sub(' ',msg)\n",
    "    coded_msg=[]\n",
    "    for ch in msg:\n",
    "        coded_ch=ch\n",
    "        if ch in true_maping:\n",
    "            coded_ch=true_mapping[ch]\n",
    "        coded_msg.append(coded_ch)\n",
    "    return ''.join(coded_msg) \n",
    "\n"
   ]
  },
  {
   "cell_type": "code",
   "execution_count": null,
   "metadata": {},
   "outputs": [],
   "source": []
  }
 ],
 "metadata": {
  "kernelspec": {
   "display_name": "base",
   "language": "python",
   "name": "python3"
  },
  "language_info": {
   "codemirror_mode": {
    "name": "ipython",
    "version": 3
   },
   "file_extension": ".py",
   "mimetype": "text/x-python",
   "name": "python",
   "nbconvert_exporter": "python",
   "pygments_lexer": "ipython3",
   "version": "3.10.10"
  },
  "orig_nbformat": 4
 },
 "nbformat": 4,
 "nbformat_minor": 2
}
