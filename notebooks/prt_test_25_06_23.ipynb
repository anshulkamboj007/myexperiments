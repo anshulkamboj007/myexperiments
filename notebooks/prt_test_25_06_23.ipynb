{
  "cells": [
    {
      "cell_type": "code",
      "execution_count": null,
      "metadata": {
        "id": "BtUPe-tYE9Z2"
      },
      "outputs": [],
      "source": [
        "import pandas as pd\n",
        "import numpy as np"
      ]
    },
    {
      "cell_type": "code",
      "execution_count": null,
      "metadata": {
        "id": "VeBcUZp5GShG"
      },
      "outputs": [],
      "source": [
        "df=pd.read_csv('/content/Flight_data.csv')"
      ]
    },
    {
      "cell_type": "code",
      "execution_count": null,
      "metadata": {
        "colab": {
          "base_uri": "https://localhost:8080/",
          "height": 412
        },
        "id": "hi-BzRfSGfEU",
        "outputId": "d8cd2338-39c8-4b31-8bb8-183ad937808c"
      },
      "outputs": [
        {
          "data": {
            "text/html": [
              "\n",
              "  <div id=\"df-8689fb11-1c81-4229-a701-675bc18690bd\">\n",
              "    <div class=\"colab-df-container\">\n",
              "      <div>\n",
              "<style scoped>\n",
              "    .dataframe tbody tr th:only-of-type {\n",
              "        vertical-align: middle;\n",
              "    }\n",
              "\n",
              "    .dataframe tbody tr th {\n",
              "        vertical-align: top;\n",
              "    }\n",
              "\n",
              "    .dataframe thead th {\n",
              "        text-align: right;\n",
              "    }\n",
              "</style>\n",
              "<table border=\"1\" class=\"dataframe\">\n",
              "  <thead>\n",
              "    <tr style=\"text-align: right;\">\n",
              "      <th></th>\n",
              "      <th>Departure City</th>\n",
              "      <th>Arrival City</th>\n",
              "      <th>Departure Date</th>\n",
              "      <th>Flight Duration</th>\n",
              "      <th>Delay Minutes</th>\n",
              "      <th>Customer ID</th>\n",
              "      <th>Name</th>\n",
              "      <th>Booking Class</th>\n",
              "      <th>Frequent Flyer Status</th>\n",
              "      <th>Route</th>\n",
              "      <th>Ticket Price</th>\n",
              "      <th>Competitor Price</th>\n",
              "      <th>Demand</th>\n",
              "      <th>Origin</th>\n",
              "      <th>Destination</th>\n",
              "      <th>Profitability</th>\n",
              "      <th>Loyalty Points</th>\n",
              "      <th>Churned</th>\n",
              "    </tr>\n",
              "  </thead>\n",
              "  <tbody>\n",
              "    <tr>\n",
              "      <th>0</th>\n",
              "      <td>Wilsonstad</td>\n",
              "      <td>Lake Johnmouth</td>\n",
              "      <td>2023-05-02 20:11:09</td>\n",
              "      <td>1.27581</td>\n",
              "      <td>120</td>\n",
              "      <td>3769</td>\n",
              "      <td>Daniel Oliver</td>\n",
              "      <td>Business</td>\n",
              "      <td>Gold</td>\n",
              "      <td>MEL-BNE</td>\n",
              "      <td>370.638128</td>\n",
              "      <td>382.947396</td>\n",
              "      <td>-0.932755</td>\n",
              "      <td>MEL</td>\n",
              "      <td>LHR</td>\n",
              "      <td>0.632226</td>\n",
              "      <td>4245</td>\n",
              "      <td>True</td>\n",
              "    </tr>\n",
              "    <tr>\n",
              "      <th>1</th>\n",
              "      <td>New Brent</td>\n",
              "      <td>Port Wanda</td>\n",
              "      <td>2023-04-21 00:10:14</td>\n",
              "      <td>1.27581</td>\n",
              "      <td>35</td>\n",
              "      <td>3529</td>\n",
              "      <td>Deborah Hall</td>\n",
              "      <td>Economy</td>\n",
              "      <td>Platinum</td>\n",
              "      <td>BNE-SYD</td>\n",
              "      <td>114.529016</td>\n",
              "      <td>394.583641</td>\n",
              "      <td>-1.005569</td>\n",
              "      <td>MEL</td>\n",
              "      <td>SIN</td>\n",
              "      <td>1.265026</td>\n",
              "      <td>833</td>\n",
              "      <td>True</td>\n",
              "    </tr>\n",
              "    <tr>\n",
              "      <th>2</th>\n",
              "      <td>South Samanthaberg</td>\n",
              "      <td>Lake Meganside</td>\n",
              "      <td>2023-05-12 15:16:31</td>\n",
              "      <td>0.72111</td>\n",
              "      <td>67</td>\n",
              "      <td>1303</td>\n",
              "      <td>Mary York</td>\n",
              "      <td>Economy</td>\n",
              "      <td>Platinum</td>\n",
              "      <td>MEL-BNE</td>\n",
              "      <td>164.468018</td>\n",
              "      <td>479.832444</td>\n",
              "      <td>1.761384</td>\n",
              "      <td>MEL</td>\n",
              "      <td>LAX</td>\n",
              "      <td>1.141651</td>\n",
              "      <td>2568</td>\n",
              "      <td>True</td>\n",
              "    </tr>\n",
              "    <tr>\n",
              "      <th>3</th>\n",
              "      <td>Lake Gracefurt</td>\n",
              "      <td>Jamesberg</td>\n",
              "      <td>2023-06-13 20:53:09</td>\n",
              "      <td>-0.94299</td>\n",
              "      <td>72</td>\n",
              "      <td>2965</td>\n",
              "      <td>Christina Sanchez</td>\n",
              "      <td>Economy</td>\n",
              "      <td>Gold</td>\n",
              "      <td>BNE-SYD</td>\n",
              "      <td>318.903167</td>\n",
              "      <td>286.301632</td>\n",
              "      <td>-0.520139</td>\n",
              "      <td>MEL</td>\n",
              "      <td>LAX</td>\n",
              "      <td>1.129291</td>\n",
              "      <td>284</td>\n",
              "      <td>True</td>\n",
              "    </tr>\n",
              "  </tbody>\n",
              "</table>\n",
              "</div>\n",
              "      <button class=\"colab-df-convert\" onclick=\"convertToInteractive('df-8689fb11-1c81-4229-a701-675bc18690bd')\"\n",
              "              title=\"Convert this dataframe to an interactive table.\"\n",
              "              style=\"display:none;\">\n",
              "        \n",
              "  <svg xmlns=\"http://www.w3.org/2000/svg\" height=\"24px\"viewBox=\"0 0 24 24\"\n",
              "       width=\"24px\">\n",
              "    <path d=\"M0 0h24v24H0V0z\" fill=\"none\"/>\n",
              "    <path d=\"M18.56 5.44l.94 2.06.94-2.06 2.06-.94-2.06-.94-.94-2.06-.94 2.06-2.06.94zm-11 1L8.5 8.5l.94-2.06 2.06-.94-2.06-.94L8.5 2.5l-.94 2.06-2.06.94zm10 10l.94 2.06.94-2.06 2.06-.94-2.06-.94-.94-2.06-.94 2.06-2.06.94z\"/><path d=\"M17.41 7.96l-1.37-1.37c-.4-.4-.92-.59-1.43-.59-.52 0-1.04.2-1.43.59L10.3 9.45l-7.72 7.72c-.78.78-.78 2.05 0 2.83L4 21.41c.39.39.9.59 1.41.59.51 0 1.02-.2 1.41-.59l7.78-7.78 2.81-2.81c.8-.78.8-2.07 0-2.86zM5.41 20L4 18.59l7.72-7.72 1.47 1.35L5.41 20z\"/>\n",
              "  </svg>\n",
              "      </button>\n",
              "      \n",
              "  <style>\n",
              "    .colab-df-container {\n",
              "      display:flex;\n",
              "      flex-wrap:wrap;\n",
              "      gap: 12px;\n",
              "    }\n",
              "\n",
              "    .colab-df-convert {\n",
              "      background-color: #E8F0FE;\n",
              "      border: none;\n",
              "      border-radius: 50%;\n",
              "      cursor: pointer;\n",
              "      display: none;\n",
              "      fill: #1967D2;\n",
              "      height: 32px;\n",
              "      padding: 0 0 0 0;\n",
              "      width: 32px;\n",
              "    }\n",
              "\n",
              "    .colab-df-convert:hover {\n",
              "      background-color: #E2EBFA;\n",
              "      box-shadow: 0px 1px 2px rgba(60, 64, 67, 0.3), 0px 1px 3px 1px rgba(60, 64, 67, 0.15);\n",
              "      fill: #174EA6;\n",
              "    }\n",
              "\n",
              "    [theme=dark] .colab-df-convert {\n",
              "      background-color: #3B4455;\n",
              "      fill: #D2E3FC;\n",
              "    }\n",
              "\n",
              "    [theme=dark] .colab-df-convert:hover {\n",
              "      background-color: #434B5C;\n",
              "      box-shadow: 0px 1px 3px 1px rgba(0, 0, 0, 0.15);\n",
              "      filter: drop-shadow(0px 1px 2px rgba(0, 0, 0, 0.3));\n",
              "      fill: #FFFFFF;\n",
              "    }\n",
              "  </style>\n",
              "\n",
              "      <script>\n",
              "        const buttonEl =\n",
              "          document.querySelector('#df-8689fb11-1c81-4229-a701-675bc18690bd button.colab-df-convert');\n",
              "        buttonEl.style.display =\n",
              "          google.colab.kernel.accessAllowed ? 'block' : 'none';\n",
              "\n",
              "        async function convertToInteractive(key) {\n",
              "          const element = document.querySelector('#df-8689fb11-1c81-4229-a701-675bc18690bd');\n",
              "          const dataTable =\n",
              "            await google.colab.kernel.invokeFunction('convertToInteractive',\n",
              "                                                     [key], {});\n",
              "          if (!dataTable) return;\n",
              "\n",
              "          const docLinkHtml = 'Like what you see? Visit the ' +\n",
              "            '<a target=\"_blank\" href=https://colab.research.google.com/notebooks/data_table.ipynb>data table notebook</a>'\n",
              "            + ' to learn more about interactive tables.';\n",
              "          element.innerHTML = '';\n",
              "          dataTable['output_type'] = 'display_data';\n",
              "          await google.colab.output.renderOutput(dataTable, element);\n",
              "          const docLink = document.createElement('div');\n",
              "          docLink.innerHTML = docLinkHtml;\n",
              "          element.appendChild(docLink);\n",
              "        }\n",
              "      </script>\n",
              "    </div>\n",
              "  </div>\n",
              "  "
            ],
            "text/plain": [
              "       Departure City    Arrival City       Departure Date  Flight Duration  \\\n",
              "0          Wilsonstad  Lake Johnmouth  2023-05-02 20:11:09          1.27581   \n",
              "1           New Brent      Port Wanda  2023-04-21 00:10:14          1.27581   \n",
              "2  South Samanthaberg  Lake Meganside  2023-05-12 15:16:31          0.72111   \n",
              "3      Lake Gracefurt       Jamesberg  2023-06-13 20:53:09         -0.94299   \n",
              "\n",
              "   Delay Minutes  Customer ID               Name Booking Class  \\\n",
              "0            120         3769      Daniel Oliver      Business   \n",
              "1             35         3529       Deborah Hall       Economy   \n",
              "2             67         1303          Mary York       Economy   \n",
              "3             72         2965  Christina Sanchez       Economy   \n",
              "\n",
              "  Frequent Flyer Status    Route  Ticket Price  Competitor Price    Demand  \\\n",
              "0                  Gold  MEL-BNE    370.638128        382.947396 -0.932755   \n",
              "1              Platinum  BNE-SYD    114.529016        394.583641 -1.005569   \n",
              "2              Platinum  MEL-BNE    164.468018        479.832444  1.761384   \n",
              "3                  Gold  BNE-SYD    318.903167        286.301632 -0.520139   \n",
              "\n",
              "  Origin Destination  Profitability  Loyalty Points  Churned  \n",
              "0    MEL         LHR       0.632226            4245     True  \n",
              "1    MEL         SIN       1.265026             833     True  \n",
              "2    MEL         LAX       1.141651            2568     True  \n",
              "3    MEL         LAX       1.129291             284     True  "
            ]
          },
          "execution_count": 3,
          "metadata": {},
          "output_type": "execute_result"
        }
      ],
      "source": [
        "df.head(4)"
      ]
    },
    {
      "cell_type": "code",
      "execution_count": null,
      "metadata": {
        "id": "hDKy7u2Rsajn"
      },
      "outputs": [],
      "source": [
        "df['Frequent Flyer Status'].value_count()"
      ]
    },
    {
      "cell_type": "code",
      "execution_count": null,
      "metadata": {
        "colab": {
          "base_uri": "https://localhost:8080/",
          "height": 300
        },
        "id": "f_oIJnjuGggU",
        "outputId": "dfdd6d21-6a9b-4323-d02f-ea14d6da5354"
      },
      "outputs": [
        {
          "data": {
            "text/html": [
              "\n",
              "  <div id=\"df-ebf7339e-c590-4907-a19b-fa8935546b2a\">\n",
              "    <div class=\"colab-df-container\">\n",
              "      <div>\n",
              "<style scoped>\n",
              "    .dataframe tbody tr th:only-of-type {\n",
              "        vertical-align: middle;\n",
              "    }\n",
              "\n",
              "    .dataframe tbody tr th {\n",
              "        vertical-align: top;\n",
              "    }\n",
              "\n",
              "    .dataframe thead th {\n",
              "        text-align: right;\n",
              "    }\n",
              "</style>\n",
              "<table border=\"1\" class=\"dataframe\">\n",
              "  <thead>\n",
              "    <tr style=\"text-align: right;\">\n",
              "      <th></th>\n",
              "      <th>Flight Duration</th>\n",
              "      <th>Delay Minutes</th>\n",
              "      <th>Customer ID</th>\n",
              "      <th>Ticket Price</th>\n",
              "      <th>Competitor Price</th>\n",
              "      <th>Demand</th>\n",
              "      <th>Profitability</th>\n",
              "      <th>Loyalty Points</th>\n",
              "    </tr>\n",
              "  </thead>\n",
              "  <tbody>\n",
              "    <tr>\n",
              "      <th>count</th>\n",
              "      <td>1.000000e+02</td>\n",
              "      <td>100.000000</td>\n",
              "      <td>100.000000</td>\n",
              "      <td>100.000000</td>\n",
              "      <td>100.000000</td>\n",
              "      <td>1.000000e+02</td>\n",
              "      <td>100.000000</td>\n",
              "      <td>100.000000</td>\n",
              "    </tr>\n",
              "    <tr>\n",
              "      <th>mean</th>\n",
              "      <td>-1.387779e-16</td>\n",
              "      <td>57.900000</td>\n",
              "      <td>5164.630000</td>\n",
              "      <td>303.337169</td>\n",
              "      <td>292.867827</td>\n",
              "      <td>-1.776357e-16</td>\n",
              "      <td>1.031524</td>\n",
              "      <td>2390.420000</td>\n",
              "    </tr>\n",
              "    <tr>\n",
              "      <th>std</th>\n",
              "      <td>1.005038e+00</td>\n",
              "      <td>33.195929</td>\n",
              "      <td>2626.451593</td>\n",
              "      <td>119.160993</td>\n",
              "      <td>113.418380</td>\n",
              "      <td>1.005038e+00</td>\n",
              "      <td>0.273866</td>\n",
              "      <td>1522.693017</td>\n",
              "    </tr>\n",
              "    <tr>\n",
              "      <th>min</th>\n",
              "      <td>-1.497691e+00</td>\n",
              "      <td>1.000000</td>\n",
              "      <td>1010.000000</td>\n",
              "      <td>114.529016</td>\n",
              "      <td>93.418926</td>\n",
              "      <td>-1.660900e+00</td>\n",
              "      <td>0.515533</td>\n",
              "      <td>45.000000</td>\n",
              "    </tr>\n",
              "    <tr>\n",
              "      <th>25%</th>\n",
              "      <td>-9.429903e-01</td>\n",
              "      <td>33.750000</td>\n",
              "      <td>3090.500000</td>\n",
              "      <td>191.771980</td>\n",
              "      <td>208.760294</td>\n",
              "      <td>-8.356685e-01</td>\n",
              "      <td>0.869040</td>\n",
              "      <td>1063.500000</td>\n",
              "    </tr>\n",
              "    <tr>\n",
              "      <th>50%</th>\n",
              "      <td>1.664101e-01</td>\n",
              "      <td>57.000000</td>\n",
              "      <td>4922.000000</td>\n",
              "      <td>297.944962</td>\n",
              "      <td>278.177555</td>\n",
              "      <td>-5.897980e-02</td>\n",
              "      <td>1.033363</td>\n",
              "      <td>2178.000000</td>\n",
              "    </tr>\n",
              "    <tr>\n",
              "      <th>75%</th>\n",
              "      <td>8.597853e-01</td>\n",
              "      <td>81.500000</td>\n",
              "      <td>7202.750000</td>\n",
              "      <td>412.563311</td>\n",
              "      <td>390.125772</td>\n",
              "      <td>6.570301e-01</td>\n",
              "      <td>1.221841</td>\n",
              "      <td>3818.500000</td>\n",
              "    </tr>\n",
              "    <tr>\n",
              "      <th>max</th>\n",
              "      <td>1.275810e+00</td>\n",
              "      <td>120.000000</td>\n",
              "      <td>9861.000000</td>\n",
              "      <td>498.549369</td>\n",
              "      <td>479.832444</td>\n",
              "      <td>1.979828e+00</td>\n",
              "      <td>1.492505</td>\n",
              "      <td>4950.000000</td>\n",
              "    </tr>\n",
              "  </tbody>\n",
              "</table>\n",
              "</div>\n",
              "      <button class=\"colab-df-convert\" onclick=\"convertToInteractive('df-ebf7339e-c590-4907-a19b-fa8935546b2a')\"\n",
              "              title=\"Convert this dataframe to an interactive table.\"\n",
              "              style=\"display:none;\">\n",
              "        \n",
              "  <svg xmlns=\"http://www.w3.org/2000/svg\" height=\"24px\"viewBox=\"0 0 24 24\"\n",
              "       width=\"24px\">\n",
              "    <path d=\"M0 0h24v24H0V0z\" fill=\"none\"/>\n",
              "    <path d=\"M18.56 5.44l.94 2.06.94-2.06 2.06-.94-2.06-.94-.94-2.06-.94 2.06-2.06.94zm-11 1L8.5 8.5l.94-2.06 2.06-.94-2.06-.94L8.5 2.5l-.94 2.06-2.06.94zm10 10l.94 2.06.94-2.06 2.06-.94-2.06-.94-.94-2.06-.94 2.06-2.06.94z\"/><path d=\"M17.41 7.96l-1.37-1.37c-.4-.4-.92-.59-1.43-.59-.52 0-1.04.2-1.43.59L10.3 9.45l-7.72 7.72c-.78.78-.78 2.05 0 2.83L4 21.41c.39.39.9.59 1.41.59.51 0 1.02-.2 1.41-.59l7.78-7.78 2.81-2.81c.8-.78.8-2.07 0-2.86zM5.41 20L4 18.59l7.72-7.72 1.47 1.35L5.41 20z\"/>\n",
              "  </svg>\n",
              "      </button>\n",
              "      \n",
              "  <style>\n",
              "    .colab-df-container {\n",
              "      display:flex;\n",
              "      flex-wrap:wrap;\n",
              "      gap: 12px;\n",
              "    }\n",
              "\n",
              "    .colab-df-convert {\n",
              "      background-color: #E8F0FE;\n",
              "      border: none;\n",
              "      border-radius: 50%;\n",
              "      cursor: pointer;\n",
              "      display: none;\n",
              "      fill: #1967D2;\n",
              "      height: 32px;\n",
              "      padding: 0 0 0 0;\n",
              "      width: 32px;\n",
              "    }\n",
              "\n",
              "    .colab-df-convert:hover {\n",
              "      background-color: #E2EBFA;\n",
              "      box-shadow: 0px 1px 2px rgba(60, 64, 67, 0.3), 0px 1px 3px 1px rgba(60, 64, 67, 0.15);\n",
              "      fill: #174EA6;\n",
              "    }\n",
              "\n",
              "    [theme=dark] .colab-df-convert {\n",
              "      background-color: #3B4455;\n",
              "      fill: #D2E3FC;\n",
              "    }\n",
              "\n",
              "    [theme=dark] .colab-df-convert:hover {\n",
              "      background-color: #434B5C;\n",
              "      box-shadow: 0px 1px 3px 1px rgba(0, 0, 0, 0.15);\n",
              "      filter: drop-shadow(0px 1px 2px rgba(0, 0, 0, 0.3));\n",
              "      fill: #FFFFFF;\n",
              "    }\n",
              "  </style>\n",
              "\n",
              "      <script>\n",
              "        const buttonEl =\n",
              "          document.querySelector('#df-ebf7339e-c590-4907-a19b-fa8935546b2a button.colab-df-convert');\n",
              "        buttonEl.style.display =\n",
              "          google.colab.kernel.accessAllowed ? 'block' : 'none';\n",
              "\n",
              "        async function convertToInteractive(key) {\n",
              "          const element = document.querySelector('#df-ebf7339e-c590-4907-a19b-fa8935546b2a');\n",
              "          const dataTable =\n",
              "            await google.colab.kernel.invokeFunction('convertToInteractive',\n",
              "                                                     [key], {});\n",
              "          if (!dataTable) return;\n",
              "\n",
              "          const docLinkHtml = 'Like what you see? Visit the ' +\n",
              "            '<a target=\"_blank\" href=https://colab.research.google.com/notebooks/data_table.ipynb>data table notebook</a>'\n",
              "            + ' to learn more about interactive tables.';\n",
              "          element.innerHTML = '';\n",
              "          dataTable['output_type'] = 'display_data';\n",
              "          await google.colab.output.renderOutput(dataTable, element);\n",
              "          const docLink = document.createElement('div');\n",
              "          docLink.innerHTML = docLinkHtml;\n",
              "          element.appendChild(docLink);\n",
              "        }\n",
              "      </script>\n",
              "    </div>\n",
              "  </div>\n",
              "  "
            ],
            "text/plain": [
              "       Flight Duration  Delay Minutes  Customer ID  Ticket Price  \\\n",
              "count     1.000000e+02     100.000000   100.000000    100.000000   \n",
              "mean     -1.387779e-16      57.900000  5164.630000    303.337169   \n",
              "std       1.005038e+00      33.195929  2626.451593    119.160993   \n",
              "min      -1.497691e+00       1.000000  1010.000000    114.529016   \n",
              "25%      -9.429903e-01      33.750000  3090.500000    191.771980   \n",
              "50%       1.664101e-01      57.000000  4922.000000    297.944962   \n",
              "75%       8.597853e-01      81.500000  7202.750000    412.563311   \n",
              "max       1.275810e+00     120.000000  9861.000000    498.549369   \n",
              "\n",
              "       Competitor Price        Demand  Profitability  Loyalty Points  \n",
              "count        100.000000  1.000000e+02     100.000000      100.000000  \n",
              "mean         292.867827 -1.776357e-16       1.031524     2390.420000  \n",
              "std          113.418380  1.005038e+00       0.273866     1522.693017  \n",
              "min           93.418926 -1.660900e+00       0.515533       45.000000  \n",
              "25%          208.760294 -8.356685e-01       0.869040     1063.500000  \n",
              "50%          278.177555 -5.897980e-02       1.033363     2178.000000  \n",
              "75%          390.125772  6.570301e-01       1.221841     3818.500000  \n",
              "max          479.832444  1.979828e+00       1.492505     4950.000000  "
            ]
          },
          "execution_count": 4,
          "metadata": {},
          "output_type": "execute_result"
        }
      ],
      "source": [
        "df.describe()"
      ]
    },
    {
      "cell_type": "code",
      "execution_count": null,
      "metadata": {
        "colab": {
          "base_uri": "https://localhost:8080/"
        },
        "id": "NwlhXAz7GmRE",
        "outputId": "5a237730-6cfb-41fc-850e-9ab037fd431d"
      },
      "outputs": [
        {
          "name": "stdout",
          "output_type": "stream",
          "text": [
            "<class 'pandas.core.frame.DataFrame'>\n",
            "RangeIndex: 100 entries, 0 to 99\n",
            "Data columns (total 18 columns):\n",
            " #   Column                 Non-Null Count  Dtype  \n",
            "---  ------                 --------------  -----  \n",
            " 0   Departure City         100 non-null    object \n",
            " 1   Arrival City           100 non-null    object \n",
            " 2   Departure Date         100 non-null    object \n",
            " 3   Flight Duration        100 non-null    float64\n",
            " 4   Delay Minutes          100 non-null    int64  \n",
            " 5   Customer ID            100 non-null    int64  \n",
            " 6   Name                   100 non-null    object \n",
            " 7   Booking Class          100 non-null    object \n",
            " 8   Frequent Flyer Status  100 non-null    object \n",
            " 9   Route                  100 non-null    object \n",
            " 10  Ticket Price           100 non-null    float64\n",
            " 11  Competitor Price       100 non-null    float64\n",
            " 12  Demand                 100 non-null    float64\n",
            " 13  Origin                 100 non-null    object \n",
            " 14  Destination            100 non-null    object \n",
            " 15  Profitability          100 non-null    float64\n",
            " 16  Loyalty Points         100 non-null    int64  \n",
            " 17  Churned                100 non-null    bool   \n",
            "dtypes: bool(1), float64(5), int64(3), object(9)\n",
            "memory usage: 13.5+ KB\n"
          ]
        }
      ],
      "source": [
        "df.info()"
      ]
    },
    {
      "cell_type": "code",
      "execution_count": null,
      "metadata": {
        "colab": {
          "base_uri": "https://localhost:8080/"
        },
        "id": "9b8weParGozE",
        "outputId": "39d000d8-2dda-49bd-815d-5661df348251"
      },
      "outputs": [
        {
          "data": {
            "text/plain": [
              "Index(['Departure City', 'Arrival City', 'Departure Date', 'Flight Duration',\n",
              "       'Delay Minutes', 'Customer ID', 'Name', 'Booking Class',\n",
              "       'Frequent Flyer Status', 'Route', 'Ticket Price', 'Competitor Price',\n",
              "       'Demand', 'Origin', 'Destination', 'Profitability', 'Loyalty Points',\n",
              "       'Churned'],\n",
              "      dtype='object')"
            ]
          },
          "execution_count": 6,
          "metadata": {},
          "output_type": "execute_result"
        }
      ],
      "source": [
        "df.columns"
      ]
    },
    {
      "cell_type": "code",
      "execution_count": null,
      "metadata": {
        "id": "hD-rV6wqGvJs"
      },
      "outputs": [],
      "source": [
        "df1=df.copy()"
      ]
    },
    {
      "cell_type": "code",
      "execution_count": null,
      "metadata": {
        "colab": {
          "base_uri": "https://localhost:8080/"
        },
        "id": "5IKRdEOlHfbA",
        "outputId": "fa2e48fd-06ce-449c-a4f4-aa18cd9702ef"
      },
      "outputs": [
        {
          "data": {
            "text/plain": [
              "Daniel Oliver         1\n",
              "Jennifer Hernandez    1\n",
              "Christopher Meyer     1\n",
              "Peter Simmons         1\n",
              "Adrian Palmer         1\n",
              "                     ..\n",
              "Kimberly Sullivan     1\n",
              "Matthew Bird          1\n",
              "Penny Sanchez         1\n",
              "Theodore Chang PhD    1\n",
              "Jeffrey Turner        1\n",
              "Name: Name, Length: 100, dtype: int64"
            ]
          },
          "execution_count": 8,
          "metadata": {},
          "output_type": "execute_result"
        }
      ],
      "source": [
        "df['Name'].value_counts()"
      ]
    },
    {
      "cell_type": "code",
      "execution_count": null,
      "metadata": {
        "id": "qqzJxnqnG-CU"
      },
      "outputs": [],
      "source": [
        "'''\n",
        "Write a python class that will contain the following:\n",
        "A function that takes the passenger name as input, checks which booking class the passenger belongs to, and returns the average delay time\n",
        "'''"
      ]
    },
    {
      "cell_type": "code",
      "execution_count": null,
      "metadata": {
        "colab": {
          "base_uri": "https://localhost:8080/"
        },
        "id": "6mgOtsgOIoof",
        "outputId": "4645adf2-b461-47b2-a4f9-f0bd1512c186"
      },
      "outputs": [
        {
          "name": "stdout",
          "output_type": "stream",
          "text": [
            "Business\n",
            "120\n"
          ]
        }
      ],
      "source": [
        "class Airline:\n",
        "    def __init__(self, df):\n",
        "        self.df = df\n",
        "\n",
        "    def get_delay_time(self,name):\n",
        "        booking_class = self.df[self.df[\"Name\"] == name][\"Booking Class\"][0]\n",
        "        print(booking_class)\n",
        "        delay_time = self.df[self.df[\"Name\"] == name][\"Delay Minutes\"][0]\n",
        "        #print(delay_time)\n",
        "        return delay_time\n",
        "\n",
        "a1 = Airline(df)\n",
        "print(a1.get_delay_time(\"Daniel Oliver\"))\n"
      ]
    },
    {
      "cell_type": "code",
      "execution_count": null,
      "metadata": {
        "id": "AAFRRMJ1Jx0h"
      },
      "outputs": [],
      "source": [
        "'''\n",
        " Write a python class that will contain the following:\n",
        "A function that will create a new column - Price difference, that will contain the price difference between the actual fare\n",
        "and the competitor fare for only the Gold status passengers.\n",
        "'''"
      ]
    },
    {
      "cell_type": "code",
      "execution_count": null,
      "metadata": {
        "id": "3pLq-b4bNdJZ"
      },
      "outputs": [],
      "source": [
        "class addcol:\n",
        "    def __init__(self, df):\n",
        "        self.df = df\n",
        "\n",
        "    def pricediff(self):\n",
        "      #self.df['Price difference']=0\n",
        "      for i in self.df['Frequent Flyer Status']:\n",
        "        print(i)\n",
        "        if i =='Gold':\n",
        "          #print(0)\n",
        "          self.df['Price difference']=self.df['Ticket Price']-self.df['Competitor Price']\n",
        "        #else :\n",
        "          #print('0')\n",
        "\n",
        "      return self.df\n",
        "\n",
        "a2=addcol(df1)\n",
        "print(a2.pricediff())\n"
      ]
    },
    {
      "cell_type": "code",
      "execution_count": null,
      "metadata": {
        "id": "GhcdY-5iPu_p"
      },
      "outputs": [],
      "source": [
        "'''\n",
        "Write a python class that will contain the following, (NOTE- Create a copy of the data to perform the following):\n",
        "A function that provides statistics of passengers that churned having loyalty points below than the average only from the gold status passengers.\n",
        "'''"
      ]
    },
    {
      "cell_type": "code",
      "execution_count": null,
      "metadata": {
        "colab": {
          "base_uri": "https://localhost:8080/"
        },
        "id": "bmsXj4yhS7fP",
        "outputId": "795d50cc-6ce7-4c6b-981a-e44c019950b0"
      },
      "outputs": [
        {
          "name": "stdout",
          "output_type": "stream",
          "text": [
            "       Flight Duration  Delay Minutes  Customer ID  Ticket Price  \\\n",
            "count        24.000000      24.000000    24.000000     24.000000   \n",
            "mean         -0.110940      63.625000  4469.500000    284.505167   \n",
            "std           1.047373      36.888566  2580.677801    127.857763   \n",
            "min          -1.497691       7.000000  1010.000000    114.529016   \n",
            "25%          -1.081665      30.250000  2911.500000    149.017035   \n",
            "50%           0.166410      68.500000  3552.000000    262.263786   \n",
            "75%           0.721110      96.500000  6307.750000    397.900521   \n",
            "max           1.275810     117.000000  9704.000000    488.013472   \n",
            "\n",
            "       Competitor Price     Demand  Profitability  Loyalty Points  \\\n",
            "count         24.000000  24.000000      24.000000       24.000000   \n",
            "mean         309.748382  -0.318887       0.929721      993.416667   \n",
            "std          113.421053   0.956521       0.264200      515.509365   \n",
            "min          109.246693  -1.660900       0.531339      112.000000   \n",
            "25%          204.880040  -1.017705       0.725476      574.250000   \n",
            "50%          287.246795  -0.410917       0.912057     1062.000000   \n",
            "75%          392.119364   0.335432       1.058293     1395.500000   \n",
            "max          475.401269   1.979828       1.483030     1893.000000   \n",
            "\n",
            "       Price difference  \n",
            "count         24.000000  \n",
            "mean         -25.243215  \n",
            "std          158.393962  \n",
            "min         -342.171439  \n",
            "25%         -105.588020  \n",
            "50%          -13.639290  \n",
            "75%           33.481478  \n",
            "max          269.764116  \n"
          ]
        }
      ],
      "source": [
        "class stats_p:\n",
        "    def __init__(self, df):\n",
        "        self.df = df\n",
        "\n",
        "    def status(self):\n",
        "      mean_gold=self.df[self.df['Frequent Flyer Status']=='Gold']['Loyalty Points'].mean()\n",
        "      #print(mean_gold)\n",
        "      st=self.df[(self.df['Churned']==True) & (self.df['Loyalty Points']< mean_gold)].describe()\n",
        "      return st\n",
        "      #return 0\n",
        "\n",
        "\n",
        "a3=stats_p(df1)\n",
        "print(a3.status())"
      ]
    },
    {
      "cell_type": "code",
      "execution_count": null,
      "metadata": {
        "id": "39R8CyXzW61X"
      },
      "outputs": [],
      "source": [
        "'''\n",
        ") Write a python class that will contain the following, :\n",
        "A function that returns the number of flights originating from a given destination taken from input, that was subject to higher delay times than the average delay time\n",
        "'''"
      ]
    },
    {
      "cell_type": "code",
      "execution_count": null,
      "metadata": {
        "colab": {
          "base_uri": "https://localhost:8080/"
        },
        "id": "lMSiyWk8XPvm",
        "outputId": "3d808879-ad71-4aaf-9e40-36927ca2c82c"
      },
      "outputs": [
        {
          "name": "stdout",
          "output_type": "stream",
          "text": [
            "0\n"
          ]
        }
      ],
      "source": [
        "\n",
        "class flight:\n",
        "    def __init__(self, df):\n",
        "        self.df = df\n",
        "\n",
        "    def delayed(self,city):\n",
        "      delay=self.df['Delay Minutes'].mean()\n",
        "      city=city\n",
        "      st=self.df[(self.df['Delay Minutes']>delay) & (self.df['Departure City']==city)].count()[0]\n",
        "      return st\n",
        "\n",
        "\n",
        "a4=flight(df1)\n",
        "print(a4.delayed('New Brent'))"
      ]
    },
    {
      "cell_type": "code",
      "execution_count": null,
      "metadata": {
        "id": "RDnBXzvpZXom"
      },
      "outputs": [],
      "source": [
        "'''\n",
        "5) Write a python class that will contain the following, (NOTE- Create a copy of the data to perform the following):\n",
        "A function that will create two new columns, first name, and Last name, and delete the original name column.\n",
        "'''"
      ]
    },
    {
      "cell_type": "code",
      "execution_count": null,
      "metadata": {
        "id": "kMdGHr1MZymb"
      },
      "outputs": [],
      "source": [
        "class newcol:\n",
        "    def __init__(self, df):\n",
        "        self.df = df\n",
        "\n",
        "    def create2(self):\n",
        "      self.df['first name']=self.df['Name'].str.split(expand=True)[0]\n",
        "      self.df['last name']=self.df['Name'].str.split(expand=True)[1]\n",
        "      self.df.drop('Name',axis=1,inplace=True)\n",
        "      return self.df\n",
        "\n",
        "\n",
        "a5=newcol(df1)\n",
        "print(a5.create2())"
      ]
    },
    {
      "cell_type": "code",
      "execution_count": null,
      "metadata": {
        "colab": {
          "base_uri": "https://localhost:8080/",
          "height": 36
        },
        "id": "5Zlq9uJvaIgl",
        "outputId": "03d056c8-9b9d-48c2-ffbd-4ef988c79061"
      },
      "outputs": [
        {
          "data": {
            "application/vnd.google.colaboratory.intrinsic+json": {
              "type": "string"
            },
            "text/plain": [
              "\"\\nLet's suppose 5 years ago the average delay time for the business class was 45 Minutes. \\nHas it changed now? (perform hypothesis testing to support your claim)\\n\""
            ]
          },
          "execution_count": 86,
          "metadata": {},
          "output_type": "execute_result"
        }
      ],
      "source": [
        "'''\n",
        "Let's suppose 5 years ago the average delay time for the business class was 45 Minutes.\n",
        "Has it changed now? (perform hypothesis testing to support your claim)\n",
        "'''"
      ]
    },
    {
      "cell_type": "code",
      "execution_count": null,
      "metadata": {
        "colab": {
          "base_uri": "https://localhost:8080/"
        },
        "id": "pZKbombvaPSf",
        "outputId": "90115879-a4a1-41e5-fb1a-866ffed828b5"
      },
      "outputs": [
        {
          "name": "stdout",
          "output_type": "stream",
          "text": [
            "null hypothesis :The average delay time for business class is 45 minutes \n",
            "alternative hypothesis : The average delay time for business class is not 45 minutes\n",
            "p=0.05\n",
            "reject the null hypothesis\n"
          ]
        }
      ],
      "source": [
        "print('null hypothesis :The average delay time for business class is 45 minutes ')\n",
        "print('alternative hypothesis : The average delay time for business class is not 45 minutes')\n",
        "print('p=0.05')\n",
        "p=0.05\n",
        "import scipy.stats as stats\n",
        "data=df['Delay Minutes']\n",
        "\n",
        "#perform one sample t-test\n",
        "a=stats.ttest_1samp(a=data, popmean=45)[1]\n",
        "print('-----------------')\n",
        "if a>p:\n",
        "  print('fail to reject the null hypothesis of the test.')\n",
        "else:\n",
        "  print('reject the null hypothesis')"
      ]
    },
    {
      "cell_type": "code",
      "execution_count": null,
      "metadata": {
        "id": "Ij81ofcPdbnV"
      },
      "outputs": [],
      "source": [
        "'''\n",
        "Using python programming, calculate the probability of a business class passenger in the gold status getting delayed more than 60 minutes\n",
        "\n",
        "'''"
      ]
    },
    {
      "cell_type": "code",
      "execution_count": null,
      "metadata": {
        "colab": {
          "base_uri": "https://localhost:8080/"
        },
        "id": "HYyCDpKyeFCY",
        "outputId": "de78b35a-2763-4ee0-d8c1-e00326b3a8bc"
      },
      "outputs": [
        {
          "name": "stdout",
          "output_type": "stream",
          "text": [
            "0.39473684210526316\n"
          ]
        }
      ],
      "source": [
        "a=df[(df['Frequent Flyer Status']=='Gold')].count()[0]\n",
        "b=df[(df['Frequent Flyer Status']=='Gold') & (df['Delay Minutes']>60)].count()[0]\n",
        "prob=b/a\n",
        "print(prob)"
      ]
    },
    {
      "cell_type": "code",
      "execution_count": null,
      "metadata": {
        "id": "2csGzyxhflqd"
      },
      "outputs": [],
      "source": [
        "'''\n",
        "Create a machine learning model that will predict if the passenger will churn or not. (we will use the accuracy score for evaluation of the model.)\n",
        "'''"
      ]
    },
    {
      "cell_type": "code",
      "execution_count": null,
      "metadata": {
        "id": "XA_hIidCfOu1"
      },
      "outputs": [],
      "source": [
        "from sklearn.linear_model import LogisticRegression\n",
        "from sklearn.model_selection import train_test_split\n",
        "from sklearn.metrics import accuracy_score"
      ]
    },
    {
      "cell_type": "code",
      "execution_count": null,
      "metadata": {
        "id": "vlkfCiWLgtym"
      },
      "outputs": [],
      "source": [
        "df2=df.copy()"
      ]
    },
    {
      "cell_type": "code",
      "execution_count": null,
      "metadata": {
        "colab": {
          "base_uri": "https://localhost:8080/",
          "height": 346
        },
        "id": "QVFylXxrg6Qh",
        "outputId": "88e38e03-5adb-4b8d-e6ff-18372c8b14ca"
      },
      "outputs": [
        {
          "data": {
            "text/html": [
              "\n",
              "  <div id=\"df-28a36a83-01e1-4f36-82a5-349d375ed6c7\">\n",
              "    <div class=\"colab-df-container\">\n",
              "      <div>\n",
              "<style scoped>\n",
              "    .dataframe tbody tr th:only-of-type {\n",
              "        vertical-align: middle;\n",
              "    }\n",
              "\n",
              "    .dataframe tbody tr th {\n",
              "        vertical-align: top;\n",
              "    }\n",
              "\n",
              "    .dataframe thead th {\n",
              "        text-align: right;\n",
              "    }\n",
              "</style>\n",
              "<table border=\"1\" class=\"dataframe\">\n",
              "  <thead>\n",
              "    <tr style=\"text-align: right;\">\n",
              "      <th></th>\n",
              "      <th>Departure City</th>\n",
              "      <th>Arrival City</th>\n",
              "      <th>Departure Date</th>\n",
              "      <th>Flight Duration</th>\n",
              "      <th>Delay Minutes</th>\n",
              "      <th>Customer ID</th>\n",
              "      <th>Name</th>\n",
              "      <th>Booking Class</th>\n",
              "      <th>Frequent Flyer Status</th>\n",
              "      <th>Route</th>\n",
              "      <th>Ticket Price</th>\n",
              "      <th>Competitor Price</th>\n",
              "      <th>Demand</th>\n",
              "      <th>Origin</th>\n",
              "      <th>Destination</th>\n",
              "      <th>Profitability</th>\n",
              "      <th>Loyalty Points</th>\n",
              "      <th>Churned</th>\n",
              "    </tr>\n",
              "  </thead>\n",
              "  <tbody>\n",
              "    <tr>\n",
              "      <th>0</th>\n",
              "      <td>Wilsonstad</td>\n",
              "      <td>Lake Johnmouth</td>\n",
              "      <td>2023-05-02 20:11:09</td>\n",
              "      <td>1.27581</td>\n",
              "      <td>120</td>\n",
              "      <td>3769</td>\n",
              "      <td>Daniel Oliver</td>\n",
              "      <td>Business</td>\n",
              "      <td>Gold</td>\n",
              "      <td>MEL-BNE</td>\n",
              "      <td>370.638128</td>\n",
              "      <td>382.947396</td>\n",
              "      <td>-0.932755</td>\n",
              "      <td>MEL</td>\n",
              "      <td>LHR</td>\n",
              "      <td>0.632226</td>\n",
              "      <td>4245</td>\n",
              "      <td>True</td>\n",
              "    </tr>\n",
              "    <tr>\n",
              "      <th>1</th>\n",
              "      <td>New Brent</td>\n",
              "      <td>Port Wanda</td>\n",
              "      <td>2023-04-21 00:10:14</td>\n",
              "      <td>1.27581</td>\n",
              "      <td>35</td>\n",
              "      <td>3529</td>\n",
              "      <td>Deborah Hall</td>\n",
              "      <td>Economy</td>\n",
              "      <td>Platinum</td>\n",
              "      <td>BNE-SYD</td>\n",
              "      <td>114.529016</td>\n",
              "      <td>394.583641</td>\n",
              "      <td>-1.005569</td>\n",
              "      <td>MEL</td>\n",
              "      <td>SIN</td>\n",
              "      <td>1.265026</td>\n",
              "      <td>833</td>\n",
              "      <td>True</td>\n",
              "    </tr>\n",
              "    <tr>\n",
              "      <th>2</th>\n",
              "      <td>South Samanthaberg</td>\n",
              "      <td>Lake Meganside</td>\n",
              "      <td>2023-05-12 15:16:31</td>\n",
              "      <td>0.72111</td>\n",
              "      <td>67</td>\n",
              "      <td>1303</td>\n",
              "      <td>Mary York</td>\n",
              "      <td>Economy</td>\n",
              "      <td>Platinum</td>\n",
              "      <td>MEL-BNE</td>\n",
              "      <td>164.468018</td>\n",
              "      <td>479.832444</td>\n",
              "      <td>1.761384</td>\n",
              "      <td>MEL</td>\n",
              "      <td>LAX</td>\n",
              "      <td>1.141651</td>\n",
              "      <td>2568</td>\n",
              "      <td>True</td>\n",
              "    </tr>\n",
              "  </tbody>\n",
              "</table>\n",
              "</div>\n",
              "      <button class=\"colab-df-convert\" onclick=\"convertToInteractive('df-28a36a83-01e1-4f36-82a5-349d375ed6c7')\"\n",
              "              title=\"Convert this dataframe to an interactive table.\"\n",
              "              style=\"display:none;\">\n",
              "        \n",
              "  <svg xmlns=\"http://www.w3.org/2000/svg\" height=\"24px\"viewBox=\"0 0 24 24\"\n",
              "       width=\"24px\">\n",
              "    <path d=\"M0 0h24v24H0V0z\" fill=\"none\"/>\n",
              "    <path d=\"M18.56 5.44l.94 2.06.94-2.06 2.06-.94-2.06-.94-.94-2.06-.94 2.06-2.06.94zm-11 1L8.5 8.5l.94-2.06 2.06-.94-2.06-.94L8.5 2.5l-.94 2.06-2.06.94zm10 10l.94 2.06.94-2.06 2.06-.94-2.06-.94-.94-2.06-.94 2.06-2.06.94z\"/><path d=\"M17.41 7.96l-1.37-1.37c-.4-.4-.92-.59-1.43-.59-.52 0-1.04.2-1.43.59L10.3 9.45l-7.72 7.72c-.78.78-.78 2.05 0 2.83L4 21.41c.39.39.9.59 1.41.59.51 0 1.02-.2 1.41-.59l7.78-7.78 2.81-2.81c.8-.78.8-2.07 0-2.86zM5.41 20L4 18.59l7.72-7.72 1.47 1.35L5.41 20z\"/>\n",
              "  </svg>\n",
              "      </button>\n",
              "      \n",
              "  <style>\n",
              "    .colab-df-container {\n",
              "      display:flex;\n",
              "      flex-wrap:wrap;\n",
              "      gap: 12px;\n",
              "    }\n",
              "\n",
              "    .colab-df-convert {\n",
              "      background-color: #E8F0FE;\n",
              "      border: none;\n",
              "      border-radius: 50%;\n",
              "      cursor: pointer;\n",
              "      display: none;\n",
              "      fill: #1967D2;\n",
              "      height: 32px;\n",
              "      padding: 0 0 0 0;\n",
              "      width: 32px;\n",
              "    }\n",
              "\n",
              "    .colab-df-convert:hover {\n",
              "      background-color: #E2EBFA;\n",
              "      box-shadow: 0px 1px 2px rgba(60, 64, 67, 0.3), 0px 1px 3px 1px rgba(60, 64, 67, 0.15);\n",
              "      fill: #174EA6;\n",
              "    }\n",
              "\n",
              "    [theme=dark] .colab-df-convert {\n",
              "      background-color: #3B4455;\n",
              "      fill: #D2E3FC;\n",
              "    }\n",
              "\n",
              "    [theme=dark] .colab-df-convert:hover {\n",
              "      background-color: #434B5C;\n",
              "      box-shadow: 0px 1px 3px 1px rgba(0, 0, 0, 0.15);\n",
              "      filter: drop-shadow(0px 1px 2px rgba(0, 0, 0, 0.3));\n",
              "      fill: #FFFFFF;\n",
              "    }\n",
              "  </style>\n",
              "\n",
              "      <script>\n",
              "        const buttonEl =\n",
              "          document.querySelector('#df-28a36a83-01e1-4f36-82a5-349d375ed6c7 button.colab-df-convert');\n",
              "        buttonEl.style.display =\n",
              "          google.colab.kernel.accessAllowed ? 'block' : 'none';\n",
              "\n",
              "        async function convertToInteractive(key) {\n",
              "          const element = document.querySelector('#df-28a36a83-01e1-4f36-82a5-349d375ed6c7');\n",
              "          const dataTable =\n",
              "            await google.colab.kernel.invokeFunction('convertToInteractive',\n",
              "                                                     [key], {});\n",
              "          if (!dataTable) return;\n",
              "\n",
              "          const docLinkHtml = 'Like what you see? Visit the ' +\n",
              "            '<a target=\"_blank\" href=https://colab.research.google.com/notebooks/data_table.ipynb>data table notebook</a>'\n",
              "            + ' to learn more about interactive tables.';\n",
              "          element.innerHTML = '';\n",
              "          dataTable['output_type'] = 'display_data';\n",
              "          await google.colab.output.renderOutput(dataTable, element);\n",
              "          const docLink = document.createElement('div');\n",
              "          docLink.innerHTML = docLinkHtml;\n",
              "          element.appendChild(docLink);\n",
              "        }\n",
              "      </script>\n",
              "    </div>\n",
              "  </div>\n",
              "  "
            ],
            "text/plain": [
              "       Departure City    Arrival City       Departure Date  Flight Duration  \\\n",
              "0          Wilsonstad  Lake Johnmouth  2023-05-02 20:11:09          1.27581   \n",
              "1           New Brent      Port Wanda  2023-04-21 00:10:14          1.27581   \n",
              "2  South Samanthaberg  Lake Meganside  2023-05-12 15:16:31          0.72111   \n",
              "\n",
              "   Delay Minutes  Customer ID           Name Booking Class  \\\n",
              "0            120         3769  Daniel Oliver      Business   \n",
              "1             35         3529   Deborah Hall       Economy   \n",
              "2             67         1303      Mary York       Economy   \n",
              "\n",
              "  Frequent Flyer Status    Route  Ticket Price  Competitor Price    Demand  \\\n",
              "0                  Gold  MEL-BNE    370.638128        382.947396 -0.932755   \n",
              "1              Platinum  BNE-SYD    114.529016        394.583641 -1.005569   \n",
              "2              Platinum  MEL-BNE    164.468018        479.832444  1.761384   \n",
              "\n",
              "  Origin Destination  Profitability  Loyalty Points  Churned  \n",
              "0    MEL         LHR       0.632226            4245     True  \n",
              "1    MEL         SIN       1.265026             833     True  \n",
              "2    MEL         LAX       1.141651            2568     True  "
            ]
          },
          "execution_count": 142,
          "metadata": {},
          "output_type": "execute_result"
        }
      ],
      "source": [
        "df.head(3)"
      ]
    },
    {
      "cell_type": "code",
      "execution_count": null,
      "metadata": {
        "id": "QzEjG4QDgSfy"
      },
      "outputs": [],
      "source": [
        "df.drop(['Departure City','Arrival City','Departure Date','Customer ID','Route'],axis=1,inplace=True)"
      ]
    },
    {
      "cell_type": "code",
      "execution_count": null,
      "metadata": {
        "id": "r4jxIKOWhNiX"
      },
      "outputs": [],
      "source": [
        "df.drop(['Name'],axis=1,inplace=True)"
      ]
    },
    {
      "cell_type": "code",
      "execution_count": null,
      "metadata": {
        "colab": {
          "base_uri": "https://localhost:8080/",
          "height": 143
        },
        "id": "L5dM-tjVhKtQ",
        "outputId": "ebbe1eaa-29d4-4959-8625-489ef2d2eada"
      },
      "outputs": [
        {
          "data": {
            "text/html": [
              "\n",
              "  <div id=\"df-1279091a-341c-4551-9a1a-d114b5a9865c\">\n",
              "    <div class=\"colab-df-container\">\n",
              "      <div>\n",
              "<style scoped>\n",
              "    .dataframe tbody tr th:only-of-type {\n",
              "        vertical-align: middle;\n",
              "    }\n",
              "\n",
              "    .dataframe tbody tr th {\n",
              "        vertical-align: top;\n",
              "    }\n",
              "\n",
              "    .dataframe thead th {\n",
              "        text-align: right;\n",
              "    }\n",
              "</style>\n",
              "<table border=\"1\" class=\"dataframe\">\n",
              "  <thead>\n",
              "    <tr style=\"text-align: right;\">\n",
              "      <th></th>\n",
              "      <th>Flight Duration</th>\n",
              "      <th>Delay Minutes</th>\n",
              "      <th>Booking Class</th>\n",
              "      <th>Frequent Flyer Status</th>\n",
              "      <th>Ticket Price</th>\n",
              "      <th>Competitor Price</th>\n",
              "      <th>Demand</th>\n",
              "      <th>Origin</th>\n",
              "      <th>Destination</th>\n",
              "      <th>Profitability</th>\n",
              "      <th>Loyalty Points</th>\n",
              "      <th>Churned</th>\n",
              "    </tr>\n",
              "  </thead>\n",
              "  <tbody>\n",
              "    <tr>\n",
              "      <th>0</th>\n",
              "      <td>1.27581</td>\n",
              "      <td>120</td>\n",
              "      <td>Business</td>\n",
              "      <td>Gold</td>\n",
              "      <td>370.638128</td>\n",
              "      <td>382.947396</td>\n",
              "      <td>-0.932755</td>\n",
              "      <td>MEL</td>\n",
              "      <td>LHR</td>\n",
              "      <td>0.632226</td>\n",
              "      <td>4245</td>\n",
              "      <td>True</td>\n",
              "    </tr>\n",
              "    <tr>\n",
              "      <th>1</th>\n",
              "      <td>1.27581</td>\n",
              "      <td>35</td>\n",
              "      <td>Economy</td>\n",
              "      <td>Platinum</td>\n",
              "      <td>114.529016</td>\n",
              "      <td>394.583641</td>\n",
              "      <td>-1.005569</td>\n",
              "      <td>MEL</td>\n",
              "      <td>SIN</td>\n",
              "      <td>1.265026</td>\n",
              "      <td>833</td>\n",
              "      <td>True</td>\n",
              "    </tr>\n",
              "    <tr>\n",
              "      <th>2</th>\n",
              "      <td>0.72111</td>\n",
              "      <td>67</td>\n",
              "      <td>Economy</td>\n",
              "      <td>Platinum</td>\n",
              "      <td>164.468018</td>\n",
              "      <td>479.832444</td>\n",
              "      <td>1.761384</td>\n",
              "      <td>MEL</td>\n",
              "      <td>LAX</td>\n",
              "      <td>1.141651</td>\n",
              "      <td>2568</td>\n",
              "      <td>True</td>\n",
              "    </tr>\n",
              "  </tbody>\n",
              "</table>\n",
              "</div>\n",
              "      <button class=\"colab-df-convert\" onclick=\"convertToInteractive('df-1279091a-341c-4551-9a1a-d114b5a9865c')\"\n",
              "              title=\"Convert this dataframe to an interactive table.\"\n",
              "              style=\"display:none;\">\n",
              "        \n",
              "  <svg xmlns=\"http://www.w3.org/2000/svg\" height=\"24px\"viewBox=\"0 0 24 24\"\n",
              "       width=\"24px\">\n",
              "    <path d=\"M0 0h24v24H0V0z\" fill=\"none\"/>\n",
              "    <path d=\"M18.56 5.44l.94 2.06.94-2.06 2.06-.94-2.06-.94-.94-2.06-.94 2.06-2.06.94zm-11 1L8.5 8.5l.94-2.06 2.06-.94-2.06-.94L8.5 2.5l-.94 2.06-2.06.94zm10 10l.94 2.06.94-2.06 2.06-.94-2.06-.94-.94-2.06-.94 2.06-2.06.94z\"/><path d=\"M17.41 7.96l-1.37-1.37c-.4-.4-.92-.59-1.43-.59-.52 0-1.04.2-1.43.59L10.3 9.45l-7.72 7.72c-.78.78-.78 2.05 0 2.83L4 21.41c.39.39.9.59 1.41.59.51 0 1.02-.2 1.41-.59l7.78-7.78 2.81-2.81c.8-.78.8-2.07 0-2.86zM5.41 20L4 18.59l7.72-7.72 1.47 1.35L5.41 20z\"/>\n",
              "  </svg>\n",
              "      </button>\n",
              "      \n",
              "  <style>\n",
              "    .colab-df-container {\n",
              "      display:flex;\n",
              "      flex-wrap:wrap;\n",
              "      gap: 12px;\n",
              "    }\n",
              "\n",
              "    .colab-df-convert {\n",
              "      background-color: #E8F0FE;\n",
              "      border: none;\n",
              "      border-radius: 50%;\n",
              "      cursor: pointer;\n",
              "      display: none;\n",
              "      fill: #1967D2;\n",
              "      height: 32px;\n",
              "      padding: 0 0 0 0;\n",
              "      width: 32px;\n",
              "    }\n",
              "\n",
              "    .colab-df-convert:hover {\n",
              "      background-color: #E2EBFA;\n",
              "      box-shadow: 0px 1px 2px rgba(60, 64, 67, 0.3), 0px 1px 3px 1px rgba(60, 64, 67, 0.15);\n",
              "      fill: #174EA6;\n",
              "    }\n",
              "\n",
              "    [theme=dark] .colab-df-convert {\n",
              "      background-color: #3B4455;\n",
              "      fill: #D2E3FC;\n",
              "    }\n",
              "\n",
              "    [theme=dark] .colab-df-convert:hover {\n",
              "      background-color: #434B5C;\n",
              "      box-shadow: 0px 1px 3px 1px rgba(0, 0, 0, 0.15);\n",
              "      filter: drop-shadow(0px 1px 2px rgba(0, 0, 0, 0.3));\n",
              "      fill: #FFFFFF;\n",
              "    }\n",
              "  </style>\n",
              "\n",
              "      <script>\n",
              "        const buttonEl =\n",
              "          document.querySelector('#df-1279091a-341c-4551-9a1a-d114b5a9865c button.colab-df-convert');\n",
              "        buttonEl.style.display =\n",
              "          google.colab.kernel.accessAllowed ? 'block' : 'none';\n",
              "\n",
              "        async function convertToInteractive(key) {\n",
              "          const element = document.querySelector('#df-1279091a-341c-4551-9a1a-d114b5a9865c');\n",
              "          const dataTable =\n",
              "            await google.colab.kernel.invokeFunction('convertToInteractive',\n",
              "                                                     [key], {});\n",
              "          if (!dataTable) return;\n",
              "\n",
              "          const docLinkHtml = 'Like what you see? Visit the ' +\n",
              "            '<a target=\"_blank\" href=https://colab.research.google.com/notebooks/data_table.ipynb>data table notebook</a>'\n",
              "            + ' to learn more about interactive tables.';\n",
              "          element.innerHTML = '';\n",
              "          dataTable['output_type'] = 'display_data';\n",
              "          await google.colab.output.renderOutput(dataTable, element);\n",
              "          const docLink = document.createElement('div');\n",
              "          docLink.innerHTML = docLinkHtml;\n",
              "          element.appendChild(docLink);\n",
              "        }\n",
              "      </script>\n",
              "    </div>\n",
              "  </div>\n",
              "  "
            ],
            "text/plain": [
              "   Flight Duration  Delay Minutes Booking Class Frequent Flyer Status  \\\n",
              "0          1.27581            120      Business                  Gold   \n",
              "1          1.27581             35       Economy              Platinum   \n",
              "2          0.72111             67       Economy              Platinum   \n",
              "\n",
              "   Ticket Price  Competitor Price    Demand Origin Destination  Profitability  \\\n",
              "0    370.638128        382.947396 -0.932755    MEL         LHR       0.632226   \n",
              "1    114.529016        394.583641 -1.005569    MEL         SIN       1.265026   \n",
              "2    164.468018        479.832444  1.761384    MEL         LAX       1.141651   \n",
              "\n",
              "   Loyalty Points  Churned  \n",
              "0            4245     True  \n",
              "1             833     True  \n",
              "2            2568     True  "
            ]
          },
          "execution_count": 145,
          "metadata": {},
          "output_type": "execute_result"
        }
      ],
      "source": [
        "df.head(3)"
      ]
    },
    {
      "cell_type": "code",
      "execution_count": null,
      "metadata": {
        "id": "jRC9Ugh9hU75"
      },
      "outputs": [],
      "source": [
        "df=pd.get_dummies(df, drop_first=True,dtype=float)"
      ]
    },
    {
      "cell_type": "code",
      "execution_count": null,
      "metadata": {
        "colab": {
          "base_uri": "https://localhost:8080/"
        },
        "id": "2GsGV6KPjE7b",
        "outputId": "d9c0ae92-9b51-4157-fd66-c5a9aeafad8a"
      },
      "outputs": [
        {
          "data": {
            "text/plain": [
              "Index(['Flight Duration', 'Delay Minutes', 'Ticket Price', 'Competitor Price',\n",
              "       'Demand', 'Profitability', 'Loyalty Points', 'Churned',\n",
              "       'Booking Class_Economy', 'Booking Class_First',\n",
              "       'Frequent Flyer Status_Platinum', 'Frequent Flyer Status_Silver',\n",
              "       'Origin_MEL', 'Origin_SYD', 'Destination_LHR', 'Destination_SIN'],\n",
              "      dtype='object')"
            ]
          },
          "execution_count": 147,
          "metadata": {},
          "output_type": "execute_result"
        }
      ],
      "source": [
        "column=df.columns\n",
        "column"
      ]
    },
    {
      "cell_type": "code",
      "execution_count": null,
      "metadata": {
        "colab": {
          "base_uri": "https://localhost:8080/"
        },
        "id": "liTnHtFGiZlS",
        "outputId": "dbc12663-c3a8-475e-e451-207971cbed6b"
      },
      "outputs": [
        {
          "data": {
            "text/plain": [
              "array([[ 1.27581045,  1.88013562,  0.56763549, ..., -0.68599434,\n",
              "         1.33333333, -0.70181003],\n",
              "       [ 1.27581045, -0.69331893, -1.59246184, ..., -0.68599434,\n",
              "        -0.75      ,  1.42488702],\n",
              "       [ 0.72111026,  0.27551102, -1.17126205, ..., -0.68599434,\n",
              "        -0.75      , -0.70181003],\n",
              "       ...,\n",
              "       [ 0.16641006, -1.5107692 ,  1.35746139, ...,  1.45773797,\n",
              "        -0.75      , -0.70181003],\n",
              "       [-0.94299033, -1.54104514,  1.29986178, ...,  1.45773797,\n",
              "         1.33333333, -0.70181003],\n",
              "       [ 0.72111026, -1.72270075, -1.13616061, ...,  1.45773797,\n",
              "        -0.75      ,  1.42488702]])"
            ]
          },
          "execution_count": 148,
          "metadata": {},
          "output_type": "execute_result"
        }
      ],
      "source": [
        "df4=df.copy()\n",
        "df=df4\n",
        "df.drop('Churned',axis=1,inplace=True)\n",
        "from sklearn.preprocessing import StandardScaler\n",
        "scaler=StandardScaler()\n",
        "df=scaler.fit_transform(df)\n",
        "df"
      ]
    },
    {
      "cell_type": "code",
      "execution_count": null,
      "metadata": {
        "id": "8MVnGTpmfVcE"
      },
      "outputs": [],
      "source": [
        "x=df\n",
        "y=np.array(df2['Churned'])"
      ]
    },
    {
      "cell_type": "code",
      "execution_count": null,
      "metadata": {
        "id": "xF9hi1bCf8yc"
      },
      "outputs": [],
      "source": [
        "log=LogisticRegression()"
      ]
    },
    {
      "cell_type": "code",
      "execution_count": null,
      "metadata": {
        "id": "9DqpY5aQgB07"
      },
      "outputs": [],
      "source": [
        "x_train,x_test,y_train,y_test=train_test_split(x,y,train_size=0.7,random_state=0)"
      ]
    },
    {
      "cell_type": "code",
      "execution_count": null,
      "metadata": {
        "colab": {
          "base_uri": "https://localhost:8080/",
          "height": 74
        },
        "id": "gtCeazSpf_qa",
        "outputId": "ff6d869f-02e3-4da8-fbf3-e3d9f5211b8d"
      },
      "outputs": [
        {
          "data": {
            "text/html": [
              "<style>#sk-container-id-2 {color: black;background-color: white;}#sk-container-id-2 pre{padding: 0;}#sk-container-id-2 div.sk-toggleable {background-color: white;}#sk-container-id-2 label.sk-toggleable__label {cursor: pointer;display: block;width: 100%;margin-bottom: 0;padding: 0.3em;box-sizing: border-box;text-align: center;}#sk-container-id-2 label.sk-toggleable__label-arrow:before {content: \"▸\";float: left;margin-right: 0.25em;color: #696969;}#sk-container-id-2 label.sk-toggleable__label-arrow:hover:before {color: black;}#sk-container-id-2 div.sk-estimator:hover label.sk-toggleable__label-arrow:before {color: black;}#sk-container-id-2 div.sk-toggleable__content {max-height: 0;max-width: 0;overflow: hidden;text-align: left;background-color: #f0f8ff;}#sk-container-id-2 div.sk-toggleable__content pre {margin: 0.2em;color: black;border-radius: 0.25em;background-color: #f0f8ff;}#sk-container-id-2 input.sk-toggleable__control:checked~div.sk-toggleable__content {max-height: 200px;max-width: 100%;overflow: auto;}#sk-container-id-2 input.sk-toggleable__control:checked~label.sk-toggleable__label-arrow:before {content: \"▾\";}#sk-container-id-2 div.sk-estimator input.sk-toggleable__control:checked~label.sk-toggleable__label {background-color: #d4ebff;}#sk-container-id-2 div.sk-label input.sk-toggleable__control:checked~label.sk-toggleable__label {background-color: #d4ebff;}#sk-container-id-2 input.sk-hidden--visually {border: 0;clip: rect(1px 1px 1px 1px);clip: rect(1px, 1px, 1px, 1px);height: 1px;margin: -1px;overflow: hidden;padding: 0;position: absolute;width: 1px;}#sk-container-id-2 div.sk-estimator {font-family: monospace;background-color: #f0f8ff;border: 1px dotted black;border-radius: 0.25em;box-sizing: border-box;margin-bottom: 0.5em;}#sk-container-id-2 div.sk-estimator:hover {background-color: #d4ebff;}#sk-container-id-2 div.sk-parallel-item::after {content: \"\";width: 100%;border-bottom: 1px solid gray;flex-grow: 1;}#sk-container-id-2 div.sk-label:hover label.sk-toggleable__label {background-color: #d4ebff;}#sk-container-id-2 div.sk-serial::before {content: \"\";position: absolute;border-left: 1px solid gray;box-sizing: border-box;top: 0;bottom: 0;left: 50%;z-index: 0;}#sk-container-id-2 div.sk-serial {display: flex;flex-direction: column;align-items: center;background-color: white;padding-right: 0.2em;padding-left: 0.2em;position: relative;}#sk-container-id-2 div.sk-item {position: relative;z-index: 1;}#sk-container-id-2 div.sk-parallel {display: flex;align-items: stretch;justify-content: center;background-color: white;position: relative;}#sk-container-id-2 div.sk-item::before, #sk-container-id-2 div.sk-parallel-item::before {content: \"\";position: absolute;border-left: 1px solid gray;box-sizing: border-box;top: 0;bottom: 0;left: 50%;z-index: -1;}#sk-container-id-2 div.sk-parallel-item {display: flex;flex-direction: column;z-index: 1;position: relative;background-color: white;}#sk-container-id-2 div.sk-parallel-item:first-child::after {align-self: flex-end;width: 50%;}#sk-container-id-2 div.sk-parallel-item:last-child::after {align-self: flex-start;width: 50%;}#sk-container-id-2 div.sk-parallel-item:only-child::after {width: 0;}#sk-container-id-2 div.sk-dashed-wrapped {border: 1px dashed gray;margin: 0 0.4em 0.5em 0.4em;box-sizing: border-box;padding-bottom: 0.4em;background-color: white;}#sk-container-id-2 div.sk-label label {font-family: monospace;font-weight: bold;display: inline-block;line-height: 1.2em;}#sk-container-id-2 div.sk-label-container {text-align: center;}#sk-container-id-2 div.sk-container {/* jupyter's `normalize.less` sets `[hidden] { display: none; }` but bootstrap.min.css set `[hidden] { display: none !important; }` so we also need the `!important` here to be able to override the default hidden behavior on the sphinx rendered scikit-learn.org. See: https://github.com/scikit-learn/scikit-learn/issues/21755 */display: inline-block !important;position: relative;}#sk-container-id-2 div.sk-text-repr-fallback {display: none;}</style><div id=\"sk-container-id-2\" class=\"sk-top-container\"><div class=\"sk-text-repr-fallback\"><pre>LogisticRegression()</pre><b>In a Jupyter environment, please rerun this cell to show the HTML representation or trust the notebook. <br />On GitHub, the HTML representation is unable to render, please try loading this page with nbviewer.org.</b></div><div class=\"sk-container\" hidden><div class=\"sk-item\"><div class=\"sk-estimator sk-toggleable\"><input class=\"sk-toggleable__control sk-hidden--visually\" id=\"sk-estimator-id-2\" type=\"checkbox\" checked><label for=\"sk-estimator-id-2\" class=\"sk-toggleable__label sk-toggleable__label-arrow\">LogisticRegression</label><div class=\"sk-toggleable__content\"><pre>LogisticRegression()</pre></div></div></div></div></div>"
            ],
            "text/plain": [
              "LogisticRegression()"
            ]
          },
          "execution_count": 160,
          "metadata": {},
          "output_type": "execute_result"
        }
      ],
      "source": [
        "log.fit(x_train,y_train)"
      ]
    },
    {
      "cell_type": "code",
      "execution_count": null,
      "metadata": {
        "id": "vmhIVZLEgOWU"
      },
      "outputs": [],
      "source": [
        "y_pred=log.predict(x_test)"
      ]
    },
    {
      "cell_type": "code",
      "execution_count": null,
      "metadata": {
        "colab": {
          "base_uri": "https://localhost:8080/"
        },
        "id": "IU6DKGmTk7zj",
        "outputId": "3c0b5d6b-3ab1-4619-db91-50eeaaa05b1c"
      },
      "outputs": [
        {
          "name": "stdout",
          "output_type": "stream",
          "text": [
            "Logistic Regression model accuracy (in %): 66.66666666666666\n"
          ]
        }
      ],
      "source": [
        "acc = accuracy_score(y_test, y_pred)\n",
        "print(\"Logistic Regression model accuracy (in %):\", acc*100)"
      ]
    },
    {
      "cell_type": "code",
      "execution_count": null,
      "metadata": {
        "id": "4_hp1AoKlX2j"
      },
      "outputs": [],
      "source": [
        "'''\n",
        "Create a machine learning model that will predict the delay time in minutes. (We will use the mean squared error for evaluation.)\n",
        "'''\n"
      ]
    },
    {
      "cell_type": "code",
      "execution_count": null,
      "metadata": {
        "id": "C1hAMJHXm2yJ"
      },
      "outputs": [],
      "source": [
        "from sklearn.linear_model import LinearRegression"
      ]
    },
    {
      "cell_type": "code",
      "execution_count": null,
      "metadata": {
        "colab": {
          "base_uri": "https://localhost:8080/",
          "height": 242
        },
        "id": "0fz7CzOKm3Oi",
        "outputId": "68dc1c5b-3523-4ae7-a1c4-19359063783f"
      },
      "outputs": [
        {
          "data": {
            "text/html": [
              "\n",
              "  <div id=\"df-e901ae97-30be-4723-955e-094df63f34a7\">\n",
              "    <div class=\"colab-df-container\">\n",
              "      <div>\n",
              "<style scoped>\n",
              "    .dataframe tbody tr th:only-of-type {\n",
              "        vertical-align: middle;\n",
              "    }\n",
              "\n",
              "    .dataframe tbody tr th {\n",
              "        vertical-align: top;\n",
              "    }\n",
              "\n",
              "    .dataframe thead th {\n",
              "        text-align: right;\n",
              "    }\n",
              "</style>\n",
              "<table border=\"1\" class=\"dataframe\">\n",
              "  <thead>\n",
              "    <tr style=\"text-align: right;\">\n",
              "      <th></th>\n",
              "      <th>Flight Duration</th>\n",
              "      <th>Delay Minutes</th>\n",
              "      <th>Ticket Price</th>\n",
              "      <th>Competitor Price</th>\n",
              "      <th>Demand</th>\n",
              "      <th>Profitability</th>\n",
              "      <th>Loyalty Points</th>\n",
              "      <th>Booking Class_Economy</th>\n",
              "      <th>Booking Class_First</th>\n",
              "      <th>Frequent Flyer Status_Platinum</th>\n",
              "      <th>Frequent Flyer Status_Silver</th>\n",
              "      <th>Origin_MEL</th>\n",
              "      <th>Origin_SYD</th>\n",
              "      <th>Destination_LHR</th>\n",
              "      <th>Destination_SIN</th>\n",
              "    </tr>\n",
              "  </thead>\n",
              "  <tbody>\n",
              "    <tr>\n",
              "      <th>0</th>\n",
              "      <td>1.27581</td>\n",
              "      <td>120</td>\n",
              "      <td>370.638128</td>\n",
              "      <td>382.947396</td>\n",
              "      <td>-0.932755</td>\n",
              "      <td>0.632226</td>\n",
              "      <td>4245</td>\n",
              "      <td>0.0</td>\n",
              "      <td>0.0</td>\n",
              "      <td>0.0</td>\n",
              "      <td>0.0</td>\n",
              "      <td>1.0</td>\n",
              "      <td>0.0</td>\n",
              "      <td>1.0</td>\n",
              "      <td>0.0</td>\n",
              "    </tr>\n",
              "    <tr>\n",
              "      <th>1</th>\n",
              "      <td>1.27581</td>\n",
              "      <td>35</td>\n",
              "      <td>114.529016</td>\n",
              "      <td>394.583641</td>\n",
              "      <td>-1.005569</td>\n",
              "      <td>1.265026</td>\n",
              "      <td>833</td>\n",
              "      <td>1.0</td>\n",
              "      <td>0.0</td>\n",
              "      <td>1.0</td>\n",
              "      <td>0.0</td>\n",
              "      <td>1.0</td>\n",
              "      <td>0.0</td>\n",
              "      <td>0.0</td>\n",
              "      <td>1.0</td>\n",
              "    </tr>\n",
              "    <tr>\n",
              "      <th>2</th>\n",
              "      <td>0.72111</td>\n",
              "      <td>67</td>\n",
              "      <td>164.468018</td>\n",
              "      <td>479.832444</td>\n",
              "      <td>1.761384</td>\n",
              "      <td>1.141651</td>\n",
              "      <td>2568</td>\n",
              "      <td>1.0</td>\n",
              "      <td>0.0</td>\n",
              "      <td>1.0</td>\n",
              "      <td>0.0</td>\n",
              "      <td>1.0</td>\n",
              "      <td>0.0</td>\n",
              "      <td>0.0</td>\n",
              "      <td>0.0</td>\n",
              "    </tr>\n",
              "  </tbody>\n",
              "</table>\n",
              "</div>\n",
              "      <button class=\"colab-df-convert\" onclick=\"convertToInteractive('df-e901ae97-30be-4723-955e-094df63f34a7')\"\n",
              "              title=\"Convert this dataframe to an interactive table.\"\n",
              "              style=\"display:none;\">\n",
              "        \n",
              "  <svg xmlns=\"http://www.w3.org/2000/svg\" height=\"24px\"viewBox=\"0 0 24 24\"\n",
              "       width=\"24px\">\n",
              "    <path d=\"M0 0h24v24H0V0z\" fill=\"none\"/>\n",
              "    <path d=\"M18.56 5.44l.94 2.06.94-2.06 2.06-.94-2.06-.94-.94-2.06-.94 2.06-2.06.94zm-11 1L8.5 8.5l.94-2.06 2.06-.94-2.06-.94L8.5 2.5l-.94 2.06-2.06.94zm10 10l.94 2.06.94-2.06 2.06-.94-2.06-.94-.94-2.06-.94 2.06-2.06.94z\"/><path d=\"M17.41 7.96l-1.37-1.37c-.4-.4-.92-.59-1.43-.59-.52 0-1.04.2-1.43.59L10.3 9.45l-7.72 7.72c-.78.78-.78 2.05 0 2.83L4 21.41c.39.39.9.59 1.41.59.51 0 1.02-.2 1.41-.59l7.78-7.78 2.81-2.81c.8-.78.8-2.07 0-2.86zM5.41 20L4 18.59l7.72-7.72 1.47 1.35L5.41 20z\"/>\n",
              "  </svg>\n",
              "      </button>\n",
              "      \n",
              "  <style>\n",
              "    .colab-df-container {\n",
              "      display:flex;\n",
              "      flex-wrap:wrap;\n",
              "      gap: 12px;\n",
              "    }\n",
              "\n",
              "    .colab-df-convert {\n",
              "      background-color: #E8F0FE;\n",
              "      border: none;\n",
              "      border-radius: 50%;\n",
              "      cursor: pointer;\n",
              "      display: none;\n",
              "      fill: #1967D2;\n",
              "      height: 32px;\n",
              "      padding: 0 0 0 0;\n",
              "      width: 32px;\n",
              "    }\n",
              "\n",
              "    .colab-df-convert:hover {\n",
              "      background-color: #E2EBFA;\n",
              "      box-shadow: 0px 1px 2px rgba(60, 64, 67, 0.3), 0px 1px 3px 1px rgba(60, 64, 67, 0.15);\n",
              "      fill: #174EA6;\n",
              "    }\n",
              "\n",
              "    [theme=dark] .colab-df-convert {\n",
              "      background-color: #3B4455;\n",
              "      fill: #D2E3FC;\n",
              "    }\n",
              "\n",
              "    [theme=dark] .colab-df-convert:hover {\n",
              "      background-color: #434B5C;\n",
              "      box-shadow: 0px 1px 3px 1px rgba(0, 0, 0, 0.15);\n",
              "      filter: drop-shadow(0px 1px 2px rgba(0, 0, 0, 0.3));\n",
              "      fill: #FFFFFF;\n",
              "    }\n",
              "  </style>\n",
              "\n",
              "      <script>\n",
              "        const buttonEl =\n",
              "          document.querySelector('#df-e901ae97-30be-4723-955e-094df63f34a7 button.colab-df-convert');\n",
              "        buttonEl.style.display =\n",
              "          google.colab.kernel.accessAllowed ? 'block' : 'none';\n",
              "\n",
              "        async function convertToInteractive(key) {\n",
              "          const element = document.querySelector('#df-e901ae97-30be-4723-955e-094df63f34a7');\n",
              "          const dataTable =\n",
              "            await google.colab.kernel.invokeFunction('convertToInteractive',\n",
              "                                                     [key], {});\n",
              "          if (!dataTable) return;\n",
              "\n",
              "          const docLinkHtml = 'Like what you see? Visit the ' +\n",
              "            '<a target=\"_blank\" href=https://colab.research.google.com/notebooks/data_table.ipynb>data table notebook</a>'\n",
              "            + ' to learn more about interactive tables.';\n",
              "          element.innerHTML = '';\n",
              "          dataTable['output_type'] = 'display_data';\n",
              "          await google.colab.output.renderOutput(dataTable, element);\n",
              "          const docLink = document.createElement('div');\n",
              "          docLink.innerHTML = docLinkHtml;\n",
              "          element.appendChild(docLink);\n",
              "        }\n",
              "      </script>\n",
              "    </div>\n",
              "  </div>\n",
              "  "
            ],
            "text/plain": [
              "   Flight Duration  Delay Minutes  Ticket Price  Competitor Price    Demand  \\\n",
              "0          1.27581            120    370.638128        382.947396 -0.932755   \n",
              "1          1.27581             35    114.529016        394.583641 -1.005569   \n",
              "2          0.72111             67    164.468018        479.832444  1.761384   \n",
              "\n",
              "   Profitability  Loyalty Points  Booking Class_Economy  Booking Class_First  \\\n",
              "0       0.632226            4245                    0.0                  0.0   \n",
              "1       1.265026             833                    1.0                  0.0   \n",
              "2       1.141651            2568                    1.0                  0.0   \n",
              "\n",
              "   Frequent Flyer Status_Platinum  Frequent Flyer Status_Silver  Origin_MEL  \\\n",
              "0                             0.0                           0.0         1.0   \n",
              "1                             1.0                           0.0         1.0   \n",
              "2                             1.0                           0.0         1.0   \n",
              "\n",
              "   Origin_SYD  Destination_LHR  Destination_SIN  \n",
              "0         0.0              1.0              0.0  \n",
              "1         0.0              0.0              1.0  \n",
              "2         0.0              0.0              0.0  "
            ]
          },
          "execution_count": 172,
          "metadata": {},
          "output_type": "execute_result"
        }
      ],
      "source": [
        "df5=df4.copy()\n",
        "df5.head(3)"
      ]
    },
    {
      "cell_type": "code",
      "execution_count": null,
      "metadata": {
        "id": "gXmH5Oyum7yD"
      },
      "outputs": [],
      "source": [
        "y=df5['Delay Minutes']\n",
        "df5.drop('Delay Minutes',axis=1,inplace=True)\n",
        "from sklearn.preprocessing import StandardScaler\n",
        "scaler=StandardScaler()\n",
        "df5=scaler.fit_transform(df5)"
      ]
    },
    {
      "cell_type": "code",
      "execution_count": null,
      "metadata": {
        "id": "5DGWEED8nhlq"
      },
      "outputs": [],
      "source": [
        "y=np.array(y)\n",
        "x=df5"
      ]
    },
    {
      "cell_type": "code",
      "execution_count": null,
      "metadata": {
        "id": "z-KU8vO4nmOK"
      },
      "outputs": [],
      "source": [
        "lin=LinearRegression()"
      ]
    },
    {
      "cell_type": "code",
      "execution_count": null,
      "metadata": {
        "id": "9sWDd46cnziW"
      },
      "outputs": [],
      "source": [
        "x_train,x_test,y_train,y_test=train_test_split(x,y,train_size=0.7,random_state=0)"
      ]
    },
    {
      "cell_type": "code",
      "execution_count": null,
      "metadata": {
        "colab": {
          "base_uri": "https://localhost:8080/",
          "height": 74
        },
        "id": "cbL13QS2nxur",
        "outputId": "b6467dc2-427a-4a29-8c95-255b375a5f3c"
      },
      "outputs": [
        {
          "data": {
            "text/html": [
              "<style>#sk-container-id-3 {color: black;background-color: white;}#sk-container-id-3 pre{padding: 0;}#sk-container-id-3 div.sk-toggleable {background-color: white;}#sk-container-id-3 label.sk-toggleable__label {cursor: pointer;display: block;width: 100%;margin-bottom: 0;padding: 0.3em;box-sizing: border-box;text-align: center;}#sk-container-id-3 label.sk-toggleable__label-arrow:before {content: \"▸\";float: left;margin-right: 0.25em;color: #696969;}#sk-container-id-3 label.sk-toggleable__label-arrow:hover:before {color: black;}#sk-container-id-3 div.sk-estimator:hover label.sk-toggleable__label-arrow:before {color: black;}#sk-container-id-3 div.sk-toggleable__content {max-height: 0;max-width: 0;overflow: hidden;text-align: left;background-color: #f0f8ff;}#sk-container-id-3 div.sk-toggleable__content pre {margin: 0.2em;color: black;border-radius: 0.25em;background-color: #f0f8ff;}#sk-container-id-3 input.sk-toggleable__control:checked~div.sk-toggleable__content {max-height: 200px;max-width: 100%;overflow: auto;}#sk-container-id-3 input.sk-toggleable__control:checked~label.sk-toggleable__label-arrow:before {content: \"▾\";}#sk-container-id-3 div.sk-estimator input.sk-toggleable__control:checked~label.sk-toggleable__label {background-color: #d4ebff;}#sk-container-id-3 div.sk-label input.sk-toggleable__control:checked~label.sk-toggleable__label {background-color: #d4ebff;}#sk-container-id-3 input.sk-hidden--visually {border: 0;clip: rect(1px 1px 1px 1px);clip: rect(1px, 1px, 1px, 1px);height: 1px;margin: -1px;overflow: hidden;padding: 0;position: absolute;width: 1px;}#sk-container-id-3 div.sk-estimator {font-family: monospace;background-color: #f0f8ff;border: 1px dotted black;border-radius: 0.25em;box-sizing: border-box;margin-bottom: 0.5em;}#sk-container-id-3 div.sk-estimator:hover {background-color: #d4ebff;}#sk-container-id-3 div.sk-parallel-item::after {content: \"\";width: 100%;border-bottom: 1px solid gray;flex-grow: 1;}#sk-container-id-3 div.sk-label:hover label.sk-toggleable__label {background-color: #d4ebff;}#sk-container-id-3 div.sk-serial::before {content: \"\";position: absolute;border-left: 1px solid gray;box-sizing: border-box;top: 0;bottom: 0;left: 50%;z-index: 0;}#sk-container-id-3 div.sk-serial {display: flex;flex-direction: column;align-items: center;background-color: white;padding-right: 0.2em;padding-left: 0.2em;position: relative;}#sk-container-id-3 div.sk-item {position: relative;z-index: 1;}#sk-container-id-3 div.sk-parallel {display: flex;align-items: stretch;justify-content: center;background-color: white;position: relative;}#sk-container-id-3 div.sk-item::before, #sk-container-id-3 div.sk-parallel-item::before {content: \"\";position: absolute;border-left: 1px solid gray;box-sizing: border-box;top: 0;bottom: 0;left: 50%;z-index: -1;}#sk-container-id-3 div.sk-parallel-item {display: flex;flex-direction: column;z-index: 1;position: relative;background-color: white;}#sk-container-id-3 div.sk-parallel-item:first-child::after {align-self: flex-end;width: 50%;}#sk-container-id-3 div.sk-parallel-item:last-child::after {align-self: flex-start;width: 50%;}#sk-container-id-3 div.sk-parallel-item:only-child::after {width: 0;}#sk-container-id-3 div.sk-dashed-wrapped {border: 1px dashed gray;margin: 0 0.4em 0.5em 0.4em;box-sizing: border-box;padding-bottom: 0.4em;background-color: white;}#sk-container-id-3 div.sk-label label {font-family: monospace;font-weight: bold;display: inline-block;line-height: 1.2em;}#sk-container-id-3 div.sk-label-container {text-align: center;}#sk-container-id-3 div.sk-container {/* jupyter's `normalize.less` sets `[hidden] { display: none; }` but bootstrap.min.css set `[hidden] { display: none !important; }` so we also need the `!important` here to be able to override the default hidden behavior on the sphinx rendered scikit-learn.org. See: https://github.com/scikit-learn/scikit-learn/issues/21755 */display: inline-block !important;position: relative;}#sk-container-id-3 div.sk-text-repr-fallback {display: none;}</style><div id=\"sk-container-id-3\" class=\"sk-top-container\"><div class=\"sk-text-repr-fallback\"><pre>LinearRegression()</pre><b>In a Jupyter environment, please rerun this cell to show the HTML representation or trust the notebook. <br />On GitHub, the HTML representation is unable to render, please try loading this page with nbviewer.org.</b></div><div class=\"sk-container\" hidden><div class=\"sk-item\"><div class=\"sk-estimator sk-toggleable\"><input class=\"sk-toggleable__control sk-hidden--visually\" id=\"sk-estimator-id-3\" type=\"checkbox\" checked><label for=\"sk-estimator-id-3\" class=\"sk-toggleable__label sk-toggleable__label-arrow\">LinearRegression</label><div class=\"sk-toggleable__content\"><pre>LinearRegression()</pre></div></div></div></div></div>"
            ],
            "text/plain": [
              "LinearRegression()"
            ]
          },
          "execution_count": 178,
          "metadata": {},
          "output_type": "execute_result"
        }
      ],
      "source": [
        "lin.fit(x_train,y_train)"
      ]
    },
    {
      "cell_type": "code",
      "execution_count": null,
      "metadata": {
        "id": "rpXm6k39n4EL"
      },
      "outputs": [],
      "source": [
        "y_pred=lin.predict(x_test)"
      ]
    },
    {
      "cell_type": "code",
      "execution_count": null,
      "metadata": {
        "id": "jn6ulg8on82S"
      },
      "outputs": [],
      "source": [
        "from sklearn.metrics import mean_squared_error"
      ]
    },
    {
      "cell_type": "code",
      "execution_count": null,
      "metadata": {
        "colab": {
          "base_uri": "https://localhost:8080/"
        },
        "id": "f0avoHM9oFaC",
        "outputId": "d677c2ce-b3e9-4f92-e44c-38c843453d2d"
      },
      "outputs": [
        {
          "data": {
            "text/plain": [
              "1426.9835392273724"
            ]
          },
          "execution_count": 181,
          "metadata": {},
          "output_type": "execute_result"
        }
      ],
      "source": [
        "mean_squared_error(y_pred,y_test)"
      ]
    },
    {
      "cell_type": "code",
      "execution_count": null,
      "metadata": {
        "colab": {
          "base_uri": "https://localhost:8080/"
        },
        "id": "uwcmD1uqqg3m",
        "outputId": "22fba44b-d9be-4aae-e049-bef2cdcef8a2"
      },
      "outputs": [
        {
          "data": {
            "text/plain": [
              "Index(['Departure City', 'Arrival City', 'Departure Date', 'Flight Duration',\n",
              "       'Delay Minutes', 'Customer ID', 'Name', 'Booking Class',\n",
              "       'Frequent Flyer Status', 'Route', 'Ticket Price', 'Competitor Price',\n",
              "       'Demand', 'Origin', 'Destination', 'Profitability', 'Loyalty Points',\n",
              "       'Churned'],\n",
              "      dtype='object')"
            ]
          },
          "execution_count": 183,
          "metadata": {},
          "output_type": "execute_result"
        }
      ],
      "source": [
        "df2.columns"
      ]
    },
    {
      "cell_type": "code",
      "execution_count": null,
      "metadata": {
        "colab": {
          "base_uri": "https://localhost:8080/"
        },
        "id": "98_hk7JQsFu8",
        "outputId": "478821bd-767d-4e95-9a68-be0957745277"
      },
      "outputs": [
        {
          "data": {
            "text/plain": [
              "Platinum    40\n",
              "Gold        38\n",
              "Silver      22\n",
              "Name: Frequent Flyer Status, dtype: int64"
            ]
          },
          "execution_count": 189,
          "metadata": {},
          "output_type": "execute_result"
        }
      ],
      "source": [
        "df2['Frequent Flyer Status'].value_counts()"
      ]
    },
    {
      "cell_type": "code",
      "execution_count": null,
      "metadata": {
        "id": "Yq9IeAjtqadt"
      },
      "outputs": [],
      "source": [
        "'''\n",
        "10) Write a SQL query for the following:\n",
        "Display the Share of customer pool under each Booking class.\n",
        "'''"
      ]
    },
    {
      "cell_type": "code",
      "execution_count": null,
      "metadata": {
        "id": "O29SDT5DoIYj"
      },
      "outputs": [],
      "source": [
        "'''\n",
        "SELECT Booking_Class,\n",
        "COUNT(Customer_ID) * 100.0 / (SELECT COUNT(*) FROM Flight_data) AS ShareOfCustomerPool\n",
        "FROM Flight_data\n",
        "GROUP BY Booking_Class;\n",
        "'''"
      ]
    },
    {
      "cell_type": "code",
      "execution_count": null,
      "metadata": {
        "id": "KOKjmEo9rAVv"
      },
      "outputs": [],
      "source": [
        "'''\n",
        "Write a SQL query for the following:\n",
        "Create a Pivoted table to show the Average Ticket Price of each Frequent_Flyer_Status on each routes\n",
        "\n",
        "'''"
      ]
    },
    {
      "cell_type": "code",
      "execution_count": null,
      "metadata": {
        "id": "spkJzreGrUx0"
      },
      "outputs": [],
      "source": [
        "'''\n",
        "select *\n",
        "from\n",
        "(select\n",
        "[Frequent_Flyer_Status],\n",
        "Ticket_Price \n",
        "from Flight_data) a\n",
        "\n",
        "pivot(avg(Ticket_Price) for [Frequent_Flyer_Status] in (Platinum ,Gold ,Silver)) b\n",
        "'''\n"
      ]
    },
    {
      "cell_type": "code",
      "execution_count": null,
      "metadata": {
        "id": "3YeZRKxYtcwq"
      },
      "outputs": [],
      "source": [
        "'''\n",
        "Write a SQL query for the following:\n",
        "Display the Customer ID who paid more than the average ticket price of their routes.\n",
        "\n",
        "'''"
      ]
    },
    {
      "cell_type": "code",
      "execution_count": null,
      "metadata": {
        "id": "uQomq6w8tGe9"
      },
      "outputs": [],
      "source": [
        "'''\n",
        "SELECT [Customer_ID]\n",
        "FROM Flight_data\n",
        "WHERE [Ticket_Price] > (SELECT avg(Ticket_Price) FROM Flight_data WHERE Route = Flight_data.Route)\n",
        "\n",
        "'''"
      ]
    },
    {
      "cell_type": "code",
      "execution_count": null,
      "metadata": {
        "id": "xN7Oif1Otggp"
      },
      "outputs": [],
      "source": [
        "'''\n",
        ") Write a SQL query for the following:\n",
        "A function that will display Price difference, that will contain the price difference between the actual fare and the competitor fare for only the Gold status passengers.\n",
        "\n",
        "'''\n"
      ]
    },
    {
      "cell_type": "code",
      "execution_count": null,
      "metadata": {
        "id": "kuw8HI3VuDXK"
      },
      "outputs": [],
      "source": [
        "'''\n",
        "create function dbo.returndiff()\n",
        "returns int(64) \n",
        "as\n",
        "begin\n",
        "return(\n",
        "\tselect\n",
        "\t[Ticket_Price],\n",
        "\t[Competitor_Price],\n",
        "\t[pric_diff]=[Ticket_Price]-[Competitor_Price]\n",
        "\tfrom Flight_data\n",
        "\twhere [Frequent_Flyer_Status] = 'Gold'\n",
        ")\n",
        "end;\n",
        "'''"
      ]
    },
    {
      "cell_type": "code",
      "execution_count": null,
      "metadata": {
        "id": "z2BoEi70ur7o"
      },
      "outputs": [],
      "source": [
        "'''\n",
        " Write a SQL query for the following:\n",
        "A function that takes the passenger name as input, checks which booking class the passenger belongs to, and returns the average delay time.\n",
        "'''"
      ]
    },
    {
      "cell_type": "code",
      "execution_count": null,
      "metadata": {
        "id": "G-ImZVbjutix"
      },
      "outputs": [],
      "source": [
        "'''\n",
        "create function dbo.info(@name CHAR(20))\n",
        "returns varchar(20)\n",
        "as\n",
        "begin\n",
        "return\n",
        "\t(\n",
        "\tselect\n",
        "\tdelay=(select avg(Delay_Minutes) from Flight_data)\n",
        "\tfrom Flight_data\n",
        "\twhere Name=@name \n",
        "\t)\n",
        "end\n",
        "'''"
      ]
    },
    {
      "cell_type": "code",
      "execution_count": null,
      "metadata": {},
      "outputs": [],
      "source": [
        "'''\n",
        "stored procedure query\n",
        "\n",
        "create procedure dbo.orderreport(@begin date,@end date)\n",
        "as\n",
        "begin\n",
        "(\n",
        "\n",
        ")\n",
        "end;\n",
        "\n",
        "exec dbo.orderreport 10.2.23 ,11.4.23\n",
        "\n",
        "'''"
      ]
    }
  ],
  "metadata": {
    "colab": {
      "provenance": []
    },
    "kernelspec": {
      "display_name": "Python 3",
      "name": "python3"
    },
    "language_info": {
      "name": "python"
    }
  },
  "nbformat": 4,
  "nbformat_minor": 0
}
