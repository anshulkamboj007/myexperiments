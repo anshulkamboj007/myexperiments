{
 "cells": [
  {
   "cell_type": "code",
   "execution_count": 1,
   "metadata": {},
   "outputs": [],
   "source": [
    "import pandas as pd\n",
    "import numpy as np"
   ]
  },
  {
   "cell_type": "code",
   "execution_count": 2,
   "metadata": {},
   "outputs": [],
   "source": [
    "from io import BytesIO"
   ]
  },
  {
   "cell_type": "code",
   "execution_count": 5,
   "metadata": {},
   "outputs": [],
   "source": [
    "import pyarrow.parquet as pa"
   ]
  },
  {
   "cell_type": "code",
   "execution_count": 6,
   "metadata": {},
   "outputs": [
    {
     "data": {
      "text/plain": [
       "pyarrow.Table\n",
       "series_id: large_string\n",
       "step: uint32\n",
       "timestamp: large_string\n",
       "anglez: float\n",
       "enmo: float\n",
       "----\n",
       "series_id: [[\"038441c925bb\",\"038441c925bb\",\"038441c925bb\",\"038441c925bb\",\"038441c925bb\",...,\"0402a003dae9\",\"0402a003dae9\",\"0402a003dae9\",\"0402a003dae9\",\"0402a003dae9\"]]\n",
       "step: [[0,1,2,3,4,...,145,146,147,148,149]]\n",
       "timestamp: [[\"2018-08-14T15:30:00-0400\",\"2018-08-14T15:30:05-0400\",\"2018-08-14T15:30:10-0400\",\"2018-08-14T15:30:15-0400\",\"2018-08-14T15:30:20-0400\",...,\"2018-12-18T12:57:05-0500\",\"2018-12-18T12:57:10-0500\",\"2018-12-18T12:57:15-0500\",\"2018-12-18T12:57:20-0500\",\"2018-12-18T12:57:25-0500\"]]\n",
       "anglez: [[2.6367,2.6368,2.637,2.6368,2.6368,...,-59.6969,-35.6566,-21.5824,-42.616,7.0299]]\n",
       "enmo: [[0.0217,0.0215,0.0216,0.0213,0.0215,...,0.0601,0.0427,0.0309,0.0328,0.0081]]"
      ]
     },
     "execution_count": 6,
     "metadata": {},
     "output_type": "execute_result"
    }
   ],
   "source": [
    "table = pa.read_table('test_series.parquet') \n",
    "table"
   ]
  },
  {
   "cell_type": "code",
   "execution_count": 7,
   "metadata": {},
   "outputs": [
    {
     "data": {
      "text/plain": [
       "(450, 5)"
      ]
     },
     "execution_count": 7,
     "metadata": {},
     "output_type": "execute_result"
    }
   ],
   "source": [
    "table.shape"
   ]
  },
  {
   "cell_type": "code",
   "execution_count": 8,
   "metadata": {},
   "outputs": [
    {
     "data": {
      "text/html": [
       "<div>\n",
       "<style scoped>\n",
       "    .dataframe tbody tr th:only-of-type {\n",
       "        vertical-align: middle;\n",
       "    }\n",
       "\n",
       "    .dataframe tbody tr th {\n",
       "        vertical-align: top;\n",
       "    }\n",
       "\n",
       "    .dataframe thead th {\n",
       "        text-align: right;\n",
       "    }\n",
       "</style>\n",
       "<table border=\"1\" class=\"dataframe\">\n",
       "  <thead>\n",
       "    <tr style=\"text-align: right;\">\n",
       "      <th></th>\n",
       "      <th>0</th>\n",
       "      <th>1</th>\n",
       "      <th>2</th>\n",
       "      <th>3</th>\n",
       "      <th>4</th>\n",
       "    </tr>\n",
       "  </thead>\n",
       "  <tbody>\n",
       "    <tr>\n",
       "      <th>series_id</th>\n",
       "      <td>038441c925bb</td>\n",
       "      <td>038441c925bb</td>\n",
       "      <td>038441c925bb</td>\n",
       "      <td>038441c925bb</td>\n",
       "      <td>038441c925bb</td>\n",
       "    </tr>\n",
       "    <tr>\n",
       "      <th>step</th>\n",
       "      <td>0</td>\n",
       "      <td>1</td>\n",
       "      <td>2</td>\n",
       "      <td>3</td>\n",
       "      <td>4</td>\n",
       "    </tr>\n",
       "    <tr>\n",
       "      <th>timestamp</th>\n",
       "      <td>2018-08-14T15:30:00-0400</td>\n",
       "      <td>2018-08-14T15:30:05-0400</td>\n",
       "      <td>2018-08-14T15:30:10-0400</td>\n",
       "      <td>2018-08-14T15:30:15-0400</td>\n",
       "      <td>2018-08-14T15:30:20-0400</td>\n",
       "    </tr>\n",
       "    <tr>\n",
       "      <th>anglez</th>\n",
       "      <td>2.6367</td>\n",
       "      <td>2.6368</td>\n",
       "      <td>2.637</td>\n",
       "      <td>2.6368</td>\n",
       "      <td>2.6368</td>\n",
       "    </tr>\n",
       "    <tr>\n",
       "      <th>enmo</th>\n",
       "      <td>0.0217</td>\n",
       "      <td>0.0215</td>\n",
       "      <td>0.0216</td>\n",
       "      <td>0.0213</td>\n",
       "      <td>0.0215</td>\n",
       "    </tr>\n",
       "  </tbody>\n",
       "</table>\n",
       "</div>"
      ],
      "text/plain": [
       "                                  0                         1   \n",
       "series_id              038441c925bb              038441c925bb  \\\n",
       "step                              0                         1   \n",
       "timestamp  2018-08-14T15:30:00-0400  2018-08-14T15:30:05-0400   \n",
       "anglez                       2.6367                    2.6368   \n",
       "enmo                         0.0217                    0.0215   \n",
       "\n",
       "                                  2                         3   \n",
       "series_id              038441c925bb              038441c925bb  \\\n",
       "step                              2                         3   \n",
       "timestamp  2018-08-14T15:30:10-0400  2018-08-14T15:30:15-0400   \n",
       "anglez                        2.637                    2.6368   \n",
       "enmo                         0.0216                    0.0213   \n",
       "\n",
       "                                  4  \n",
       "series_id              038441c925bb  \n",
       "step                              4  \n",
       "timestamp  2018-08-14T15:30:20-0400  \n",
       "anglez                       2.6368  \n",
       "enmo                         0.0215  "
      ]
     },
     "execution_count": 8,
     "metadata": {},
     "output_type": "execute_result"
    }
   ],
   "source": [
    "\n",
    "df = table.to_pandas() \n",
    "# Taking tanspose so the printing dataset will easy. \n",
    "df.head().T"
   ]
  },
  {
   "cell_type": "code",
   "execution_count": 9,
   "metadata": {},
   "outputs": [
    {
     "data": {
      "text/html": [
       "<div>\n",
       "<style scoped>\n",
       "    .dataframe tbody tr th:only-of-type {\n",
       "        vertical-align: middle;\n",
       "    }\n",
       "\n",
       "    .dataframe tbody tr th {\n",
       "        vertical-align: top;\n",
       "    }\n",
       "\n",
       "    .dataframe thead th {\n",
       "        text-align: right;\n",
       "    }\n",
       "</style>\n",
       "<table border=\"1\" class=\"dataframe\">\n",
       "  <thead>\n",
       "    <tr style=\"text-align: right;\">\n",
       "      <th></th>\n",
       "      <th>series_id</th>\n",
       "      <th>step</th>\n",
       "      <th>timestamp</th>\n",
       "      <th>anglez</th>\n",
       "      <th>enmo</th>\n",
       "    </tr>\n",
       "  </thead>\n",
       "  <tbody>\n",
       "    <tr>\n",
       "      <th>0</th>\n",
       "      <td>038441c925bb</td>\n",
       "      <td>0</td>\n",
       "      <td>2018-08-14T15:30:00-0400</td>\n",
       "      <td>2.6367</td>\n",
       "      <td>0.0217</td>\n",
       "    </tr>\n",
       "    <tr>\n",
       "      <th>1</th>\n",
       "      <td>038441c925bb</td>\n",
       "      <td>1</td>\n",
       "      <td>2018-08-14T15:30:05-0400</td>\n",
       "      <td>2.6368</td>\n",
       "      <td>0.0215</td>\n",
       "    </tr>\n",
       "    <tr>\n",
       "      <th>2</th>\n",
       "      <td>038441c925bb</td>\n",
       "      <td>2</td>\n",
       "      <td>2018-08-14T15:30:10-0400</td>\n",
       "      <td>2.6370</td>\n",
       "      <td>0.0216</td>\n",
       "    </tr>\n",
       "    <tr>\n",
       "      <th>3</th>\n",
       "      <td>038441c925bb</td>\n",
       "      <td>3</td>\n",
       "      <td>2018-08-14T15:30:15-0400</td>\n",
       "      <td>2.6368</td>\n",
       "      <td>0.0213</td>\n",
       "    </tr>\n",
       "    <tr>\n",
       "      <th>4</th>\n",
       "      <td>038441c925bb</td>\n",
       "      <td>4</td>\n",
       "      <td>2018-08-14T15:30:20-0400</td>\n",
       "      <td>2.6368</td>\n",
       "      <td>0.0215</td>\n",
       "    </tr>\n",
       "  </tbody>\n",
       "</table>\n",
       "</div>"
      ],
      "text/plain": [
       "      series_id  step                 timestamp  anglez    enmo\n",
       "0  038441c925bb     0  2018-08-14T15:30:00-0400  2.6367  0.0217\n",
       "1  038441c925bb     1  2018-08-14T15:30:05-0400  2.6368  0.0215\n",
       "2  038441c925bb     2  2018-08-14T15:30:10-0400  2.6370  0.0216\n",
       "3  038441c925bb     3  2018-08-14T15:30:15-0400  2.6368  0.0213\n",
       "4  038441c925bb     4  2018-08-14T15:30:20-0400  2.6368  0.0215"
      ]
     },
     "execution_count": 9,
     "metadata": {},
     "output_type": "execute_result"
    }
   ],
   "source": [
    "df = pd.read_parquet('test_series.parquet') \n",
    "df.head()"
   ]
  },
  {
   "cell_type": "code",
   "execution_count": null,
   "metadata": {},
   "outputs": [],
   "source": []
  }
 ],
 "metadata": {
  "kernelspec": {
   "display_name": "base",
   "language": "python",
   "name": "python3"
  },
  "language_info": {
   "codemirror_mode": {
    "name": "ipython",
    "version": 3
   },
   "file_extension": ".py",
   "mimetype": "text/x-python",
   "name": "python",
   "nbconvert_exporter": "python",
   "pygments_lexer": "ipython3",
   "version": "3.10.10"
  },
  "orig_nbformat": 4
 },
 "nbformat": 4,
 "nbformat_minor": 2
}
