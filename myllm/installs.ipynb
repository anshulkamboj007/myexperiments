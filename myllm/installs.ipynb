{
 "cells": [
  {
   "cell_type": "code",
   "execution_count": 2,
   "metadata": {},
   "outputs": [
    {
     "name": "stdout",
     "output_type": "stream",
     "text": [
      "Defaulting to user installation because normal site-packages is not writeable\n",
      "Collecting pylzma\n",
      "  Using cached pylzma-0.5.0.tar.gz (4.2 MB)\n",
      "  Preparing metadata (setup.py): started\n",
      "  Preparing metadata (setup.py): finished with status 'done'\n",
      "Building wheels for collected packages: pylzma\n",
      "  Building wheel for pylzma (setup.py): started\n",
      "  Building wheel for pylzma (setup.py): finished with status 'done'\n",
      "  Created wheel for pylzma: filename=pylzma-0.5.0-cp310-cp310-win_amd64.whl size=67397 sha256=6b87201f2150e16a21203b101104bbf909b1c21147d806663501b2597037cad9\n",
      "  Stored in directory: c:\\users\\91738\\appdata\\local\\pip\\cache\\wheels\\74\\c9\\02\\91112815e838f544c1d46fda071241e454694579d022751d2b\n",
      "Successfully built pylzma\n",
      "Installing collected packages: pylzma\n",
      "Successfully installed pylzma-0.5.0\n"
     ]
    }
   ],
   "source": [
    "!pip install pylzma"
   ]
  },
  {
   "cell_type": "code",
   "execution_count": null,
   "metadata": {},
   "outputs": [],
   "source": []
  }
 ],
 "metadata": {
  "kernelspec": {
   "display_name": "base",
   "language": "python",
   "name": "python3"
  },
  "language_info": {
   "codemirror_mode": {
    "name": "ipython",
    "version": 3
   },
   "file_extension": ".py",
   "mimetype": "text/x-python",
   "name": "python",
   "nbconvert_exporter": "python",
   "pygments_lexer": "ipython3",
   "version": "3.10.10"
  }
 },
 "nbformat": 4,
 "nbformat_minor": 2
}
