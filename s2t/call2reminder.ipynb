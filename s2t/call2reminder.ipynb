{
 "cells": [
  {
   "cell_type": "code",
   "execution_count": 2,
   "metadata": {},
   "outputs": [],
   "source": [
    "try:\n",
    "  import speech_recognition as sr\n",
    "  import pyttsx3\n",
    "  import pyaudio\n",
    "except:\n",
    "  !pip install  speechrecognition\n",
    "  !pip install  pyttsx3\n",
    "  !pip install  pyaudio"
   ]
  },
  {
   "cell_type": "code",
   "execution_count": 3,
   "metadata": {},
   "outputs": [],
   "source": [
    "r = sr.Recognizer()"
   ]
  },
  {
   "cell_type": "code",
   "execution_count": 4,
   "metadata": {},
   "outputs": [],
   "source": [
    "def SpeakText(command):\n",
    "     \n",
    "    # Initialize the engine\n",
    "    engine = pyttsx3.init()\n",
    "    engine.say(command)\n",
    "    engine.runAndWait()"
   ]
  },
  {
   "cell_type": "code",
   "execution_count": 5,
   "metadata": {},
   "outputs": [
    {
     "ename": "OSError",
     "evalue": "No Default Input Device Available",
     "output_type": "error",
     "traceback": [
      "\u001b[1;31m---------------------------------------------------------------------------\u001b[0m",
      "\u001b[1;31mOSError\u001b[0m                                   Traceback (most recent call last)",
      "\u001b[1;32me:\\Users\\anshul\\Desktop\\ml_prac\\s2t\\call2reminder.ipynb Cell 4\u001b[0m line \u001b[0;36m8\n\u001b[0;32m      <a href='vscode-notebook-cell:/e%3A/Users/anshul/Desktop/ml_prac/s2t/call2reminder.ipynb#W3sZmlsZQ%3D%3D?line=0'>1</a>\u001b[0m \u001b[39mwhile\u001b[39;00m(\u001b[39m1\u001b[39m):   \n\u001b[0;32m      <a href='vscode-notebook-cell:/e%3A/Users/anshul/Desktop/ml_prac/s2t/call2reminder.ipynb#W3sZmlsZQ%3D%3D?line=1'>2</a>\u001b[0m      \n\u001b[0;32m      <a href='vscode-notebook-cell:/e%3A/Users/anshul/Desktop/ml_prac/s2t/call2reminder.ipynb#W3sZmlsZQ%3D%3D?line=2'>3</a>\u001b[0m     \u001b[39m# Exception handling to handle\u001b[39;00m\n\u001b[0;32m      <a href='vscode-notebook-cell:/e%3A/Users/anshul/Desktop/ml_prac/s2t/call2reminder.ipynb#W3sZmlsZQ%3D%3D?line=3'>4</a>\u001b[0m     \u001b[39m# exceptions at the runtime\u001b[39;00m\n\u001b[0;32m      <a href='vscode-notebook-cell:/e%3A/Users/anshul/Desktop/ml_prac/s2t/call2reminder.ipynb#W3sZmlsZQ%3D%3D?line=4'>5</a>\u001b[0m     \u001b[39mtry\u001b[39;00m:\n\u001b[0;32m      <a href='vscode-notebook-cell:/e%3A/Users/anshul/Desktop/ml_prac/s2t/call2reminder.ipynb#W3sZmlsZQ%3D%3D?line=5'>6</a>\u001b[0m          \n\u001b[0;32m      <a href='vscode-notebook-cell:/e%3A/Users/anshul/Desktop/ml_prac/s2t/call2reminder.ipynb#W3sZmlsZQ%3D%3D?line=6'>7</a>\u001b[0m         \u001b[39m# use the microphone as source for input.\u001b[39;00m\n\u001b[1;32m----> <a href='vscode-notebook-cell:/e%3A/Users/anshul/Desktop/ml_prac/s2t/call2reminder.ipynb#W3sZmlsZQ%3D%3D?line=7'>8</a>\u001b[0m         \u001b[39mwith\u001b[39;00m sr\u001b[39m.\u001b[39;49mMicrophone() \u001b[39mas\u001b[39;00m source2:\n\u001b[0;32m      <a href='vscode-notebook-cell:/e%3A/Users/anshul/Desktop/ml_prac/s2t/call2reminder.ipynb#W3sZmlsZQ%3D%3D?line=8'>9</a>\u001b[0m              \n\u001b[0;32m     <a href='vscode-notebook-cell:/e%3A/Users/anshul/Desktop/ml_prac/s2t/call2reminder.ipynb#W3sZmlsZQ%3D%3D?line=9'>10</a>\u001b[0m             \u001b[39m# wait for a second to let the recognizer\u001b[39;00m\n\u001b[0;32m     <a href='vscode-notebook-cell:/e%3A/Users/anshul/Desktop/ml_prac/s2t/call2reminder.ipynb#W3sZmlsZQ%3D%3D?line=10'>11</a>\u001b[0m             \u001b[39m# adjust the energy threshold based on\u001b[39;00m\n\u001b[0;32m     <a href='vscode-notebook-cell:/e%3A/Users/anshul/Desktop/ml_prac/s2t/call2reminder.ipynb#W3sZmlsZQ%3D%3D?line=11'>12</a>\u001b[0m             \u001b[39m# the surrounding noise level\u001b[39;00m\n\u001b[0;32m     <a href='vscode-notebook-cell:/e%3A/Users/anshul/Desktop/ml_prac/s2t/call2reminder.ipynb#W3sZmlsZQ%3D%3D?line=12'>13</a>\u001b[0m             r\u001b[39m.\u001b[39madjust_for_ambient_noise(source2, duration\u001b[39m=\u001b[39m\u001b[39m0.2\u001b[39m)\n\u001b[0;32m     <a href='vscode-notebook-cell:/e%3A/Users/anshul/Desktop/ml_prac/s2t/call2reminder.ipynb#W3sZmlsZQ%3D%3D?line=14'>15</a>\u001b[0m             \u001b[39m#listens for the user's input\u001b[39;00m\n",
      "File \u001b[1;32mc:\\Users\\anshul\\miniconda3\\lib\\site-packages\\speech_recognition\\__init__.py:87\u001b[0m, in \u001b[0;36mMicrophone.__init__\u001b[1;34m(self, device_index, sample_rate, chunk_size)\u001b[0m\n\u001b[0;32m     85\u001b[0m     \u001b[39massert\u001b[39;00m \u001b[39m0\u001b[39m \u001b[39m<\u001b[39m\u001b[39m=\u001b[39m device_index \u001b[39m<\u001b[39m count, \u001b[39m\"\u001b[39m\u001b[39mDevice index out of range (\u001b[39m\u001b[39m{}\u001b[39;00m\u001b[39m devices available; device index should be between 0 and \u001b[39m\u001b[39m{}\u001b[39;00m\u001b[39m inclusive)\u001b[39m\u001b[39m\"\u001b[39m\u001b[39m.\u001b[39mformat(count, count \u001b[39m-\u001b[39m \u001b[39m1\u001b[39m)\n\u001b[0;32m     86\u001b[0m \u001b[39mif\u001b[39;00m sample_rate \u001b[39mis\u001b[39;00m \u001b[39mNone\u001b[39;00m:  \u001b[39m# automatically set the sample rate to the hardware's default sample rate if not specified\u001b[39;00m\n\u001b[1;32m---> 87\u001b[0m     device_info \u001b[39m=\u001b[39m audio\u001b[39m.\u001b[39mget_device_info_by_index(device_index) \u001b[39mif\u001b[39;00m device_index \u001b[39mis\u001b[39;00m \u001b[39mnot\u001b[39;00m \u001b[39mNone\u001b[39;00m \u001b[39melse\u001b[39;00m audio\u001b[39m.\u001b[39;49mget_default_input_device_info()\n\u001b[0;32m     88\u001b[0m     \u001b[39massert\u001b[39;00m \u001b[39misinstance\u001b[39m(device_info\u001b[39m.\u001b[39mget(\u001b[39m\"\u001b[39m\u001b[39mdefaultSampleRate\u001b[39m\u001b[39m\"\u001b[39m), (\u001b[39mfloat\u001b[39m, \u001b[39mint\u001b[39m)) \u001b[39mand\u001b[39;00m device_info[\u001b[39m\"\u001b[39m\u001b[39mdefaultSampleRate\u001b[39m\u001b[39m\"\u001b[39m] \u001b[39m>\u001b[39m \u001b[39m0\u001b[39m, \u001b[39m\"\u001b[39m\u001b[39mInvalid device info returned from PyAudio: \u001b[39m\u001b[39m{}\u001b[39;00m\u001b[39m\"\u001b[39m\u001b[39m.\u001b[39mformat(device_info)\n\u001b[0;32m     89\u001b[0m     sample_rate \u001b[39m=\u001b[39m \u001b[39mint\u001b[39m(device_info[\u001b[39m\"\u001b[39m\u001b[39mdefaultSampleRate\u001b[39m\u001b[39m\"\u001b[39m])\n",
      "File \u001b[1;32mc:\\Users\\anshul\\miniconda3\\lib\\site-packages\\pyaudio\\__init__.py:812\u001b[0m, in \u001b[0;36mPyAudio.get_default_input_device_info\u001b[1;34m(self)\u001b[0m\n\u001b[0;32m    803\u001b[0m \u001b[39mdef\u001b[39;00m \u001b[39mget_default_input_device_info\u001b[39m(\u001b[39mself\u001b[39m):\n\u001b[0;32m    804\u001b[0m \u001b[39m    \u001b[39m\u001b[39m\"\"\"Returns the default input device parameters as a dictionary.\u001b[39;00m\n\u001b[0;32m    805\u001b[0m \n\u001b[0;32m    806\u001b[0m \u001b[39m    The keys of the dictionary mirror the data fields of PortAudio's\u001b[39;00m\n\u001b[1;32m   (...)\u001b[0m\n\u001b[0;32m    810\u001b[0m \u001b[39m    :rtype: dict\u001b[39;00m\n\u001b[0;32m    811\u001b[0m \u001b[39m    \"\"\"\u001b[39;00m\n\u001b[1;32m--> 812\u001b[0m     device_index \u001b[39m=\u001b[39m pa\u001b[39m.\u001b[39;49mget_default_input_device()\n\u001b[0;32m    813\u001b[0m     \u001b[39mreturn\u001b[39;00m \u001b[39mself\u001b[39m\u001b[39m.\u001b[39mget_device_info_by_index(device_index)\n",
      "\u001b[1;31mOSError\u001b[0m: No Default Input Device Available"
     ]
    }
   ],
   "source": [
    "while(1):   \n",
    "     \n",
    "    # Exception handling to handle\n",
    "    # exceptions at the runtime\n",
    "    try:\n",
    "         \n",
    "        # use the microphone as source for input.\n",
    "        with sr.Microphone() as source2:\n",
    "             \n",
    "            # wait for a second to let the recognizer\n",
    "            # adjust the energy threshold based on\n",
    "            # the surrounding noise level\n",
    "            r.adjust_for_ambient_noise(source2, duration=0.2)\n",
    "             \n",
    "            #listens for the user's input\n",
    "            audio2 = r.listen(source2)\n",
    "             \n",
    "            # Using google to recognize audio\n",
    "            MyText = r.recognize_google(audio2)\n",
    "            MyText = MyText.lower()\n",
    " \n",
    "            print(\"Did you say \",MyText)\n",
    "            SpeakText(MyText)\n",
    "             \n",
    "    except sr.RequestError as e:\n",
    "        print(\"Could not request results; {0}\".format(e))\n",
    "         \n",
    "    except sr.UnknownValueError:\n",
    "        print(\"unknown error occurred\")"
   ]
  },
  {
   "cell_type": "code",
   "execution_count": null,
   "metadata": {},
   "outputs": [],
   "source": []
  }
 ],
 "metadata": {
  "kernelspec": {
   "display_name": "base",
   "language": "python",
   "name": "python3"
  },
  "language_info": {
   "codemirror_mode": {
    "name": "ipython",
    "version": 3
   },
   "file_extension": ".py",
   "mimetype": "text/x-python",
   "name": "python",
   "nbconvert_exporter": "python",
   "pygments_lexer": "ipython3",
   "version": "3.10.10"
  },
  "orig_nbformat": 4
 },
 "nbformat": 4,
 "nbformat_minor": 2
}
