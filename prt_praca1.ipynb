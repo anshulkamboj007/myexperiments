{
 "cells": [
  {
   "cell_type": "code",
   "execution_count": 136,
   "metadata": {},
   "outputs": [],
   "source": [
    "import pandas as pd\n",
    "import numpy as np\n",
    "import matplotlib.pyplot as plt"
   ]
  },
  {
   "cell_type": "code",
   "execution_count": 137,
   "metadata": {},
   "outputs": [
    {
     "data": {
      "text/html": [
       "<div>\n",
       "<style scoped>\n",
       "    .dataframe tbody tr th:only-of-type {\n",
       "        vertical-align: middle;\n",
       "    }\n",
       "\n",
       "    .dataframe tbody tr th {\n",
       "        vertical-align: top;\n",
       "    }\n",
       "\n",
       "    .dataframe thead th {\n",
       "        text-align: right;\n",
       "    }\n",
       "</style>\n",
       "<table border=\"1\" class=\"dataframe\">\n",
       "  <thead>\n",
       "    <tr style=\"text-align: right;\">\n",
       "      <th></th>\n",
       "      <th>ID</th>\n",
       "      <th>Year_Birth</th>\n",
       "      <th>Education</th>\n",
       "      <th>Marital_Status</th>\n",
       "      <th>Income</th>\n",
       "      <th>Kidhome</th>\n",
       "      <th>Teenhome</th>\n",
       "      <th>Dt_Customer</th>\n",
       "      <th>Recency</th>\n",
       "      <th>MntWines</th>\n",
       "      <th>...</th>\n",
       "      <th>NumWebVisitsMonth</th>\n",
       "      <th>AcceptedCmp3</th>\n",
       "      <th>AcceptedCmp4</th>\n",
       "      <th>AcceptedCmp5</th>\n",
       "      <th>AcceptedCmp1</th>\n",
       "      <th>AcceptedCmp2</th>\n",
       "      <th>Complain</th>\n",
       "      <th>Z_CostContact</th>\n",
       "      <th>Z_Revenue</th>\n",
       "      <th>Response</th>\n",
       "    </tr>\n",
       "  </thead>\n",
       "  <tbody>\n",
       "    <tr>\n",
       "      <th>0</th>\n",
       "      <td>5524</td>\n",
       "      <td>1957</td>\n",
       "      <td>Graduation</td>\n",
       "      <td>Single</td>\n",
       "      <td>58138.0</td>\n",
       "      <td>0</td>\n",
       "      <td>0</td>\n",
       "      <td>04-09-2012</td>\n",
       "      <td>58</td>\n",
       "      <td>635</td>\n",
       "      <td>...</td>\n",
       "      <td>7</td>\n",
       "      <td>0</td>\n",
       "      <td>0</td>\n",
       "      <td>0</td>\n",
       "      <td>0</td>\n",
       "      <td>0</td>\n",
       "      <td>0</td>\n",
       "      <td>3</td>\n",
       "      <td>11</td>\n",
       "      <td>1</td>\n",
       "    </tr>\n",
       "    <tr>\n",
       "      <th>1</th>\n",
       "      <td>2174</td>\n",
       "      <td>1954</td>\n",
       "      <td>Graduation</td>\n",
       "      <td>Single</td>\n",
       "      <td>46344.0</td>\n",
       "      <td>1</td>\n",
       "      <td>1</td>\n",
       "      <td>08-03-2014</td>\n",
       "      <td>38</td>\n",
       "      <td>11</td>\n",
       "      <td>...</td>\n",
       "      <td>5</td>\n",
       "      <td>0</td>\n",
       "      <td>0</td>\n",
       "      <td>0</td>\n",
       "      <td>0</td>\n",
       "      <td>0</td>\n",
       "      <td>0</td>\n",
       "      <td>3</td>\n",
       "      <td>11</td>\n",
       "      <td>0</td>\n",
       "    </tr>\n",
       "    <tr>\n",
       "      <th>2</th>\n",
       "      <td>4141</td>\n",
       "      <td>1965</td>\n",
       "      <td>Graduation</td>\n",
       "      <td>Together</td>\n",
       "      <td>71613.0</td>\n",
       "      <td>0</td>\n",
       "      <td>0</td>\n",
       "      <td>21-08-2013</td>\n",
       "      <td>26</td>\n",
       "      <td>426</td>\n",
       "      <td>...</td>\n",
       "      <td>4</td>\n",
       "      <td>0</td>\n",
       "      <td>0</td>\n",
       "      <td>0</td>\n",
       "      <td>0</td>\n",
       "      <td>0</td>\n",
       "      <td>0</td>\n",
       "      <td>3</td>\n",
       "      <td>11</td>\n",
       "      <td>0</td>\n",
       "    </tr>\n",
       "  </tbody>\n",
       "</table>\n",
       "<p>3 rows × 29 columns</p>\n",
       "</div>"
      ],
      "text/plain": [
       "     ID  Year_Birth   Education Marital_Status   Income  Kidhome  Teenhome   \n",
       "0  5524        1957  Graduation         Single  58138.0        0         0  \\\n",
       "1  2174        1954  Graduation         Single  46344.0        1         1   \n",
       "2  4141        1965  Graduation       Together  71613.0        0         0   \n",
       "\n",
       "  Dt_Customer  Recency  MntWines  ...  NumWebVisitsMonth  AcceptedCmp3   \n",
       "0  04-09-2012       58       635  ...                  7             0  \\\n",
       "1  08-03-2014       38        11  ...                  5             0   \n",
       "2  21-08-2013       26       426  ...                  4             0   \n",
       "\n",
       "   AcceptedCmp4  AcceptedCmp5  AcceptedCmp1  AcceptedCmp2  Complain   \n",
       "0             0             0             0             0         0  \\\n",
       "1             0             0             0             0         0   \n",
       "2             0             0             0             0         0   \n",
       "\n",
       "   Z_CostContact  Z_Revenue  Response  \n",
       "0              3         11         1  \n",
       "1              3         11         0  \n",
       "2              3         11         0  \n",
       "\n",
       "[3 rows x 29 columns]"
      ]
     },
     "execution_count": 137,
     "metadata": {},
     "output_type": "execute_result"
    }
   ],
   "source": [
    "df=pd.read_csv('marketing_campaign.csv',sep='\\t')\n",
    "df.head(3)"
   ]
  },
  {
   "cell_type": "code",
   "execution_count": 138,
   "metadata": {},
   "outputs": [
    {
     "data": {
      "text/plain": [
       "Index(['ID', 'Year_Birth', 'Education', 'Marital_Status', 'Income', 'Kidhome',\n",
       "       'Teenhome', 'Dt_Customer', 'Recency', 'MntWines', 'MntFruits',\n",
       "       'MntMeatProducts', 'MntFishProducts', 'MntSweetProducts',\n",
       "       'MntGoldProds', 'NumDealsPurchases', 'NumWebPurchases',\n",
       "       'NumCatalogPurchases', 'NumStorePurchases', 'NumWebVisitsMonth',\n",
       "       'AcceptedCmp3', 'AcceptedCmp4', 'AcceptedCmp5', 'AcceptedCmp1',\n",
       "       'AcceptedCmp2', 'Complain', 'Z_CostContact', 'Z_Revenue', 'Response'],\n",
       "      dtype='object')"
      ]
     },
     "execution_count": 138,
     "metadata": {},
     "output_type": "execute_result"
    }
   ],
   "source": [
    "df.columns"
   ]
  },
  {
   "cell_type": "code",
   "execution_count": 139,
   "metadata": {},
   "outputs": [
    {
     "name": "stdout",
     "output_type": "stream",
     "text": [
      "<class 'pandas.core.frame.DataFrame'>\n",
      "RangeIndex: 2240 entries, 0 to 2239\n",
      "Data columns (total 29 columns):\n",
      " #   Column               Non-Null Count  Dtype  \n",
      "---  ------               --------------  -----  \n",
      " 0   ID                   2240 non-null   int64  \n",
      " 1   Year_Birth           2240 non-null   int64  \n",
      " 2   Education            2240 non-null   object \n",
      " 3   Marital_Status       2240 non-null   object \n",
      " 4   Income               2216 non-null   float64\n",
      " 5   Kidhome              2240 non-null   int64  \n",
      " 6   Teenhome             2240 non-null   int64  \n",
      " 7   Dt_Customer          2240 non-null   object \n",
      " 8   Recency              2240 non-null   int64  \n",
      " 9   MntWines             2240 non-null   int64  \n",
      " 10  MntFruits            2240 non-null   int64  \n",
      " 11  MntMeatProducts      2240 non-null   int64  \n",
      " 12  MntFishProducts      2240 non-null   int64  \n",
      " 13  MntSweetProducts     2240 non-null   int64  \n",
      " 14  MntGoldProds         2240 non-null   int64  \n",
      " 15  NumDealsPurchases    2240 non-null   int64  \n",
      " 16  NumWebPurchases      2240 non-null   int64  \n",
      " 17  NumCatalogPurchases  2240 non-null   int64  \n",
      " 18  NumStorePurchases    2240 non-null   int64  \n",
      " 19  NumWebVisitsMonth    2240 non-null   int64  \n",
      " 20  AcceptedCmp3         2240 non-null   int64  \n",
      " 21  AcceptedCmp4         2240 non-null   int64  \n",
      " 22  AcceptedCmp5         2240 non-null   int64  \n",
      " 23  AcceptedCmp1         2240 non-null   int64  \n",
      " 24  AcceptedCmp2         2240 non-null   int64  \n",
      " 25  Complain             2240 non-null   int64  \n",
      " 26  Z_CostContact        2240 non-null   int64  \n",
      " 27  Z_Revenue            2240 non-null   int64  \n",
      " 28  Response             2240 non-null   int64  \n",
      "dtypes: float64(1), int64(25), object(3)\n",
      "memory usage: 507.6+ KB\n"
     ]
    }
   ],
   "source": [
    "df.info()"
   ]
  },
  {
   "cell_type": "code",
   "execution_count": 140,
   "metadata": {},
   "outputs": [],
   "source": [
    "df.drop(['ID','Year_Birth','Dt_Customer'],inplace=True,axis=1)"
   ]
  },
  {
   "cell_type": "code",
   "execution_count": 141,
   "metadata": {},
   "outputs": [],
   "source": [
    "df['Kidhome']=df['Kidhome'].astype(object)"
   ]
  },
  {
   "cell_type": "code",
   "execution_count": 142,
   "metadata": {},
   "outputs": [],
   "source": [
    "df['Teenhome']=df['Teenhome'].astype(object)\n",
    "df['AcceptedCmp3']=df['AcceptedCmp3'].astype(object)\n",
    "df['AcceptedCmp4']=df['AcceptedCmp4'].astype(object)\n",
    "df['AcceptedCmp5']=df['AcceptedCmp5'].astype(object)\n",
    "df['AcceptedCmp1']=df['AcceptedCmp1'].astype(object)\n",
    "df['AcceptedCmp2']=df['AcceptedCmp2'].astype(object)\n",
    "df['Complain']=df['Complain'].astype(object)\n",
    "df['Z_CostContact']=df['Z_CostContact'].astype(object)\n",
    "df['Z_Revenue']=df['Z_Revenue'].astype(object)\n",
    "df['Response']=df['Response'].astype(object)"
   ]
  },
  {
   "cell_type": "code",
   "execution_count": 143,
   "metadata": {},
   "outputs": [
    {
     "data": {
      "text/plain": [
       "Index(['Income', 'Recency', 'MntWines', 'MntFruits', 'MntMeatProducts',\n",
       "       'MntFishProducts', 'MntSweetProducts', 'MntGoldProds',\n",
       "       'NumDealsPurchases', 'NumWebPurchases', 'NumCatalogPurchases',\n",
       "       'NumStorePurchases', 'NumWebVisitsMonth', 'Education_Basic',\n",
       "       'Education_Graduation', 'Education_Master', 'Education_PhD',\n",
       "       'Marital_Status_Alone', 'Marital_Status_Divorced',\n",
       "       'Marital_Status_Married', 'Marital_Status_Single',\n",
       "       'Marital_Status_Together', 'Marital_Status_Widow',\n",
       "       'Marital_Status_YOLO', 'Kidhome_1', 'Kidhome_2', 'Teenhome_1',\n",
       "       'Teenhome_2', 'AcceptedCmp3_1', 'AcceptedCmp4_1', 'AcceptedCmp5_1',\n",
       "       'AcceptedCmp1_1', 'AcceptedCmp2_1', 'Complain_1', 'Response_1'],\n",
       "      dtype='object')"
      ]
     },
     "execution_count": 143,
     "metadata": {},
     "output_type": "execute_result"
    }
   ],
   "source": [
    "pd.get_dummies(df,drop_first=True,dtype=float).columns"
   ]
  },
  {
   "cell_type": "code",
   "execution_count": 144,
   "metadata": {},
   "outputs": [],
   "source": [
    "df=pd.get_dummies(df,drop_first=True,dtype=float)"
   ]
  },
  {
   "cell_type": "code",
   "execution_count": 145,
   "metadata": {},
   "outputs": [],
   "source": [
    "df.dropna(inplace=True)"
   ]
  },
  {
   "cell_type": "code",
   "execution_count": 146,
   "metadata": {},
   "outputs": [],
   "source": [
    "from sklearn.preprocessing import StandardScaler\n",
    "x=df.drop('Response_1',axis=1)\n",
    "y=df['Response_1']"
   ]
  },
  {
   "cell_type": "code",
   "execution_count": 147,
   "metadata": {},
   "outputs": [],
   "source": [
    "scaler=StandardScaler()\n",
    "x_scaled=scaler.fit_transform(x)"
   ]
  },
  {
   "cell_type": "code",
   "execution_count": 148,
   "metadata": {},
   "outputs": [
    {
     "data": {
      "text/html": [
       "<div>\n",
       "<style scoped>\n",
       "    .dataframe tbody tr th:only-of-type {\n",
       "        vertical-align: middle;\n",
       "    }\n",
       "\n",
       "    .dataframe tbody tr th {\n",
       "        vertical-align: top;\n",
       "    }\n",
       "\n",
       "    .dataframe thead th {\n",
       "        text-align: right;\n",
       "    }\n",
       "</style>\n",
       "<table border=\"1\" class=\"dataframe\">\n",
       "  <thead>\n",
       "    <tr style=\"text-align: right;\">\n",
       "      <th></th>\n",
       "      <th>Income</th>\n",
       "      <th>Recency</th>\n",
       "      <th>MntWines</th>\n",
       "      <th>MntFruits</th>\n",
       "      <th>MntMeatProducts</th>\n",
       "      <th>MntFishProducts</th>\n",
       "      <th>MntSweetProducts</th>\n",
       "      <th>MntGoldProds</th>\n",
       "      <th>NumDealsPurchases</th>\n",
       "      <th>NumWebPurchases</th>\n",
       "      <th>...</th>\n",
       "      <th>Kidhome_1</th>\n",
       "      <th>Kidhome_2</th>\n",
       "      <th>Teenhome_1</th>\n",
       "      <th>Teenhome_2</th>\n",
       "      <th>AcceptedCmp3_1</th>\n",
       "      <th>AcceptedCmp4_1</th>\n",
       "      <th>AcceptedCmp5_1</th>\n",
       "      <th>AcceptedCmp1_1</th>\n",
       "      <th>AcceptedCmp2_1</th>\n",
       "      <th>Complain_1</th>\n",
       "    </tr>\n",
       "  </thead>\n",
       "  <tbody>\n",
       "    <tr>\n",
       "      <th>0</th>\n",
       "      <td>0.234063</td>\n",
       "      <td>0.310532</td>\n",
       "      <td>0.978226</td>\n",
       "      <td>1.549429</td>\n",
       "      <td>1.690227</td>\n",
       "      <td>2.454568</td>\n",
       "      <td>1.484827</td>\n",
       "      <td>0.850031</td>\n",
       "      <td>0.351713</td>\n",
       "      <td>1.428553</td>\n",
       "      <td>...</td>\n",
       "      <td>-0.816957</td>\n",
       "      <td>-0.145596</td>\n",
       "      <td>-0.921819</td>\n",
       "      <td>-0.153482</td>\n",
       "      <td>-0.281773</td>\n",
       "      <td>-0.282705</td>\n",
       "      <td>-0.280839</td>\n",
       "      <td>-0.261661</td>\n",
       "      <td>-0.117148</td>\n",
       "      <td>-0.097812</td>\n",
       "    </tr>\n",
       "    <tr>\n",
       "      <th>1</th>\n",
       "      <td>-0.234559</td>\n",
       "      <td>-0.380509</td>\n",
       "      <td>-0.872024</td>\n",
       "      <td>-0.637328</td>\n",
       "      <td>-0.717986</td>\n",
       "      <td>-0.651038</td>\n",
       "      <td>-0.633880</td>\n",
       "      <td>-0.732867</td>\n",
       "      <td>-0.168231</td>\n",
       "      <td>-1.125881</td>\n",
       "      <td>...</td>\n",
       "      <td>1.224054</td>\n",
       "      <td>-0.145596</td>\n",
       "      <td>1.084812</td>\n",
       "      <td>-0.153482</td>\n",
       "      <td>-0.281773</td>\n",
       "      <td>-0.282705</td>\n",
       "      <td>-0.280839</td>\n",
       "      <td>-0.261661</td>\n",
       "      <td>-0.117148</td>\n",
       "      <td>-0.097812</td>\n",
       "    </tr>\n",
       "    <tr>\n",
       "      <th>2</th>\n",
       "      <td>0.769478</td>\n",
       "      <td>-0.795134</td>\n",
       "      <td>0.358511</td>\n",
       "      <td>0.569159</td>\n",
       "      <td>-0.178368</td>\n",
       "      <td>1.340203</td>\n",
       "      <td>-0.146821</td>\n",
       "      <td>-0.037937</td>\n",
       "      <td>-0.688176</td>\n",
       "      <td>1.428553</td>\n",
       "      <td>...</td>\n",
       "      <td>-0.816957</td>\n",
       "      <td>-0.145596</td>\n",
       "      <td>-0.921819</td>\n",
       "      <td>-0.153482</td>\n",
       "      <td>-0.281773</td>\n",
       "      <td>-0.282705</td>\n",
       "      <td>-0.280839</td>\n",
       "      <td>-0.261661</td>\n",
       "      <td>-0.117148</td>\n",
       "      <td>-0.097812</td>\n",
       "    </tr>\n",
       "    <tr>\n",
       "      <th>3</th>\n",
       "      <td>-1.017239</td>\n",
       "      <td>-0.795134</td>\n",
       "      <td>-0.872024</td>\n",
       "      <td>-0.561922</td>\n",
       "      <td>-0.655551</td>\n",
       "      <td>-0.504892</td>\n",
       "      <td>-0.585174</td>\n",
       "      <td>-0.752171</td>\n",
       "      <td>-0.168231</td>\n",
       "      <td>-0.760962</td>\n",
       "      <td>...</td>\n",
       "      <td>1.224054</td>\n",
       "      <td>-0.145596</td>\n",
       "      <td>-0.921819</td>\n",
       "      <td>-0.153482</td>\n",
       "      <td>-0.281773</td>\n",
       "      <td>-0.282705</td>\n",
       "      <td>-0.280839</td>\n",
       "      <td>-0.261661</td>\n",
       "      <td>-0.117148</td>\n",
       "      <td>-0.097812</td>\n",
       "    </tr>\n",
       "    <tr>\n",
       "      <th>4</th>\n",
       "      <td>0.240221</td>\n",
       "      <td>1.554407</td>\n",
       "      <td>-0.391671</td>\n",
       "      <td>0.418348</td>\n",
       "      <td>-0.218505</td>\n",
       "      <td>0.152766</td>\n",
       "      <td>-0.000703</td>\n",
       "      <td>-0.559135</td>\n",
       "      <td>1.391603</td>\n",
       "      <td>0.333796</td>\n",
       "      <td>...</td>\n",
       "      <td>1.224054</td>\n",
       "      <td>-0.145596</td>\n",
       "      <td>-0.921819</td>\n",
       "      <td>-0.153482</td>\n",
       "      <td>-0.281773</td>\n",
       "      <td>-0.282705</td>\n",
       "      <td>-0.280839</td>\n",
       "      <td>-0.261661</td>\n",
       "      <td>-0.117148</td>\n",
       "      <td>-0.097812</td>\n",
       "    </tr>\n",
       "    <tr>\n",
       "      <th>...</th>\n",
       "      <td>...</td>\n",
       "      <td>...</td>\n",
       "      <td>...</td>\n",
       "      <td>...</td>\n",
       "      <td>...</td>\n",
       "      <td>...</td>\n",
       "      <td>...</td>\n",
       "      <td>...</td>\n",
       "      <td>...</td>\n",
       "      <td>...</td>\n",
       "      <td>...</td>\n",
       "      <td>...</td>\n",
       "      <td>...</td>\n",
       "      <td>...</td>\n",
       "      <td>...</td>\n",
       "      <td>...</td>\n",
       "      <td>...</td>\n",
       "      <td>...</td>\n",
       "      <td>...</td>\n",
       "      <td>...</td>\n",
       "      <td>...</td>\n",
       "    </tr>\n",
       "    <tr>\n",
       "      <th>2211</th>\n",
       "      <td>0.356642</td>\n",
       "      <td>-0.104093</td>\n",
       "      <td>1.197646</td>\n",
       "      <td>0.418348</td>\n",
       "      <td>0.066913</td>\n",
       "      <td>0.079693</td>\n",
       "      <td>2.215416</td>\n",
       "      <td>3.919308</td>\n",
       "      <td>-0.168231</td>\n",
       "      <td>1.793473</td>\n",
       "      <td>...</td>\n",
       "      <td>-0.816957</td>\n",
       "      <td>-0.145596</td>\n",
       "      <td>1.084812</td>\n",
       "      <td>-0.153482</td>\n",
       "      <td>-0.281773</td>\n",
       "      <td>-0.282705</td>\n",
       "      <td>-0.280839</td>\n",
       "      <td>-0.261661</td>\n",
       "      <td>-0.117148</td>\n",
       "      <td>-0.097812</td>\n",
       "    </tr>\n",
       "    <tr>\n",
       "      <th>2212</th>\n",
       "      <td>0.467539</td>\n",
       "      <td>0.241428</td>\n",
       "      <td>0.299208</td>\n",
       "      <td>-0.662463</td>\n",
       "      <td>-0.610954</td>\n",
       "      <td>-0.687574</td>\n",
       "      <td>-0.658233</td>\n",
       "      <td>-0.694260</td>\n",
       "      <td>2.431492</td>\n",
       "      <td>1.428553</td>\n",
       "      <td>...</td>\n",
       "      <td>-0.816957</td>\n",
       "      <td>6.868327</td>\n",
       "      <td>1.084812</td>\n",
       "      <td>-0.153482</td>\n",
       "      <td>-0.281773</td>\n",
       "      <td>-0.282705</td>\n",
       "      <td>-0.280839</td>\n",
       "      <td>3.821732</td>\n",
       "      <td>-0.117148</td>\n",
       "      <td>-0.097812</td>\n",
       "    </tr>\n",
       "    <tr>\n",
       "      <th>2213</th>\n",
       "      <td>0.188091</td>\n",
       "      <td>1.450751</td>\n",
       "      <td>1.787710</td>\n",
       "      <td>0.544024</td>\n",
       "      <td>0.223001</td>\n",
       "      <td>-0.102990</td>\n",
       "      <td>-0.365998</td>\n",
       "      <td>-0.385402</td>\n",
       "      <td>-0.688176</td>\n",
       "      <td>-0.760962</td>\n",
       "      <td>...</td>\n",
       "      <td>-0.816957</td>\n",
       "      <td>-0.145596</td>\n",
       "      <td>-0.921819</td>\n",
       "      <td>-0.153482</td>\n",
       "      <td>-0.281773</td>\n",
       "      <td>3.537258</td>\n",
       "      <td>-0.280839</td>\n",
       "      <td>-0.261661</td>\n",
       "      <td>-0.117148</td>\n",
       "      <td>-0.097812</td>\n",
       "    </tr>\n",
       "    <tr>\n",
       "      <th>2214</th>\n",
       "      <td>0.675388</td>\n",
       "      <td>-1.417072</td>\n",
       "      <td>0.364441</td>\n",
       "      <td>0.091591</td>\n",
       "      <td>0.209622</td>\n",
       "      <td>0.773887</td>\n",
       "      <td>0.072356</td>\n",
       "      <td>0.328832</td>\n",
       "      <td>-0.168231</td>\n",
       "      <td>0.698715</td>\n",
       "      <td>...</td>\n",
       "      <td>-0.816957</td>\n",
       "      <td>-0.145596</td>\n",
       "      <td>1.084812</td>\n",
       "      <td>-0.153482</td>\n",
       "      <td>-0.281773</td>\n",
       "      <td>-0.282705</td>\n",
       "      <td>-0.280839</td>\n",
       "      <td>-0.261661</td>\n",
       "      <td>-0.117148</td>\n",
       "      <td>-0.097812</td>\n",
       "    </tr>\n",
       "    <tr>\n",
       "      <th>2215</th>\n",
       "      <td>0.024705</td>\n",
       "      <td>-0.311405</td>\n",
       "      <td>-0.655568</td>\n",
       "      <td>-0.587058</td>\n",
       "      <td>-0.472705</td>\n",
       "      <td>-0.651038</td>\n",
       "      <td>-0.633880</td>\n",
       "      <td>-0.443313</td>\n",
       "      <td>0.351713</td>\n",
       "      <td>-0.396043</td>\n",
       "      <td>...</td>\n",
       "      <td>1.224054</td>\n",
       "      <td>-0.145596</td>\n",
       "      <td>1.084812</td>\n",
       "      <td>-0.153482</td>\n",
       "      <td>-0.281773</td>\n",
       "      <td>-0.282705</td>\n",
       "      <td>-0.280839</td>\n",
       "      <td>-0.261661</td>\n",
       "      <td>-0.117148</td>\n",
       "      <td>-0.097812</td>\n",
       "    </tr>\n",
       "  </tbody>\n",
       "</table>\n",
       "<p>2216 rows × 34 columns</p>\n",
       "</div>"
      ],
      "text/plain": [
       "        Income   Recency  MntWines  MntFruits  MntMeatProducts   \n",
       "0     0.234063  0.310532  0.978226   1.549429         1.690227  \\\n",
       "1    -0.234559 -0.380509 -0.872024  -0.637328        -0.717986   \n",
       "2     0.769478 -0.795134  0.358511   0.569159        -0.178368   \n",
       "3    -1.017239 -0.795134 -0.872024  -0.561922        -0.655551   \n",
       "4     0.240221  1.554407 -0.391671   0.418348        -0.218505   \n",
       "...        ...       ...       ...        ...              ...   \n",
       "2211  0.356642 -0.104093  1.197646   0.418348         0.066913   \n",
       "2212  0.467539  0.241428  0.299208  -0.662463        -0.610954   \n",
       "2213  0.188091  1.450751  1.787710   0.544024         0.223001   \n",
       "2214  0.675388 -1.417072  0.364441   0.091591         0.209622   \n",
       "2215  0.024705 -0.311405 -0.655568  -0.587058        -0.472705   \n",
       "\n",
       "      MntFishProducts  MntSweetProducts  MntGoldProds  NumDealsPurchases   \n",
       "0            2.454568          1.484827      0.850031           0.351713  \\\n",
       "1           -0.651038         -0.633880     -0.732867          -0.168231   \n",
       "2            1.340203         -0.146821     -0.037937          -0.688176   \n",
       "3           -0.504892         -0.585174     -0.752171          -0.168231   \n",
       "4            0.152766         -0.000703     -0.559135           1.391603   \n",
       "...               ...               ...           ...                ...   \n",
       "2211         0.079693          2.215416      3.919308          -0.168231   \n",
       "2212        -0.687574         -0.658233     -0.694260           2.431492   \n",
       "2213        -0.102990         -0.365998     -0.385402          -0.688176   \n",
       "2214         0.773887          0.072356      0.328832          -0.168231   \n",
       "2215        -0.651038         -0.633880     -0.443313           0.351713   \n",
       "\n",
       "      NumWebPurchases  ...  Kidhome_1  Kidhome_2  Teenhome_1  Teenhome_2   \n",
       "0            1.428553  ...  -0.816957  -0.145596   -0.921819   -0.153482  \\\n",
       "1           -1.125881  ...   1.224054  -0.145596    1.084812   -0.153482   \n",
       "2            1.428553  ...  -0.816957  -0.145596   -0.921819   -0.153482   \n",
       "3           -0.760962  ...   1.224054  -0.145596   -0.921819   -0.153482   \n",
       "4            0.333796  ...   1.224054  -0.145596   -0.921819   -0.153482   \n",
       "...               ...  ...        ...        ...         ...         ...   \n",
       "2211         1.793473  ...  -0.816957  -0.145596    1.084812   -0.153482   \n",
       "2212         1.428553  ...  -0.816957   6.868327    1.084812   -0.153482   \n",
       "2213        -0.760962  ...  -0.816957  -0.145596   -0.921819   -0.153482   \n",
       "2214         0.698715  ...  -0.816957  -0.145596    1.084812   -0.153482   \n",
       "2215        -0.396043  ...   1.224054  -0.145596    1.084812   -0.153482   \n",
       "\n",
       "      AcceptedCmp3_1  AcceptedCmp4_1  AcceptedCmp5_1  AcceptedCmp1_1   \n",
       "0          -0.281773       -0.282705       -0.280839       -0.261661  \\\n",
       "1          -0.281773       -0.282705       -0.280839       -0.261661   \n",
       "2          -0.281773       -0.282705       -0.280839       -0.261661   \n",
       "3          -0.281773       -0.282705       -0.280839       -0.261661   \n",
       "4          -0.281773       -0.282705       -0.280839       -0.261661   \n",
       "...              ...             ...             ...             ...   \n",
       "2211       -0.281773       -0.282705       -0.280839       -0.261661   \n",
       "2212       -0.281773       -0.282705       -0.280839        3.821732   \n",
       "2213       -0.281773        3.537258       -0.280839       -0.261661   \n",
       "2214       -0.281773       -0.282705       -0.280839       -0.261661   \n",
       "2215       -0.281773       -0.282705       -0.280839       -0.261661   \n",
       "\n",
       "      AcceptedCmp2_1  Complain_1  \n",
       "0          -0.117148   -0.097812  \n",
       "1          -0.117148   -0.097812  \n",
       "2          -0.117148   -0.097812  \n",
       "3          -0.117148   -0.097812  \n",
       "4          -0.117148   -0.097812  \n",
       "...              ...         ...  \n",
       "2211       -0.117148   -0.097812  \n",
       "2212       -0.117148   -0.097812  \n",
       "2213       -0.117148   -0.097812  \n",
       "2214       -0.117148   -0.097812  \n",
       "2215       -0.117148   -0.097812  \n",
       "\n",
       "[2216 rows x 34 columns]"
      ]
     },
     "execution_count": 148,
     "metadata": {},
     "output_type": "execute_result"
    }
   ],
   "source": [
    "x_scaled=pd.DataFrame(x_scaled,columns=x.columns)\n",
    "x_scaled"
   ]
  },
  {
   "cell_type": "code",
   "execution_count": 149,
   "metadata": {},
   "outputs": [],
   "source": [
    "from sklearn.linear_model import LogisticRegression"
   ]
  },
  {
   "cell_type": "code",
   "execution_count": 150,
   "metadata": {},
   "outputs": [],
   "source": [
    "log_rg=LogisticRegression()"
   ]
  },
  {
   "cell_type": "code",
   "execution_count": 151,
   "metadata": {},
   "outputs": [],
   "source": [
    "from sklearn.model_selection import train_test_split\n",
    "x_train,x_test,y_train,y_test=train_test_split(x_scaled,y,train_size=0.7,random_state=42)"
   ]
  },
  {
   "cell_type": "code",
   "execution_count": 152,
   "metadata": {},
   "outputs": [
    {
     "data": {
      "text/html": [
       "<style>#sk-container-id-4 {color: black;background-color: white;}#sk-container-id-4 pre{padding: 0;}#sk-container-id-4 div.sk-toggleable {background-color: white;}#sk-container-id-4 label.sk-toggleable__label {cursor: pointer;display: block;width: 100%;margin-bottom: 0;padding: 0.3em;box-sizing: border-box;text-align: center;}#sk-container-id-4 label.sk-toggleable__label-arrow:before {content: \"▸\";float: left;margin-right: 0.25em;color: #696969;}#sk-container-id-4 label.sk-toggleable__label-arrow:hover:before {color: black;}#sk-container-id-4 div.sk-estimator:hover label.sk-toggleable__label-arrow:before {color: black;}#sk-container-id-4 div.sk-toggleable__content {max-height: 0;max-width: 0;overflow: hidden;text-align: left;background-color: #f0f8ff;}#sk-container-id-4 div.sk-toggleable__content pre {margin: 0.2em;color: black;border-radius: 0.25em;background-color: #f0f8ff;}#sk-container-id-4 input.sk-toggleable__control:checked~div.sk-toggleable__content {max-height: 200px;max-width: 100%;overflow: auto;}#sk-container-id-4 input.sk-toggleable__control:checked~label.sk-toggleable__label-arrow:before {content: \"▾\";}#sk-container-id-4 div.sk-estimator input.sk-toggleable__control:checked~label.sk-toggleable__label {background-color: #d4ebff;}#sk-container-id-4 div.sk-label input.sk-toggleable__control:checked~label.sk-toggleable__label {background-color: #d4ebff;}#sk-container-id-4 input.sk-hidden--visually {border: 0;clip: rect(1px 1px 1px 1px);clip: rect(1px, 1px, 1px, 1px);height: 1px;margin: -1px;overflow: hidden;padding: 0;position: absolute;width: 1px;}#sk-container-id-4 div.sk-estimator {font-family: monospace;background-color: #f0f8ff;border: 1px dotted black;border-radius: 0.25em;box-sizing: border-box;margin-bottom: 0.5em;}#sk-container-id-4 div.sk-estimator:hover {background-color: #d4ebff;}#sk-container-id-4 div.sk-parallel-item::after {content: \"\";width: 100%;border-bottom: 1px solid gray;flex-grow: 1;}#sk-container-id-4 div.sk-label:hover label.sk-toggleable__label {background-color: #d4ebff;}#sk-container-id-4 div.sk-serial::before {content: \"\";position: absolute;border-left: 1px solid gray;box-sizing: border-box;top: 0;bottom: 0;left: 50%;z-index: 0;}#sk-container-id-4 div.sk-serial {display: flex;flex-direction: column;align-items: center;background-color: white;padding-right: 0.2em;padding-left: 0.2em;position: relative;}#sk-container-id-4 div.sk-item {position: relative;z-index: 1;}#sk-container-id-4 div.sk-parallel {display: flex;align-items: stretch;justify-content: center;background-color: white;position: relative;}#sk-container-id-4 div.sk-item::before, #sk-container-id-4 div.sk-parallel-item::before {content: \"\";position: absolute;border-left: 1px solid gray;box-sizing: border-box;top: 0;bottom: 0;left: 50%;z-index: -1;}#sk-container-id-4 div.sk-parallel-item {display: flex;flex-direction: column;z-index: 1;position: relative;background-color: white;}#sk-container-id-4 div.sk-parallel-item:first-child::after {align-self: flex-end;width: 50%;}#sk-container-id-4 div.sk-parallel-item:last-child::after {align-self: flex-start;width: 50%;}#sk-container-id-4 div.sk-parallel-item:only-child::after {width: 0;}#sk-container-id-4 div.sk-dashed-wrapped {border: 1px dashed gray;margin: 0 0.4em 0.5em 0.4em;box-sizing: border-box;padding-bottom: 0.4em;background-color: white;}#sk-container-id-4 div.sk-label label {font-family: monospace;font-weight: bold;display: inline-block;line-height: 1.2em;}#sk-container-id-4 div.sk-label-container {text-align: center;}#sk-container-id-4 div.sk-container {/* jupyter's `normalize.less` sets `[hidden] { display: none; }` but bootstrap.min.css set `[hidden] { display: none !important; }` so we also need the `!important` here to be able to override the default hidden behavior on the sphinx rendered scikit-learn.org. See: https://github.com/scikit-learn/scikit-learn/issues/21755 */display: inline-block !important;position: relative;}#sk-container-id-4 div.sk-text-repr-fallback {display: none;}</style><div id=\"sk-container-id-4\" class=\"sk-top-container\"><div class=\"sk-text-repr-fallback\"><pre>LogisticRegression()</pre><b>In a Jupyter environment, please rerun this cell to show the HTML representation or trust the notebook. <br />On GitHub, the HTML representation is unable to render, please try loading this page with nbviewer.org.</b></div><div class=\"sk-container\" hidden><div class=\"sk-item\"><div class=\"sk-estimator sk-toggleable\"><input class=\"sk-toggleable__control sk-hidden--visually\" id=\"sk-estimator-id-4\" type=\"checkbox\" checked><label for=\"sk-estimator-id-4\" class=\"sk-toggleable__label sk-toggleable__label-arrow\">LogisticRegression</label><div class=\"sk-toggleable__content\"><pre>LogisticRegression()</pre></div></div></div></div></div>"
      ],
      "text/plain": [
       "LogisticRegression()"
      ]
     },
     "execution_count": 152,
     "metadata": {},
     "output_type": "execute_result"
    }
   ],
   "source": [
    "log_rg.fit(x_train,y_train)"
   ]
  },
  {
   "cell_type": "code",
   "execution_count": 153,
   "metadata": {},
   "outputs": [],
   "source": [
    "y_pred=log_rg.predict(x_test)"
   ]
  },
  {
   "cell_type": "code",
   "execution_count": 154,
   "metadata": {},
   "outputs": [],
   "source": [
    "from sklearn.metrics import confusion_matrix\n",
    "from sklearn .metrics import roc_auc_score\n",
    "from sklearn.metrics import RocCurveDisplay"
   ]
  },
  {
   "cell_type": "code",
   "execution_count": 155,
   "metadata": {},
   "outputs": [
    {
     "data": {
      "text/plain": [
       "array([[544,  25],\n",
       "       [ 51,  45]], dtype=int64)"
      ]
     },
     "execution_count": 155,
     "metadata": {},
     "output_type": "execute_result"
    }
   ],
   "source": [
    "confusion_matrix(y_test,y_pred)"
   ]
  },
  {
   "cell_type": "code",
   "execution_count": 156,
   "metadata": {},
   "outputs": [
    {
     "name": "stdout",
     "output_type": "stream",
     "text": [
      "Auc for our sample data is 0.712\n"
     ]
    }
   ],
   "source": [
    "auc = np.round(roc_auc_score(y_test, y_pred), 3)\n",
    "print(\"Auc for our sample data is {}\".format(auc))"
   ]
  },
  {
   "cell_type": "code",
   "execution_count": 157,
   "metadata": {},
   "outputs": [
    {
     "data": {
      "image/png": "[encoded data removed]",
      "text/plain": [
       "<Figure size 640x480 with 1 Axes>"
      ]
     },
     "metadata": {},
     "output_type": "display_data"
    }
   ],
   "source": [
    "svc_disp = RocCurveDisplay.from_estimator(log_rg, x_test, y_test)\n",
    "plt.show()"
   ]
  },
  {
   "cell_type": "code",
   "execution_count": 158,
   "metadata": {},
   "outputs": [
    {
     "data": {
      "text/plain": [
       "Index(['Recency', 'MntMeatProducts', 'NumWebVisitsMonth',\n",
       "       'Marital_Status_Married', 'Marital_Status_Together', 'AcceptedCmp5_1'],\n",
       "      dtype='object')"
      ]
     },
     "execution_count": 158,
     "metadata": {},
     "output_type": "execute_result"
    }
   ],
   "source": [
    "from sklearn.feature_selection import RFE\n",
    "rfe_selector = RFE(estimator=LogisticRegression(),n_features_to_select = 6, step = 1)\n",
    "rfe_selector.fit(x_scaled, y)\n",
    "x_scaled.columns[rfe_selector.get_support()]"
   ]
  },
  {
   "cell_type": "code",
   "execution_count": 159,
   "metadata": {},
   "outputs": [],
   "source": [
    "x_scaled_red=x_scaled.loc[:,['Recency', 'MntMeatProducts', 'NumWebVisitsMonth','Marital_Status_Married', 'Marital_Status_Together', 'AcceptedCmp5_1']]"
   ]
  },
  {
   "cell_type": "code",
   "execution_count": 160,
   "metadata": {},
   "outputs": [
    {
     "data": {
      "text/plain": [
       "array([[556,  13],\n",
       "       [ 75,  21]], dtype=int64)"
      ]
     },
     "execution_count": 160,
     "metadata": {},
     "output_type": "execute_result"
    }
   ],
   "source": [
    "x_train,x_test,y_train,y_test=train_test_split(x_scaled_red,y,train_size=0.7,random_state=42)\n",
    "log_rg.fit(x_train,y_train)\n",
    "y_pred=log_rg.predict(x_test)\n",
    "confusion_matrix(y_test,y_pred)"
   ]
  },
  {
   "cell_type": "code",
   "execution_count": 161,
   "metadata": {},
   "outputs": [],
   "source": [
    "from sklearn .metrics import roc_auc_score"
   ]
  },
  {
   "cell_type": "code",
   "execution_count": 162,
   "metadata": {},
   "outputs": [
    {
     "name": "stdout",
     "output_type": "stream",
     "text": [
      "Auc for our sample data is 0.598\n"
     ]
    }
   ],
   "source": [
    "auc = np.round(roc_auc_score(y_test, y_pred), 3)\n",
    "print(\"Auc for our sample data is {}\".format(auc))"
   ]
  },
  {
   "cell_type": "code",
   "execution_count": null,
   "metadata": {},
   "outputs": [],
   "source": []
  },
  {
   "cell_type": "code",
   "execution_count": 163,
   "metadata": {},
   "outputs": [
    {
     "data": {
      "image/png": "[encoded data removed]",
      "text/plain": [
       "<Figure size 640x480 with 1 Axes>"
      ]
     },
     "metadata": {},
     "output_type": "display_data"
    }
   ],
   "source": [
    "svc_disp = RocCurveDisplay.from_estimator(log_rg, x_test, y_test)\n",
    "plt.show()"
   ]
  },
  {
   "cell_type": "code",
   "execution_count": null,
   "metadata": {},
   "outputs": [],
   "source": []
  }
 ],
 "metadata": {
  "kernelspec": {
   "display_name": "Python 3",
   "language": "python",
   "name": "python3"
  },
  "language_info": {
   "codemirror_mode": {
    "name": "ipython",
    "version": 3
   },
   "file_extension": ".py",
   "mimetype": "text/x-python",
   "name": "python",
   "nbconvert_exporter": "python",
   "pygments_lexer": "ipython3",
   "version": "3.10.10"
  },
  "orig_nbformat": 4
 },
 "nbformat": 4,
 "nbformat_minor": 2
}
